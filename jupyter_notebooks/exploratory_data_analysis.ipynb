{
 "cells": [
  {
   "cell_type": "markdown",
   "id": "d3cba714",
   "metadata": {},
   "source": [
    "### Exploratory Data Analysis\n",
    "This notebook provides an exploratory analysis of the cleaned Online Retail Transaction dataset. The goal is to uncover key patterns in customer behaviour, product performance, and sales trends to support analysis and dashboard development."
   ]
  },
  {
   "cell_type": "code",
   "execution_count": 2,
   "id": "c927e53d",
   "metadata": {},
   "outputs": [],
   "source": [
    "# Import necessary libraries\n",
    "import pandas as pd\n",
    "import plotly.express as px\n",
    "import plotly.graph_objects as go"
   ]
  },
  {
   "cell_type": "markdown",
   "id": "933d173d",
   "metadata": {},
   "source": [
    "Now let us import our cleaned dataset for analysis:"
   ]
  },
  {
   "cell_type": "code",
   "execution_count": 3,
   "id": "ca6bd6ed",
   "metadata": {},
   "outputs": [
    {
     "name": "stderr",
     "output_type": "stream",
     "text": [
      "C:\\Users\\hidde\\AppData\\Local\\Temp\\ipykernel_8344\\993137673.py:2: DtypeWarning: Columns (0) have mixed types. Specify dtype option on import or set low_memory=False.\n",
      "  df = pd.read_csv('../data/clean_data/online_retail_cleaned.csv')\n"
     ]
    },
    {
     "data": {
      "text/html": [
       "<div>\n",
       "<style scoped>\n",
       "    .dataframe tbody tr th:only-of-type {\n",
       "        vertical-align: middle;\n",
       "    }\n",
       "\n",
       "    .dataframe tbody tr th {\n",
       "        vertical-align: top;\n",
       "    }\n",
       "\n",
       "    .dataframe thead th {\n",
       "        text-align: right;\n",
       "    }\n",
       "</style>\n",
       "<table border=\"1\" class=\"dataframe\">\n",
       "  <thead>\n",
       "    <tr style=\"text-align: right;\">\n",
       "      <th></th>\n",
       "      <th>InvoiceNo</th>\n",
       "      <th>StockCode</th>\n",
       "      <th>Description</th>\n",
       "      <th>Quantity</th>\n",
       "      <th>InvoiceDate</th>\n",
       "      <th>UnitPrice</th>\n",
       "      <th>CustomerID</th>\n",
       "      <th>Country</th>\n",
       "      <th>TotalPrice</th>\n",
       "      <th>Year</th>\n",
       "      <th>Month</th>\n",
       "      <th>DayOfWeek</th>\n",
       "      <th>Hour</th>\n",
       "      <th>Date</th>\n",
       "    </tr>\n",
       "  </thead>\n",
       "  <tbody>\n",
       "    <tr>\n",
       "      <th>0</th>\n",
       "      <td>536365</td>\n",
       "      <td>85123A</td>\n",
       "      <td>WHITE HANGING HEART T-LIGHT HOLDER</td>\n",
       "      <td>6</td>\n",
       "      <td>2010-12-01 08:26:00</td>\n",
       "      <td>2.55</td>\n",
       "      <td>17850</td>\n",
       "      <td>United Kingdom</td>\n",
       "      <td>15.30</td>\n",
       "      <td>2010</td>\n",
       "      <td>12</td>\n",
       "      <td>Wednesday</td>\n",
       "      <td>8</td>\n",
       "      <td>2010-12-01</td>\n",
       "    </tr>\n",
       "    <tr>\n",
       "      <th>1</th>\n",
       "      <td>536365</td>\n",
       "      <td>71053</td>\n",
       "      <td>WHITE METAL LANTERN</td>\n",
       "      <td>6</td>\n",
       "      <td>2010-12-01 08:26:00</td>\n",
       "      <td>3.39</td>\n",
       "      <td>17850</td>\n",
       "      <td>United Kingdom</td>\n",
       "      <td>20.34</td>\n",
       "      <td>2010</td>\n",
       "      <td>12</td>\n",
       "      <td>Wednesday</td>\n",
       "      <td>8</td>\n",
       "      <td>2010-12-01</td>\n",
       "    </tr>\n",
       "    <tr>\n",
       "      <th>2</th>\n",
       "      <td>536365</td>\n",
       "      <td>84406B</td>\n",
       "      <td>CREAM CUPID HEARTS COAT HANGER</td>\n",
       "      <td>8</td>\n",
       "      <td>2010-12-01 08:26:00</td>\n",
       "      <td>2.75</td>\n",
       "      <td>17850</td>\n",
       "      <td>United Kingdom</td>\n",
       "      <td>22.00</td>\n",
       "      <td>2010</td>\n",
       "      <td>12</td>\n",
       "      <td>Wednesday</td>\n",
       "      <td>8</td>\n",
       "      <td>2010-12-01</td>\n",
       "    </tr>\n",
       "    <tr>\n",
       "      <th>3</th>\n",
       "      <td>536365</td>\n",
       "      <td>84029G</td>\n",
       "      <td>KNITTED UNION FLAG HOT WATER BOTTLE</td>\n",
       "      <td>6</td>\n",
       "      <td>2010-12-01 08:26:00</td>\n",
       "      <td>3.39</td>\n",
       "      <td>17850</td>\n",
       "      <td>United Kingdom</td>\n",
       "      <td>20.34</td>\n",
       "      <td>2010</td>\n",
       "      <td>12</td>\n",
       "      <td>Wednesday</td>\n",
       "      <td>8</td>\n",
       "      <td>2010-12-01</td>\n",
       "    </tr>\n",
       "    <tr>\n",
       "      <th>4</th>\n",
       "      <td>536365</td>\n",
       "      <td>84029E</td>\n",
       "      <td>RED WOOLLY HOTTIE WHITE HEART.</td>\n",
       "      <td>6</td>\n",
       "      <td>2010-12-01 08:26:00</td>\n",
       "      <td>3.39</td>\n",
       "      <td>17850</td>\n",
       "      <td>United Kingdom</td>\n",
       "      <td>20.34</td>\n",
       "      <td>2010</td>\n",
       "      <td>12</td>\n",
       "      <td>Wednesday</td>\n",
       "      <td>8</td>\n",
       "      <td>2010-12-01</td>\n",
       "    </tr>\n",
       "  </tbody>\n",
       "</table>\n",
       "</div>"
      ],
      "text/plain": [
       "  InvoiceNo StockCode                          Description  Quantity  \\\n",
       "0    536365    85123A   WHITE HANGING HEART T-LIGHT HOLDER         6   \n",
       "1    536365     71053                  WHITE METAL LANTERN         6   \n",
       "2    536365    84406B       CREAM CUPID HEARTS COAT HANGER         8   \n",
       "3    536365    84029G  KNITTED UNION FLAG HOT WATER BOTTLE         6   \n",
       "4    536365    84029E       RED WOOLLY HOTTIE WHITE HEART.         6   \n",
       "\n",
       "           InvoiceDate  UnitPrice  CustomerID         Country  TotalPrice  \\\n",
       "0  2010-12-01 08:26:00       2.55       17850  United Kingdom       15.30   \n",
       "1  2010-12-01 08:26:00       3.39       17850  United Kingdom       20.34   \n",
       "2  2010-12-01 08:26:00       2.75       17850  United Kingdom       22.00   \n",
       "3  2010-12-01 08:26:00       3.39       17850  United Kingdom       20.34   \n",
       "4  2010-12-01 08:26:00       3.39       17850  United Kingdom       20.34   \n",
       "\n",
       "   Year  Month  DayOfWeek  Hour        Date  \n",
       "0  2010     12  Wednesday     8  2010-12-01  \n",
       "1  2010     12  Wednesday     8  2010-12-01  \n",
       "2  2010     12  Wednesday     8  2010-12-01  \n",
       "3  2010     12  Wednesday     8  2010-12-01  \n",
       "4  2010     12  Wednesday     8  2010-12-01  "
      ]
     },
     "execution_count": 3,
     "metadata": {},
     "output_type": "execute_result"
    }
   ],
   "source": [
    "# Import the cleaned dataset\n",
    "df = pd.read_csv('../data/clean_data/online_retail_cleaned.csv')\n",
    "# Display the first few rows of the dataset\n",
    "df.head()"
   ]
  },
  {
   "cell_type": "markdown",
   "id": "db106797",
   "metadata": {},
   "source": [
    "The first stage of our analysis is to look at total revenue over time. \n",
    "We can do this by plotting an initial line chart visualisation. "
   ]
  },
  {
   "cell_type": "code",
   "execution_count": 4,
   "id": "0e84837d",
   "metadata": {},
   "outputs": [
    {
     "data": {
      "application/vnd.plotly.v1+json": {
       "config": {
        "plotlyServerURL": "https://plot.ly"
       },
       "data": [
        {
         "hovertemplate": "Date=%{x}<br>TotalPrice=%{y}<extra></extra>",
         "legendgroup": "",
         "line": {
          "color": "#636efa",
          "dash": "solid"
         },
         "marker": {
          "symbol": "circle"
         },
         "mode": "lines",
         "name": "",
         "orientation": "v",
         "showlegend": false,
         "type": "scatter",
         "x": [
          "2010-12-01",
          "2010-12-02",
          "2010-12-03",
          "2010-12-05",
          "2010-12-06",
          "2010-12-07",
          "2010-12-08",
          "2010-12-09",
          "2010-12-10",
          "2010-12-12",
          "2010-12-13",
          "2010-12-14",
          "2010-12-15",
          "2010-12-16",
          "2010-12-17",
          "2010-12-19",
          "2010-12-20",
          "2010-12-21",
          "2010-12-22",
          "2010-12-23",
          "2011-01-04",
          "2011-01-05",
          "2011-01-06",
          "2011-01-07",
          "2011-01-09",
          "2011-01-10",
          "2011-01-11",
          "2011-01-12",
          "2011-01-13",
          "2011-01-14",
          "2011-01-16",
          "2011-01-17",
          "2011-01-18",
          "2011-01-19",
          "2011-01-20",
          "2011-01-21",
          "2011-01-23",
          "2011-01-24",
          "2011-01-25",
          "2011-01-26",
          "2011-01-27",
          "2011-01-28",
          "2011-01-30",
          "2011-01-31",
          "2011-02-01",
          "2011-02-02",
          "2011-02-03",
          "2011-02-04",
          "2011-02-06",
          "2011-02-07",
          "2011-02-08",
          "2011-02-09",
          "2011-02-10",
          "2011-02-11",
          "2011-02-13",
          "2011-02-14",
          "2011-02-15",
          "2011-02-16",
          "2011-02-17",
          "2011-02-18",
          "2011-02-20",
          "2011-02-21",
          "2011-02-22",
          "2011-02-23",
          "2011-02-24",
          "2011-02-25",
          "2011-02-27",
          "2011-02-28",
          "2011-03-01",
          "2011-03-02",
          "2011-03-03",
          "2011-03-04",
          "2011-03-06",
          "2011-03-07",
          "2011-03-08",
          "2011-03-09",
          "2011-03-10",
          "2011-03-11",
          "2011-03-13",
          "2011-03-14",
          "2011-03-15",
          "2011-03-16",
          "2011-03-17",
          "2011-03-18",
          "2011-03-20",
          "2011-03-21",
          "2011-03-22",
          "2011-03-23",
          "2011-03-24",
          "2011-03-25",
          "2011-03-27",
          "2011-03-28",
          "2011-03-29",
          "2011-03-30",
          "2011-03-31",
          "2011-04-01",
          "2011-04-03",
          "2011-04-04",
          "2011-04-05",
          "2011-04-06",
          "2011-04-07",
          "2011-04-08",
          "2011-04-10",
          "2011-04-11",
          "2011-04-12",
          "2011-04-13",
          "2011-04-14",
          "2011-04-15",
          "2011-04-17",
          "2011-04-18",
          "2011-04-19",
          "2011-04-20",
          "2011-04-21",
          "2011-04-26",
          "2011-04-27",
          "2011-04-28",
          "2011-05-01",
          "2011-05-03",
          "2011-05-04",
          "2011-05-05",
          "2011-05-06",
          "2011-05-08",
          "2011-05-09",
          "2011-05-10",
          "2011-05-11",
          "2011-05-12",
          "2011-05-13",
          "2011-05-15",
          "2011-05-16",
          "2011-05-17",
          "2011-05-18",
          "2011-05-19",
          "2011-05-20",
          "2011-05-22",
          "2011-05-23",
          "2011-05-24",
          "2011-05-25",
          "2011-05-26",
          "2011-05-27",
          "2011-05-29",
          "2011-05-31",
          "2011-06-01",
          "2011-06-02",
          "2011-06-03",
          "2011-06-05",
          "2011-06-06",
          "2011-06-07",
          "2011-06-08",
          "2011-06-09",
          "2011-06-10",
          "2011-06-12",
          "2011-06-13",
          "2011-06-14",
          "2011-06-15",
          "2011-06-16",
          "2011-06-17",
          "2011-06-19",
          "2011-06-20",
          "2011-06-21",
          "2011-06-22",
          "2011-06-23",
          "2011-06-24",
          "2011-06-26",
          "2011-06-27",
          "2011-06-28",
          "2011-06-29",
          "2011-06-30",
          "2011-07-01",
          "2011-07-03",
          "2011-07-04",
          "2011-07-05",
          "2011-07-06",
          "2011-07-07",
          "2011-07-08",
          "2011-07-10",
          "2011-07-11",
          "2011-07-12",
          "2011-07-13",
          "2011-07-14",
          "2011-07-15",
          "2011-07-17",
          "2011-07-18",
          "2011-07-19",
          "2011-07-20",
          "2011-07-21",
          "2011-07-22",
          "2011-07-24",
          "2011-07-25",
          "2011-07-26",
          "2011-07-27",
          "2011-07-28",
          "2011-07-29",
          "2011-07-31",
          "2011-08-01",
          "2011-08-02",
          "2011-08-03",
          "2011-08-04",
          "2011-08-05",
          "2011-08-07",
          "2011-08-08",
          "2011-08-09",
          "2011-08-10",
          "2011-08-11",
          "2011-08-12",
          "2011-08-14",
          "2011-08-15",
          "2011-08-16",
          "2011-08-17",
          "2011-08-18",
          "2011-08-19",
          "2011-08-21",
          "2011-08-22",
          "2011-08-23",
          "2011-08-24",
          "2011-08-25",
          "2011-08-26",
          "2011-08-28",
          "2011-08-30",
          "2011-08-31",
          "2011-09-01",
          "2011-09-02",
          "2011-09-04",
          "2011-09-05",
          "2011-09-06",
          "2011-09-07",
          "2011-09-08",
          "2011-09-09",
          "2011-09-11",
          "2011-09-12",
          "2011-09-13",
          "2011-09-14",
          "2011-09-15",
          "2011-09-16",
          "2011-09-18",
          "2011-09-19",
          "2011-09-20",
          "2011-09-21",
          "2011-09-22",
          "2011-09-23",
          "2011-09-25",
          "2011-09-26",
          "2011-09-27",
          "2011-09-28",
          "2011-09-29",
          "2011-09-30",
          "2011-10-02",
          "2011-10-03",
          "2011-10-04",
          "2011-10-05",
          "2011-10-06",
          "2011-10-07",
          "2011-10-09",
          "2011-10-10",
          "2011-10-11",
          "2011-10-12",
          "2011-10-13",
          "2011-10-14",
          "2011-10-16",
          "2011-10-17",
          "2011-10-18",
          "2011-10-19",
          "2011-10-20",
          "2011-10-21",
          "2011-10-23",
          "2011-10-24",
          "2011-10-25",
          "2011-10-26",
          "2011-10-27",
          "2011-10-28",
          "2011-10-30",
          "2011-10-31",
          "2011-11-01",
          "2011-11-02",
          "2011-11-03",
          "2011-11-04",
          "2011-11-06",
          "2011-11-07",
          "2011-11-08",
          "2011-11-09",
          "2011-11-10",
          "2011-11-11",
          "2011-11-13",
          "2011-11-14",
          "2011-11-15",
          "2011-11-16",
          "2011-11-17",
          "2011-11-18",
          "2011-11-20",
          "2011-11-21",
          "2011-11-22",
          "2011-11-23",
          "2011-11-24",
          "2011-11-25",
          "2011-11-27",
          "2011-11-28",
          "2011-11-29",
          "2011-11-30",
          "2011-12-01",
          "2011-12-02",
          "2011-12-04",
          "2011-12-05",
          "2011-12-06",
          "2011-12-07",
          "2011-12-08",
          "2011-12-09"
         ],
         "xaxis": "x",
         "y": {
          "bdata": "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",
          "dtype": "f8"
         },
         "yaxis": "y"
        }
       ],
       "layout": {
        "legend": {
         "tracegroupgap": 0
        },
        "template": {
         "data": {
          "bar": [
           {
            "error_x": {
             "color": "#2a3f5f"
            },
            "error_y": {
             "color": "#2a3f5f"
            },
            "marker": {
             "line": {
              "color": "#E5ECF6",
              "width": 0.5
             },
             "pattern": {
              "fillmode": "overlay",
              "size": 10,
              "solidity": 0.2
             }
            },
            "type": "bar"
           }
          ],
          "barpolar": [
           {
            "marker": {
             "line": {
              "color": "#E5ECF6",
              "width": 0.5
             },
             "pattern": {
              "fillmode": "overlay",
              "size": 10,
              "solidity": 0.2
             }
            },
            "type": "barpolar"
           }
          ],
          "carpet": [
           {
            "aaxis": {
             "endlinecolor": "#2a3f5f",
             "gridcolor": "white",
             "linecolor": "white",
             "minorgridcolor": "white",
             "startlinecolor": "#2a3f5f"
            },
            "baxis": {
             "endlinecolor": "#2a3f5f",
             "gridcolor": "white",
             "linecolor": "white",
             "minorgridcolor": "white",
             "startlinecolor": "#2a3f5f"
            },
            "type": "carpet"
           }
          ],
          "choropleth": [
           {
            "colorbar": {
             "outlinewidth": 0,
             "ticks": ""
            },
            "type": "choropleth"
           }
          ],
          "contour": [
           {
            "colorbar": {
             "outlinewidth": 0,
             "ticks": ""
            },
            "colorscale": [
             [
              0,
              "#0d0887"
             ],
             [
              0.1111111111111111,
              "#46039f"
             ],
             [
              0.2222222222222222,
              "#7201a8"
             ],
             [
              0.3333333333333333,
              "#9c179e"
             ],
             [
              0.4444444444444444,
              "#bd3786"
             ],
             [
              0.5555555555555556,
              "#d8576b"
             ],
             [
              0.6666666666666666,
              "#ed7953"
             ],
             [
              0.7777777777777778,
              "#fb9f3a"
             ],
             [
              0.8888888888888888,
              "#fdca26"
             ],
             [
              1,
              "#f0f921"
             ]
            ],
            "type": "contour"
           }
          ],
          "contourcarpet": [
           {
            "colorbar": {
             "outlinewidth": 0,
             "ticks": ""
            },
            "type": "contourcarpet"
           }
          ],
          "heatmap": [
           {
            "colorbar": {
             "outlinewidth": 0,
             "ticks": ""
            },
            "colorscale": [
             [
              0,
              "#0d0887"
             ],
             [
              0.1111111111111111,
              "#46039f"
             ],
             [
              0.2222222222222222,
              "#7201a8"
             ],
             [
              0.3333333333333333,
              "#9c179e"
             ],
             [
              0.4444444444444444,
              "#bd3786"
             ],
             [
              0.5555555555555556,
              "#d8576b"
             ],
             [
              0.6666666666666666,
              "#ed7953"
             ],
             [
              0.7777777777777778,
              "#fb9f3a"
             ],
             [
              0.8888888888888888,
              "#fdca26"
             ],
             [
              1,
              "#f0f921"
             ]
            ],
            "type": "heatmap"
           }
          ],
          "histogram": [
           {
            "marker": {
             "pattern": {
              "fillmode": "overlay",
              "size": 10,
              "solidity": 0.2
             }
            },
            "type": "histogram"
           }
          ],
          "histogram2d": [
           {
            "colorbar": {
             "outlinewidth": 0,
             "ticks": ""
            },
            "colorscale": [
             [
              0,
              "#0d0887"
             ],
             [
              0.1111111111111111,
              "#46039f"
             ],
             [
              0.2222222222222222,
              "#7201a8"
             ],
             [
              0.3333333333333333,
              "#9c179e"
             ],
             [
              0.4444444444444444,
              "#bd3786"
             ],
             [
              0.5555555555555556,
              "#d8576b"
             ],
             [
              0.6666666666666666,
              "#ed7953"
             ],
             [
              0.7777777777777778,
              "#fb9f3a"
             ],
             [
              0.8888888888888888,
              "#fdca26"
             ],
             [
              1,
              "#f0f921"
             ]
            ],
            "type": "histogram2d"
           }
          ],
          "histogram2dcontour": [
           {
            "colorbar": {
             "outlinewidth": 0,
             "ticks": ""
            },
            "colorscale": [
             [
              0,
              "#0d0887"
             ],
             [
              0.1111111111111111,
              "#46039f"
             ],
             [
              0.2222222222222222,
              "#7201a8"
             ],
             [
              0.3333333333333333,
              "#9c179e"
             ],
             [
              0.4444444444444444,
              "#bd3786"
             ],
             [
              0.5555555555555556,
              "#d8576b"
             ],
             [
              0.6666666666666666,
              "#ed7953"
             ],
             [
              0.7777777777777778,
              "#fb9f3a"
             ],
             [
              0.8888888888888888,
              "#fdca26"
             ],
             [
              1,
              "#f0f921"
             ]
            ],
            "type": "histogram2dcontour"
           }
          ],
          "mesh3d": [
           {
            "colorbar": {
             "outlinewidth": 0,
             "ticks": ""
            },
            "type": "mesh3d"
           }
          ],
          "parcoords": [
           {
            "line": {
             "colorbar": {
              "outlinewidth": 0,
              "ticks": ""
             }
            },
            "type": "parcoords"
           }
          ],
          "pie": [
           {
            "automargin": true,
            "type": "pie"
           }
          ],
          "scatter": [
           {
            "fillpattern": {
             "fillmode": "overlay",
             "size": 10,
             "solidity": 0.2
            },
            "type": "scatter"
           }
          ],
          "scatter3d": [
           {
            "line": {
             "colorbar": {
              "outlinewidth": 0,
              "ticks": ""
             }
            },
            "marker": {
             "colorbar": {
              "outlinewidth": 0,
              "ticks": ""
             }
            },
            "type": "scatter3d"
           }
          ],
          "scattercarpet": [
           {
            "marker": {
             "colorbar": {
              "outlinewidth": 0,
              "ticks": ""
             }
            },
            "type": "scattercarpet"
           }
          ],
          "scattergeo": [
           {
            "marker": {
             "colorbar": {
              "outlinewidth": 0,
              "ticks": ""
             }
            },
            "type": "scattergeo"
           }
          ],
          "scattergl": [
           {
            "marker": {
             "colorbar": {
              "outlinewidth": 0,
              "ticks": ""
             }
            },
            "type": "scattergl"
           }
          ],
          "scattermap": [
           {
            "marker": {
             "colorbar": {
              "outlinewidth": 0,
              "ticks": ""
             }
            },
            "type": "scattermap"
           }
          ],
          "scattermapbox": [
           {
            "marker": {
             "colorbar": {
              "outlinewidth": 0,
              "ticks": ""
             }
            },
            "type": "scattermapbox"
           }
          ],
          "scatterpolar": [
           {
            "marker": {
             "colorbar": {
              "outlinewidth": 0,
              "ticks": ""
             }
            },
            "type": "scatterpolar"
           }
          ],
          "scatterpolargl": [
           {
            "marker": {
             "colorbar": {
              "outlinewidth": 0,
              "ticks": ""
             }
            },
            "type": "scatterpolargl"
           }
          ],
          "scatterternary": [
           {
            "marker": {
             "colorbar": {
              "outlinewidth": 0,
              "ticks": ""
             }
            },
            "type": "scatterternary"
           }
          ],
          "surface": [
           {
            "colorbar": {
             "outlinewidth": 0,
             "ticks": ""
            },
            "colorscale": [
             [
              0,
              "#0d0887"
             ],
             [
              0.1111111111111111,
              "#46039f"
             ],
             [
              0.2222222222222222,
              "#7201a8"
             ],
             [
              0.3333333333333333,
              "#9c179e"
             ],
             [
              0.4444444444444444,
              "#bd3786"
             ],
             [
              0.5555555555555556,
              "#d8576b"
             ],
             [
              0.6666666666666666,
              "#ed7953"
             ],
             [
              0.7777777777777778,
              "#fb9f3a"
             ],
             [
              0.8888888888888888,
              "#fdca26"
             ],
             [
              1,
              "#f0f921"
             ]
            ],
            "type": "surface"
           }
          ],
          "table": [
           {
            "cells": {
             "fill": {
              "color": "#EBF0F8"
             },
             "line": {
              "color": "white"
             }
            },
            "header": {
             "fill": {
              "color": "#C8D4E3"
             },
             "line": {
              "color": "white"
             }
            },
            "type": "table"
           }
          ]
         },
         "layout": {
          "annotationdefaults": {
           "arrowcolor": "#2a3f5f",
           "arrowhead": 0,
           "arrowwidth": 1
          },
          "autotypenumbers": "strict",
          "coloraxis": {
           "colorbar": {
            "outlinewidth": 0,
            "ticks": ""
           }
          },
          "colorscale": {
           "diverging": [
            [
             0,
             "#8e0152"
            ],
            [
             0.1,
             "#c51b7d"
            ],
            [
             0.2,
             "#de77ae"
            ],
            [
             0.3,
             "#f1b6da"
            ],
            [
             0.4,
             "#fde0ef"
            ],
            [
             0.5,
             "#f7f7f7"
            ],
            [
             0.6,
             "#e6f5d0"
            ],
            [
             0.7,
             "#b8e186"
            ],
            [
             0.8,
             "#7fbc41"
            ],
            [
             0.9,
             "#4d9221"
            ],
            [
             1,
             "#276419"
            ]
           ],
           "sequential": [
            [
             0,
             "#0d0887"
            ],
            [
             0.1111111111111111,
             "#46039f"
            ],
            [
             0.2222222222222222,
             "#7201a8"
            ],
            [
             0.3333333333333333,
             "#9c179e"
            ],
            [
             0.4444444444444444,
             "#bd3786"
            ],
            [
             0.5555555555555556,
             "#d8576b"
            ],
            [
             0.6666666666666666,
             "#ed7953"
            ],
            [
             0.7777777777777778,
             "#fb9f3a"
            ],
            [
             0.8888888888888888,
             "#fdca26"
            ],
            [
             1,
             "#f0f921"
            ]
           ],
           "sequentialminus": [
            [
             0,
             "#0d0887"
            ],
            [
             0.1111111111111111,
             "#46039f"
            ],
            [
             0.2222222222222222,
             "#7201a8"
            ],
            [
             0.3333333333333333,
             "#9c179e"
            ],
            [
             0.4444444444444444,
             "#bd3786"
            ],
            [
             0.5555555555555556,
             "#d8576b"
            ],
            [
             0.6666666666666666,
             "#ed7953"
            ],
            [
             0.7777777777777778,
             "#fb9f3a"
            ],
            [
             0.8888888888888888,
             "#fdca26"
            ],
            [
             1,
             "#f0f921"
            ]
           ]
          },
          "colorway": [
           "#636efa",
           "#EF553B",
           "#00cc96",
           "#ab63fa",
           "#FFA15A",
           "#19d3f3",
           "#FF6692",
           "#B6E880",
           "#FF97FF",
           "#FECB52"
          ],
          "font": {
           "color": "#2a3f5f"
          },
          "geo": {
           "bgcolor": "white",
           "lakecolor": "white",
           "landcolor": "#E5ECF6",
           "showlakes": true,
           "showland": true,
           "subunitcolor": "white"
          },
          "hoverlabel": {
           "align": "left"
          },
          "hovermode": "closest",
          "mapbox": {
           "style": "light"
          },
          "paper_bgcolor": "white",
          "plot_bgcolor": "#E5ECF6",
          "polar": {
           "angularaxis": {
            "gridcolor": "white",
            "linecolor": "white",
            "ticks": ""
           },
           "bgcolor": "#E5ECF6",
           "radialaxis": {
            "gridcolor": "white",
            "linecolor": "white",
            "ticks": ""
           }
          },
          "scene": {
           "xaxis": {
            "backgroundcolor": "#E5ECF6",
            "gridcolor": "white",
            "gridwidth": 2,
            "linecolor": "white",
            "showbackground": true,
            "ticks": "",
            "zerolinecolor": "white"
           },
           "yaxis": {
            "backgroundcolor": "#E5ECF6",
            "gridcolor": "white",
            "gridwidth": 2,
            "linecolor": "white",
            "showbackground": true,
            "ticks": "",
            "zerolinecolor": "white"
           },
           "zaxis": {
            "backgroundcolor": "#E5ECF6",
            "gridcolor": "white",
            "gridwidth": 2,
            "linecolor": "white",
            "showbackground": true,
            "ticks": "",
            "zerolinecolor": "white"
           }
          },
          "shapedefaults": {
           "line": {
            "color": "#2a3f5f"
           }
          },
          "ternary": {
           "aaxis": {
            "gridcolor": "white",
            "linecolor": "white",
            "ticks": ""
           },
           "baxis": {
            "gridcolor": "white",
            "linecolor": "white",
            "ticks": ""
           },
           "bgcolor": "#E5ECF6",
           "caxis": {
            "gridcolor": "white",
            "linecolor": "white",
            "ticks": ""
           }
          },
          "title": {
           "x": 0.05
          },
          "xaxis": {
           "automargin": true,
           "gridcolor": "white",
           "linecolor": "white",
           "ticks": "",
           "title": {
            "standoff": 15
           },
           "zerolinecolor": "white",
           "zerolinewidth": 2
          },
          "yaxis": {
           "automargin": true,
           "gridcolor": "white",
           "linecolor": "white",
           "ticks": "",
           "title": {
            "standoff": 15
           },
           "zerolinecolor": "white",
           "zerolinewidth": 2
          }
         }
        },
        "title": {
         "text": "Daily Sales Revenue"
        },
        "xaxis": {
         "anchor": "y",
         "domain": [
          0,
          1
         ],
         "title": {
          "text": "Date"
         }
        },
        "yaxis": {
         "anchor": "x",
         "domain": [
          0,
          1
         ],
         "title": {
          "text": "TotalPrice"
         }
        }
       }
      }
     },
     "metadata": {},
     "output_type": "display_data"
    }
   ],
   "source": [
    "daily_sales = df.groupby('Date')['TotalPrice'].sum().reset_index()\n",
    "\n",
    "fig = px.line(daily_sales, x='Date', y='TotalPrice', title='Daily Sales Revenue')\n",
    "fig.show()"
   ]
  },
  {
   "cell_type": "markdown",
   "id": "1b9529b8",
   "metadata": {},
   "source": [
    "This first plot shows our Daily Sales Revenue over time. As we can see, it has a very 'spiky' appearance. In order to help combat this, it can be useful to add a rolling average line to the plot to help us smooth out the plot so that we can see changes over time more effectively. "
   ]
  },
  {
   "cell_type": "code",
   "execution_count": 5,
   "id": "55496483",
   "metadata": {},
   "outputs": [
    {
     "data": {
      "application/vnd.plotly.v1+json": {
       "config": {
        "plotlyServerURL": "https://plot.ly"
       },
       "data": [
        {
         "hovertemplate": "Line=TotalPrice<br>Date=%{x}<br>Revenue=%{y}<extra></extra>",
         "legendgroup": "TotalPrice",
         "line": {
          "color": "#636efa",
          "dash": "solid"
         },
         "marker": {
          "symbol": "circle"
         },
         "mode": "lines",
         "name": "TotalPrice",
         "orientation": "v",
         "showlegend": true,
         "type": "scatter",
         "x": [
          "2010-12-01",
          "2010-12-02",
          "2010-12-03",
          "2010-12-05",
          "2010-12-06",
          "2010-12-07",
          "2010-12-08",
          "2010-12-09",
          "2010-12-10",
          "2010-12-12",
          "2010-12-13",
          "2010-12-14",
          "2010-12-15",
          "2010-12-16",
          "2010-12-17",
          "2010-12-19",
          "2010-12-20",
          "2010-12-21",
          "2010-12-22",
          "2010-12-23",
          "2011-01-04",
          "2011-01-05",
          "2011-01-06",
          "2011-01-07",
          "2011-01-09",
          "2011-01-10",
          "2011-01-11",
          "2011-01-12",
          "2011-01-13",
          "2011-01-14",
          "2011-01-16",
          "2011-01-17",
          "2011-01-18",
          "2011-01-19",
          "2011-01-20",
          "2011-01-21",
          "2011-01-23",
          "2011-01-24",
          "2011-01-25",
          "2011-01-26",
          "2011-01-27",
          "2011-01-28",
          "2011-01-30",
          "2011-01-31",
          "2011-02-01",
          "2011-02-02",
          "2011-02-03",
          "2011-02-04",
          "2011-02-06",
          "2011-02-07",
          "2011-02-08",
          "2011-02-09",
          "2011-02-10",
          "2011-02-11",
          "2011-02-13",
          "2011-02-14",
          "2011-02-15",
          "2011-02-16",
          "2011-02-17",
          "2011-02-18",
          "2011-02-20",
          "2011-02-21",
          "2011-02-22",
          "2011-02-23",
          "2011-02-24",
          "2011-02-25",
          "2011-02-27",
          "2011-02-28",
          "2011-03-01",
          "2011-03-02",
          "2011-03-03",
          "2011-03-04",
          "2011-03-06",
          "2011-03-07",
          "2011-03-08",
          "2011-03-09",
          "2011-03-10",
          "2011-03-11",
          "2011-03-13",
          "2011-03-14",
          "2011-03-15",
          "2011-03-16",
          "2011-03-17",
          "2011-03-18",
          "2011-03-20",
          "2011-03-21",
          "2011-03-22",
          "2011-03-23",
          "2011-03-24",
          "2011-03-25",
          "2011-03-27",
          "2011-03-28",
          "2011-03-29",
          "2011-03-30",
          "2011-03-31",
          "2011-04-01",
          "2011-04-03",
          "2011-04-04",
          "2011-04-05",
          "2011-04-06",
          "2011-04-07",
          "2011-04-08",
          "2011-04-10",
          "2011-04-11",
          "2011-04-12",
          "2011-04-13",
          "2011-04-14",
          "2011-04-15",
          "2011-04-17",
          "2011-04-18",
          "2011-04-19",
          "2011-04-20",
          "2011-04-21",
          "2011-04-26",
          "2011-04-27",
          "2011-04-28",
          "2011-05-01",
          "2011-05-03",
          "2011-05-04",
          "2011-05-05",
          "2011-05-06",
          "2011-05-08",
          "2011-05-09",
          "2011-05-10",
          "2011-05-11",
          "2011-05-12",
          "2011-05-13",
          "2011-05-15",
          "2011-05-16",
          "2011-05-17",
          "2011-05-18",
          "2011-05-19",
          "2011-05-20",
          "2011-05-22",
          "2011-05-23",
          "2011-05-24",
          "2011-05-25",
          "2011-05-26",
          "2011-05-27",
          "2011-05-29",
          "2011-05-31",
          "2011-06-01",
          "2011-06-02",
          "2011-06-03",
          "2011-06-05",
          "2011-06-06",
          "2011-06-07",
          "2011-06-08",
          "2011-06-09",
          "2011-06-10",
          "2011-06-12",
          "2011-06-13",
          "2011-06-14",
          "2011-06-15",
          "2011-06-16",
          "2011-06-17",
          "2011-06-19",
          "2011-06-20",
          "2011-06-21",
          "2011-06-22",
          "2011-06-23",
          "2011-06-24",
          "2011-06-26",
          "2011-06-27",
          "2011-06-28",
          "2011-06-29",
          "2011-06-30",
          "2011-07-01",
          "2011-07-03",
          "2011-07-04",
          "2011-07-05",
          "2011-07-06",
          "2011-07-07",
          "2011-07-08",
          "2011-07-10",
          "2011-07-11",
          "2011-07-12",
          "2011-07-13",
          "2011-07-14",
          "2011-07-15",
          "2011-07-17",
          "2011-07-18",
          "2011-07-19",
          "2011-07-20",
          "2011-07-21",
          "2011-07-22",
          "2011-07-24",
          "2011-07-25",
          "2011-07-26",
          "2011-07-27",
          "2011-07-28",
          "2011-07-29",
          "2011-07-31",
          "2011-08-01",
          "2011-08-02",
          "2011-08-03",
          "2011-08-04",
          "2011-08-05",
          "2011-08-07",
          "2011-08-08",
          "2011-08-09",
          "2011-08-10",
          "2011-08-11",
          "2011-08-12",
          "2011-08-14",
          "2011-08-15",
          "2011-08-16",
          "2011-08-17",
          "2011-08-18",
          "2011-08-19",
          "2011-08-21",
          "2011-08-22",
          "2011-08-23",
          "2011-08-24",
          "2011-08-25",
          "2011-08-26",
          "2011-08-28",
          "2011-08-30",
          "2011-08-31",
          "2011-09-01",
          "2011-09-02",
          "2011-09-04",
          "2011-09-05",
          "2011-09-06",
          "2011-09-07",
          "2011-09-08",
          "2011-09-09",
          "2011-09-11",
          "2011-09-12",
          "2011-09-13",
          "2011-09-14",
          "2011-09-15",
          "2011-09-16",
          "2011-09-18",
          "2011-09-19",
          "2011-09-20",
          "2011-09-21",
          "2011-09-22",
          "2011-09-23",
          "2011-09-25",
          "2011-09-26",
          "2011-09-27",
          "2011-09-28",
          "2011-09-29",
          "2011-09-30",
          "2011-10-02",
          "2011-10-03",
          "2011-10-04",
          "2011-10-05",
          "2011-10-06",
          "2011-10-07",
          "2011-10-09",
          "2011-10-10",
          "2011-10-11",
          "2011-10-12",
          "2011-10-13",
          "2011-10-14",
          "2011-10-16",
          "2011-10-17",
          "2011-10-18",
          "2011-10-19",
          "2011-10-20",
          "2011-10-21",
          "2011-10-23",
          "2011-10-24",
          "2011-10-25",
          "2011-10-26",
          "2011-10-27",
          "2011-10-28",
          "2011-10-30",
          "2011-10-31",
          "2011-11-01",
          "2011-11-02",
          "2011-11-03",
          "2011-11-04",
          "2011-11-06",
          "2011-11-07",
          "2011-11-08",
          "2011-11-09",
          "2011-11-10",
          "2011-11-11",
          "2011-11-13",
          "2011-11-14",
          "2011-11-15",
          "2011-11-16",
          "2011-11-17",
          "2011-11-18",
          "2011-11-20",
          "2011-11-21",
          "2011-11-22",
          "2011-11-23",
          "2011-11-24",
          "2011-11-25",
          "2011-11-27",
          "2011-11-28",
          "2011-11-29",
          "2011-11-30",
          "2011-12-01",
          "2011-12-02",
          "2011-12-04",
          "2011-12-05",
          "2011-12-06",
          "2011-12-07",
          "2011-12-08",
          "2011-12-09"
         ],
         "xaxis": "x",
         "y": {
          "bdata": "exSuRxmz7EAK16NwrUHnQI/C9ShU5uZAH4XrUSih3kDNzMzMBKzqQJqZmZkdTvhAUrgehWsW5kBI4XoUhiXqQD0K16Og0exAmpmZmWm50EBxPQrXy4biQLgehevxDeZA4XoUrhes3UCuR+F6RPvnQI/C9ShEI+ZAH4XrUXjyvECF61G4jiPaQK5H4Xr8FedAH4XrUfg3uECuR+F69JPHQArXo3DdQs9AexSuR5Hd30BmZmZmzrXjQClcj8IlKdxApHA9CldzzkCuR+F6RPrXQD0K16NowfBA7FG4HiUW2ED2KFyPMiHUQPYoXI9SOOdAcT0K12NAu0BI4XoUrpPcQOJ6FK67bPdArkfheqRE2UApXI/C1bPUQDMzMzMj399AzczMzAwhxEDD9Shcn+XYQDMzMzMjRtxAFa5H4fpj00AzMzMzExLXQGZmZmYWmNNAj8L1KJyOuUAK16NwLRPXQPYoXI9SVdxA4XoUroeq1ECF61G47urWQClcj8L1i9hApHA9ClffqkBI4XoUvlDZQIXrUbjOcdRAH4XrUahK0EDhehSupwLNQGZmZmZmUdZAFa5H4XoNtkDXo3A9OgvaQIXrUbg2dONAZmZmZvZH2EB7FK5HYb3ZQClcj8I1nM9AZmZmZuZuwkDNzMzM7LrhQAAAAACgsd9AAAAAAOA62kBcj8L1OETWQI/C9SjMHNRAFa5H4VpTwkD2KFyP0irVQFK4HoUrutlAj8L1KHw70kCuR+F65MHhQB+F61G4B9NAw/UoXM9zw0BI4XoUro/fQOF6FK7HcthAzczMzEx/1UB7FK5HkYHZQFK4HoV74NhAH4XrUTgVsEAfhetRKEXZQClcj8JV59ZAcT0K17NU1UAfhetRkHXjQJqZmZnpcttAUrgehWtv1UBI4XoU3knQQIXrUbgOu95AXI/C9biD10B7FK5HGdLhQHE9CtejoN5Aj8L1KFz7wUCF61G4TpfWQIXrUbh+Q/FACtejcG0T30DNzMzMjLvgQFyPwvVo99hASOF6FC7xukDD9ShcTzrgQK5H4Xo0Wd1ApHA9Cpfu0ECPwvUoXAjSQClcj8IlpthAAAAAAOBLw0BSuB6Fe9LVQI/C9Si879hAexSuR5Hg10AzMzMzg57hQIGVQ4v0pdtAUrgehSuryEDhehSu/1XrQGZmZmY2utdArkfhetT+20DNzMzMjNHfQB+F61H4Rd5AmpmZmQlP2UCPwvUonPbVQI/C9SgcLrtAhetRuIYv4UAK16NwfeDaQNejcD1ac9xAw/UoXF+j4UCF61G4/krSQArXo3DdOttAXI/C9ZBR50AzMzMz+23gQD0K16OoMO5AKVyPwvX13UA+CtejsFvDQFyPwvVoXONA4XoUrl/o6kAfhetRCMngQIXrUbj2XeFAzczMzPz02UAAAAAAgInXQK5H4XpU5uBArkfhekxj4kCamZmZedLXQFyPwvUgW+BAUrgehfu420A9Ctej8Kq8QKRwPQonH9ZAj8L1KEwa1EDhehSuDwTgQGZmZmbGf9BAPgrXo/DT2EDhehSux1nRQLgehespfOJAKVyPwk0X5UA9CtejsKDmQEfhehROY+5AH4XrUfhMyEA+CtejsOjVQFyPwvXwv+NAj8L1KNTp50AfhetRINzgQEjhehSek9RAhetRuF7l1UDhehSuJ07iQOF6FK43LNhArkfhetRJ1UAfhetR6JDYQPYoXI8SD9NAj8L1KFx4u0BxPQrXU5bQQPYoXI86W+FASOF6FN6R1UAfhetRcNvlQBWuR+EaoMpAFa5H4bpUt0Bcj8L1IMjlQClcj8JV5uNAuB6F61G+2UBSuB6FG6ffQGZmZmZWbNpA16NwPYpHt0DXo3A9agDWQGZmZmY2o9lApHA9CicX1kAfhetRCGPgQNejcD3q5MxAPQrXo5DA0ECPwvUo3PPiQB+F61HYfuhA9ihcj4o84EB7FK5H8e3fQEjhehT+pdNACtejcB1y2kBcj8L1GD/aQESLbOfjINVAw/UoXG/+2EDXo3A9anbrQPYoXI8iR9JAKVyPwjU34EBcj8L1qNvUQDMzMzPj89lAzczMzAxp20B7FK5HGfvvQB+F61FI6tRAj8L1KNx3vUA9CtejwNDWQMP1KFwPBttAMzMzMwMb3EDXo3A9TqvxQGZmZmbWed9AhetRuN5FtkDNzMzM/NTQQLgeheuhyNJAH4XrUZgE6kAzMzMzY2XqQK5H4XoE7tBA9ihcjyIqzED2KFyPYvPcQClcj8KlXtlApHA9CrfS50BSuB6FWzfXQPYoXI+SAtlA4XoUrkffxEB7FK5HcRffQEjhehTOxdhAcT0K19M94kBcj8L1SJ7kQMP1KFwvpNBAMzMzM0sE4kBxPQrXQ6jbQFyPwvWwzeBAH4XrUfhr2kDsUbgeFVDdQArXo3DdMOFA9ihcj5LV3ECamZmZ6ePqQLgeheuxBtdAUrgehX8U80B7FK5HERLbQGZmZmbGi85AcT0K11sM6EBmZmZmHr/6QKRwPQo3sudA7FG4Ho3q7EDNzMzMzM/jQIts5/sxb95A/Knx0rWV3EDsUbgenbThQPYoXI+iVeVAMzMzM+ug5kC4HoXrYaflQOF6FK7HhcZApHA9Cj8s8EB7FK5HkcHnQB+F61FMbPJACtejcD2l7kAAAAAAkDfqQM3MzMyM+MdA7FG4HjV/50C4HoXrKafpQKRwPQrHVN9ApHA9Cg8u4kD2KFyP0rjhQI/C9Sj8QdVAUrgehbNa6UAK16NwvRvmQKRwPQp3vORArkfheiTF7UCuR+F6rNjuQFyPwvVIvsdAPQrXo/CZ50CamZmZER3kQKRwPQovbOJAXI/C9Tju60AfhetR6MDjQGZmZma+y+BAZmZmZu7960CamZmZ+WjcQPYoXI9CT+ZApHA9Ci/47kAVrkfhUpDuQBWuR+EywuRAzczMzJTs9EBcj8L1oBrsQFK4HoV/FfBAAAAAAEBN8UBxPQrXe+jqQM3MzMzEiuBAZ2ZmZtbj+0CamZmZuZjtQK5H4XqICPBA16NwPaq87UCuR+F6TPfoQIXrUbim2eBAMzMzM1NB6EDD9Shc7y7vQAAAAABwfvNAhetRuObI6EDNzMzMTMDoQOF6FK7XzdNAw/UoXLfQ60DsUbgeDazxQNejcD0yT+1Aj8L1KJRs6UDD9ShcjxDsQEjhehRe59dACtejcM2i9UD2KFyP2p3rQM3MzMw4Y/JAzczMzDgc9EBwPQrXJ4YIQQ==",
          "dtype": "f8"
         },
         "yaxis": "y"
        },
        {
         "hovertemplate": "Line=Rolling7Day<br>Date=%{x}<br>Revenue=%{y}<extra></extra>",
         "legendgroup": "Rolling7Day",
         "line": {
          "color": "#EF553B",
          "dash": "solid"
         },
         "marker": {
          "symbol": "circle"
         },
         "mode": "lines",
         "name": "Rolling7Day",
         "orientation": "v",
         "showlegend": true,
         "type": "scatter",
         "x": [
          "2010-12-01",
          "2010-12-02",
          "2010-12-03",
          "2010-12-05",
          "2010-12-06",
          "2010-12-07",
          "2010-12-08",
          "2010-12-09",
          "2010-12-10",
          "2010-12-12",
          "2010-12-13",
          "2010-12-14",
          "2010-12-15",
          "2010-12-16",
          "2010-12-17",
          "2010-12-19",
          "2010-12-20",
          "2010-12-21",
          "2010-12-22",
          "2010-12-23",
          "2011-01-04",
          "2011-01-05",
          "2011-01-06",
          "2011-01-07",
          "2011-01-09",
          "2011-01-10",
          "2011-01-11",
          "2011-01-12",
          "2011-01-13",
          "2011-01-14",
          "2011-01-16",
          "2011-01-17",
          "2011-01-18",
          "2011-01-19",
          "2011-01-20",
          "2011-01-21",
          "2011-01-23",
          "2011-01-24",
          "2011-01-25",
          "2011-01-26",
          "2011-01-27",
          "2011-01-28",
          "2011-01-30",
          "2011-01-31",
          "2011-02-01",
          "2011-02-02",
          "2011-02-03",
          "2011-02-04",
          "2011-02-06",
          "2011-02-07",
          "2011-02-08",
          "2011-02-09",
          "2011-02-10",
          "2011-02-11",
          "2011-02-13",
          "2011-02-14",
          "2011-02-15",
          "2011-02-16",
          "2011-02-17",
          "2011-02-18",
          "2011-02-20",
          "2011-02-21",
          "2011-02-22",
          "2011-02-23",
          "2011-02-24",
          "2011-02-25",
          "2011-02-27",
          "2011-02-28",
          "2011-03-01",
          "2011-03-02",
          "2011-03-03",
          "2011-03-04",
          "2011-03-06",
          "2011-03-07",
          "2011-03-08",
          "2011-03-09",
          "2011-03-10",
          "2011-03-11",
          "2011-03-13",
          "2011-03-14",
          "2011-03-15",
          "2011-03-16",
          "2011-03-17",
          "2011-03-18",
          "2011-03-20",
          "2011-03-21",
          "2011-03-22",
          "2011-03-23",
          "2011-03-24",
          "2011-03-25",
          "2011-03-27",
          "2011-03-28",
          "2011-03-29",
          "2011-03-30",
          "2011-03-31",
          "2011-04-01",
          "2011-04-03",
          "2011-04-04",
          "2011-04-05",
          "2011-04-06",
          "2011-04-07",
          "2011-04-08",
          "2011-04-10",
          "2011-04-11",
          "2011-04-12",
          "2011-04-13",
          "2011-04-14",
          "2011-04-15",
          "2011-04-17",
          "2011-04-18",
          "2011-04-19",
          "2011-04-20",
          "2011-04-21",
          "2011-04-26",
          "2011-04-27",
          "2011-04-28",
          "2011-05-01",
          "2011-05-03",
          "2011-05-04",
          "2011-05-05",
          "2011-05-06",
          "2011-05-08",
          "2011-05-09",
          "2011-05-10",
          "2011-05-11",
          "2011-05-12",
          "2011-05-13",
          "2011-05-15",
          "2011-05-16",
          "2011-05-17",
          "2011-05-18",
          "2011-05-19",
          "2011-05-20",
          "2011-05-22",
          "2011-05-23",
          "2011-05-24",
          "2011-05-25",
          "2011-05-26",
          "2011-05-27",
          "2011-05-29",
          "2011-05-31",
          "2011-06-01",
          "2011-06-02",
          "2011-06-03",
          "2011-06-05",
          "2011-06-06",
          "2011-06-07",
          "2011-06-08",
          "2011-06-09",
          "2011-06-10",
          "2011-06-12",
          "2011-06-13",
          "2011-06-14",
          "2011-06-15",
          "2011-06-16",
          "2011-06-17",
          "2011-06-19",
          "2011-06-20",
          "2011-06-21",
          "2011-06-22",
          "2011-06-23",
          "2011-06-24",
          "2011-06-26",
          "2011-06-27",
          "2011-06-28",
          "2011-06-29",
          "2011-06-30",
          "2011-07-01",
          "2011-07-03",
          "2011-07-04",
          "2011-07-05",
          "2011-07-06",
          "2011-07-07",
          "2011-07-08",
          "2011-07-10",
          "2011-07-11",
          "2011-07-12",
          "2011-07-13",
          "2011-07-14",
          "2011-07-15",
          "2011-07-17",
          "2011-07-18",
          "2011-07-19",
          "2011-07-20",
          "2011-07-21",
          "2011-07-22",
          "2011-07-24",
          "2011-07-25",
          "2011-07-26",
          "2011-07-27",
          "2011-07-28",
          "2011-07-29",
          "2011-07-31",
          "2011-08-01",
          "2011-08-02",
          "2011-08-03",
          "2011-08-04",
          "2011-08-05",
          "2011-08-07",
          "2011-08-08",
          "2011-08-09",
          "2011-08-10",
          "2011-08-11",
          "2011-08-12",
          "2011-08-14",
          "2011-08-15",
          "2011-08-16",
          "2011-08-17",
          "2011-08-18",
          "2011-08-19",
          "2011-08-21",
          "2011-08-22",
          "2011-08-23",
          "2011-08-24",
          "2011-08-25",
          "2011-08-26",
          "2011-08-28",
          "2011-08-30",
          "2011-08-31",
          "2011-09-01",
          "2011-09-02",
          "2011-09-04",
          "2011-09-05",
          "2011-09-06",
          "2011-09-07",
          "2011-09-08",
          "2011-09-09",
          "2011-09-11",
          "2011-09-12",
          "2011-09-13",
          "2011-09-14",
          "2011-09-15",
          "2011-09-16",
          "2011-09-18",
          "2011-09-19",
          "2011-09-20",
          "2011-09-21",
          "2011-09-22",
          "2011-09-23",
          "2011-09-25",
          "2011-09-26",
          "2011-09-27",
          "2011-09-28",
          "2011-09-29",
          "2011-09-30",
          "2011-10-02",
          "2011-10-03",
          "2011-10-04",
          "2011-10-05",
          "2011-10-06",
          "2011-10-07",
          "2011-10-09",
          "2011-10-10",
          "2011-10-11",
          "2011-10-12",
          "2011-10-13",
          "2011-10-14",
          "2011-10-16",
          "2011-10-17",
          "2011-10-18",
          "2011-10-19",
          "2011-10-20",
          "2011-10-21",
          "2011-10-23",
          "2011-10-24",
          "2011-10-25",
          "2011-10-26",
          "2011-10-27",
          "2011-10-28",
          "2011-10-30",
          "2011-10-31",
          "2011-11-01",
          "2011-11-02",
          "2011-11-03",
          "2011-11-04",
          "2011-11-06",
          "2011-11-07",
          "2011-11-08",
          "2011-11-09",
          "2011-11-10",
          "2011-11-11",
          "2011-11-13",
          "2011-11-14",
          "2011-11-15",
          "2011-11-16",
          "2011-11-17",
          "2011-11-18",
          "2011-11-20",
          "2011-11-21",
          "2011-11-22",
          "2011-11-23",
          "2011-11-24",
          "2011-11-25",
          "2011-11-27",
          "2011-11-28",
          "2011-11-29",
          "2011-11-30",
          "2011-12-01",
          "2011-12-02",
          "2011-12-04",
          "2011-12-05",
          "2011-12-06",
          "2011-12-07",
          "2011-12-08",
          "2011-12-09"
         ],
         "xaxis": "x",
         "y": {
          "bdata": "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",
          "dtype": "f8"
         },
         "yaxis": "y"
        }
       ],
       "layout": {
        "legend": {
         "title": {
          "text": "Line"
         },
         "tracegroupgap": 0
        },
        "template": {
         "data": {
          "bar": [
           {
            "error_x": {
             "color": "#2a3f5f"
            },
            "error_y": {
             "color": "#2a3f5f"
            },
            "marker": {
             "line": {
              "color": "#E5ECF6",
              "width": 0.5
             },
             "pattern": {
              "fillmode": "overlay",
              "size": 10,
              "solidity": 0.2
             }
            },
            "type": "bar"
           }
          ],
          "barpolar": [
           {
            "marker": {
             "line": {
              "color": "#E5ECF6",
              "width": 0.5
             },
             "pattern": {
              "fillmode": "overlay",
              "size": 10,
              "solidity": 0.2
             }
            },
            "type": "barpolar"
           }
          ],
          "carpet": [
           {
            "aaxis": {
             "endlinecolor": "#2a3f5f",
             "gridcolor": "white",
             "linecolor": "white",
             "minorgridcolor": "white",
             "startlinecolor": "#2a3f5f"
            },
            "baxis": {
             "endlinecolor": "#2a3f5f",
             "gridcolor": "white",
             "linecolor": "white",
             "minorgridcolor": "white",
             "startlinecolor": "#2a3f5f"
            },
            "type": "carpet"
           }
          ],
          "choropleth": [
           {
            "colorbar": {
             "outlinewidth": 0,
             "ticks": ""
            },
            "type": "choropleth"
           }
          ],
          "contour": [
           {
            "colorbar": {
             "outlinewidth": 0,
             "ticks": ""
            },
            "colorscale": [
             [
              0,
              "#0d0887"
             ],
             [
              0.1111111111111111,
              "#46039f"
             ],
             [
              0.2222222222222222,
              "#7201a8"
             ],
             [
              0.3333333333333333,
              "#9c179e"
             ],
             [
              0.4444444444444444,
              "#bd3786"
             ],
             [
              0.5555555555555556,
              "#d8576b"
             ],
             [
              0.6666666666666666,
              "#ed7953"
             ],
             [
              0.7777777777777778,
              "#fb9f3a"
             ],
             [
              0.8888888888888888,
              "#fdca26"
             ],
             [
              1,
              "#f0f921"
             ]
            ],
            "type": "contour"
           }
          ],
          "contourcarpet": [
           {
            "colorbar": {
             "outlinewidth": 0,
             "ticks": ""
            },
            "type": "contourcarpet"
           }
          ],
          "heatmap": [
           {
            "colorbar": {
             "outlinewidth": 0,
             "ticks": ""
            },
            "colorscale": [
             [
              0,
              "#0d0887"
             ],
             [
              0.1111111111111111,
              "#46039f"
             ],
             [
              0.2222222222222222,
              "#7201a8"
             ],
             [
              0.3333333333333333,
              "#9c179e"
             ],
             [
              0.4444444444444444,
              "#bd3786"
             ],
             [
              0.5555555555555556,
              "#d8576b"
             ],
             [
              0.6666666666666666,
              "#ed7953"
             ],
             [
              0.7777777777777778,
              "#fb9f3a"
             ],
             [
              0.8888888888888888,
              "#fdca26"
             ],
             [
              1,
              "#f0f921"
             ]
            ],
            "type": "heatmap"
           }
          ],
          "histogram": [
           {
            "marker": {
             "pattern": {
              "fillmode": "overlay",
              "size": 10,
              "solidity": 0.2
             }
            },
            "type": "histogram"
           }
          ],
          "histogram2d": [
           {
            "colorbar": {
             "outlinewidth": 0,
             "ticks": ""
            },
            "colorscale": [
             [
              0,
              "#0d0887"
             ],
             [
              0.1111111111111111,
              "#46039f"
             ],
             [
              0.2222222222222222,
              "#7201a8"
             ],
             [
              0.3333333333333333,
              "#9c179e"
             ],
             [
              0.4444444444444444,
              "#bd3786"
             ],
             [
              0.5555555555555556,
              "#d8576b"
             ],
             [
              0.6666666666666666,
              "#ed7953"
             ],
             [
              0.7777777777777778,
              "#fb9f3a"
             ],
             [
              0.8888888888888888,
              "#fdca26"
             ],
             [
              1,
              "#f0f921"
             ]
            ],
            "type": "histogram2d"
           }
          ],
          "histogram2dcontour": [
           {
            "colorbar": {
             "outlinewidth": 0,
             "ticks": ""
            },
            "colorscale": [
             [
              0,
              "#0d0887"
             ],
             [
              0.1111111111111111,
              "#46039f"
             ],
             [
              0.2222222222222222,
              "#7201a8"
             ],
             [
              0.3333333333333333,
              "#9c179e"
             ],
             [
              0.4444444444444444,
              "#bd3786"
             ],
             [
              0.5555555555555556,
              "#d8576b"
             ],
             [
              0.6666666666666666,
              "#ed7953"
             ],
             [
              0.7777777777777778,
              "#fb9f3a"
             ],
             [
              0.8888888888888888,
              "#fdca26"
             ],
             [
              1,
              "#f0f921"
             ]
            ],
            "type": "histogram2dcontour"
           }
          ],
          "mesh3d": [
           {
            "colorbar": {
             "outlinewidth": 0,
             "ticks": ""
            },
            "type": "mesh3d"
           }
          ],
          "parcoords": [
           {
            "line": {
             "colorbar": {
              "outlinewidth": 0,
              "ticks": ""
             }
            },
            "type": "parcoords"
           }
          ],
          "pie": [
           {
            "automargin": true,
            "type": "pie"
           }
          ],
          "scatter": [
           {
            "fillpattern": {
             "fillmode": "overlay",
             "size": 10,
             "solidity": 0.2
            },
            "type": "scatter"
           }
          ],
          "scatter3d": [
           {
            "line": {
             "colorbar": {
              "outlinewidth": 0,
              "ticks": ""
             }
            },
            "marker": {
             "colorbar": {
              "outlinewidth": 0,
              "ticks": ""
             }
            },
            "type": "scatter3d"
           }
          ],
          "scattercarpet": [
           {
            "marker": {
             "colorbar": {
              "outlinewidth": 0,
              "ticks": ""
             }
            },
            "type": "scattercarpet"
           }
          ],
          "scattergeo": [
           {
            "marker": {
             "colorbar": {
              "outlinewidth": 0,
              "ticks": ""
             }
            },
            "type": "scattergeo"
           }
          ],
          "scattergl": [
           {
            "marker": {
             "colorbar": {
              "outlinewidth": 0,
              "ticks": ""
             }
            },
            "type": "scattergl"
           }
          ],
          "scattermap": [
           {
            "marker": {
             "colorbar": {
              "outlinewidth": 0,
              "ticks": ""
             }
            },
            "type": "scattermap"
           }
          ],
          "scattermapbox": [
           {
            "marker": {
             "colorbar": {
              "outlinewidth": 0,
              "ticks": ""
             }
            },
            "type": "scattermapbox"
           }
          ],
          "scatterpolar": [
           {
            "marker": {
             "colorbar": {
              "outlinewidth": 0,
              "ticks": ""
             }
            },
            "type": "scatterpolar"
           }
          ],
          "scatterpolargl": [
           {
            "marker": {
             "colorbar": {
              "outlinewidth": 0,
              "ticks": ""
             }
            },
            "type": "scatterpolargl"
           }
          ],
          "scatterternary": [
           {
            "marker": {
             "colorbar": {
              "outlinewidth": 0,
              "ticks": ""
             }
            },
            "type": "scatterternary"
           }
          ],
          "surface": [
           {
            "colorbar": {
             "outlinewidth": 0,
             "ticks": ""
            },
            "colorscale": [
             [
              0,
              "#0d0887"
             ],
             [
              0.1111111111111111,
              "#46039f"
             ],
             [
              0.2222222222222222,
              "#7201a8"
             ],
             [
              0.3333333333333333,
              "#9c179e"
             ],
             [
              0.4444444444444444,
              "#bd3786"
             ],
             [
              0.5555555555555556,
              "#d8576b"
             ],
             [
              0.6666666666666666,
              "#ed7953"
             ],
             [
              0.7777777777777778,
              "#fb9f3a"
             ],
             [
              0.8888888888888888,
              "#fdca26"
             ],
             [
              1,
              "#f0f921"
             ]
            ],
            "type": "surface"
           }
          ],
          "table": [
           {
            "cells": {
             "fill": {
              "color": "#EBF0F8"
             },
             "line": {
              "color": "white"
             }
            },
            "header": {
             "fill": {
              "color": "#C8D4E3"
             },
             "line": {
              "color": "white"
             }
            },
            "type": "table"
           }
          ]
         },
         "layout": {
          "annotationdefaults": {
           "arrowcolor": "#2a3f5f",
           "arrowhead": 0,
           "arrowwidth": 1
          },
          "autotypenumbers": "strict",
          "coloraxis": {
           "colorbar": {
            "outlinewidth": 0,
            "ticks": ""
           }
          },
          "colorscale": {
           "diverging": [
            [
             0,
             "#8e0152"
            ],
            [
             0.1,
             "#c51b7d"
            ],
            [
             0.2,
             "#de77ae"
            ],
            [
             0.3,
             "#f1b6da"
            ],
            [
             0.4,
             "#fde0ef"
            ],
            [
             0.5,
             "#f7f7f7"
            ],
            [
             0.6,
             "#e6f5d0"
            ],
            [
             0.7,
             "#b8e186"
            ],
            [
             0.8,
             "#7fbc41"
            ],
            [
             0.9,
             "#4d9221"
            ],
            [
             1,
             "#276419"
            ]
           ],
           "sequential": [
            [
             0,
             "#0d0887"
            ],
            [
             0.1111111111111111,
             "#46039f"
            ],
            [
             0.2222222222222222,
             "#7201a8"
            ],
            [
             0.3333333333333333,
             "#9c179e"
            ],
            [
             0.4444444444444444,
             "#bd3786"
            ],
            [
             0.5555555555555556,
             "#d8576b"
            ],
            [
             0.6666666666666666,
             "#ed7953"
            ],
            [
             0.7777777777777778,
             "#fb9f3a"
            ],
            [
             0.8888888888888888,
             "#fdca26"
            ],
            [
             1,
             "#f0f921"
            ]
           ],
           "sequentialminus": [
            [
             0,
             "#0d0887"
            ],
            [
             0.1111111111111111,
             "#46039f"
            ],
            [
             0.2222222222222222,
             "#7201a8"
            ],
            [
             0.3333333333333333,
             "#9c179e"
            ],
            [
             0.4444444444444444,
             "#bd3786"
            ],
            [
             0.5555555555555556,
             "#d8576b"
            ],
            [
             0.6666666666666666,
             "#ed7953"
            ],
            [
             0.7777777777777778,
             "#fb9f3a"
            ],
            [
             0.8888888888888888,
             "#fdca26"
            ],
            [
             1,
             "#f0f921"
            ]
           ]
          },
          "colorway": [
           "#636efa",
           "#EF553B",
           "#00cc96",
           "#ab63fa",
           "#FFA15A",
           "#19d3f3",
           "#FF6692",
           "#B6E880",
           "#FF97FF",
           "#FECB52"
          ],
          "font": {
           "color": "#2a3f5f"
          },
          "geo": {
           "bgcolor": "white",
           "lakecolor": "white",
           "landcolor": "#E5ECF6",
           "showlakes": true,
           "showland": true,
           "subunitcolor": "white"
          },
          "hoverlabel": {
           "align": "left"
          },
          "hovermode": "closest",
          "mapbox": {
           "style": "light"
          },
          "paper_bgcolor": "white",
          "plot_bgcolor": "#E5ECF6",
          "polar": {
           "angularaxis": {
            "gridcolor": "white",
            "linecolor": "white",
            "ticks": ""
           },
           "bgcolor": "#E5ECF6",
           "radialaxis": {
            "gridcolor": "white",
            "linecolor": "white",
            "ticks": ""
           }
          },
          "scene": {
           "xaxis": {
            "backgroundcolor": "#E5ECF6",
            "gridcolor": "white",
            "gridwidth": 2,
            "linecolor": "white",
            "showbackground": true,
            "ticks": "",
            "zerolinecolor": "white"
           },
           "yaxis": {
            "backgroundcolor": "#E5ECF6",
            "gridcolor": "white",
            "gridwidth": 2,
            "linecolor": "white",
            "showbackground": true,
            "ticks": "",
            "zerolinecolor": "white"
           },
           "zaxis": {
            "backgroundcolor": "#E5ECF6",
            "gridcolor": "white",
            "gridwidth": 2,
            "linecolor": "white",
            "showbackground": true,
            "ticks": "",
            "zerolinecolor": "white"
           }
          },
          "shapedefaults": {
           "line": {
            "color": "#2a3f5f"
           }
          },
          "ternary": {
           "aaxis": {
            "gridcolor": "white",
            "linecolor": "white",
            "ticks": ""
           },
           "baxis": {
            "gridcolor": "white",
            "linecolor": "white",
            "ticks": ""
           },
           "bgcolor": "#E5ECF6",
           "caxis": {
            "gridcolor": "white",
            "linecolor": "white",
            "ticks": ""
           }
          },
          "title": {
           "x": 0.05
          },
          "xaxis": {
           "automargin": true,
           "gridcolor": "white",
           "linecolor": "white",
           "ticks": "",
           "title": {
            "standoff": 15
           },
           "zerolinecolor": "white",
           "zerolinewidth": 2
          },
          "yaxis": {
           "automargin": true,
           "gridcolor": "white",
           "linecolor": "white",
           "ticks": "",
           "title": {
            "standoff": 15
           },
           "zerolinecolor": "white",
           "zerolinewidth": 2
          }
         }
        },
        "title": {
         "text": "Daily Sales with 7-Day Rolling Average"
        },
        "xaxis": {
         "anchor": "y",
         "domain": [
          0,
          1
         ],
         "title": {
          "text": "Date"
         }
        },
        "yaxis": {
         "anchor": "x",
         "domain": [
          0,
          1
         ],
         "title": {
          "text": "Revenue"
         }
        }
       }
      }
     },
     "metadata": {},
     "output_type": "display_data"
    }
   ],
   "source": [
    "daily_sales['Rolling7Day'] = daily_sales['TotalPrice'].rolling(window=7).mean()\n",
    "\n",
    "import plotly.express as px\n",
    "fig = px.line(daily_sales, x='Date', y=['TotalPrice', 'Rolling7Day'],\n",
    "              labels={'value': 'Revenue', 'variable': 'Line'},\n",
    "              title='Daily Sales with 7-Day Rolling Average')\n",
    "fig.show()"
   ]
  },
  {
   "cell_type": "markdown",
   "id": "8ba1cd02",
   "metadata": {},
   "source": [
    "We observe that there are revenue spikes in December 2010, and a significant spike in December 2011, most likely indicating Christmas/Holidays sales.\n",
    "We also see a spike around mid Jan 2011, possibly indicating post-holidays spends or returns. \n",
    "September 2011 and November 2011 also see revenue spikes. This could indicate early holiday period spending, back to school spending, spending for 'Thanksgiving' in November, or 'Cyber Monday' sales."
   ]
  },
  {
   "cell_type": "markdown",
   "id": "7024ce56",
   "metadata": {},
   "source": [
    "Next we can check to see which countries contribute the most to revenues. \n",
    "Let us make a bar plot of revenue by country."
   ]
  },
  {
   "cell_type": "code",
   "execution_count": 6,
   "id": "361d6aa3",
   "metadata": {},
   "outputs": [
    {
     "data": {
      "application/vnd.plotly.v1+json": {
       "config": {
        "plotlyServerURL": "https://plot.ly"
       },
       "data": [
        {
         "hovertemplate": "Country=%{x}<br>Total Revenue=%{y}<extra></extra>",
         "legendgroup": "",
         "marker": {
          "color": "#636efa",
          "pattern": {
           "shape": ""
          }
         },
         "name": "",
         "orientation": "v",
         "showlegend": false,
         "textposition": "auto",
         "type": "bar",
         "x": [
          "United Kingdom",
          "Netherlands",
          "EIRE",
          "Germany",
          "France",
          "Australia",
          "Spain",
          "Switzerland",
          "Belgium",
          "Sweden",
          "Japan",
          "Norway",
          "Portugal",
          "Finland",
          "Singapore",
          "Channel Islands",
          "Denmark",
          "Italy",
          "Hong Kong",
          "Cyprus",
          "Austria",
          "Israel",
          "Poland",
          "Greece",
          "Unspecified",
          "Iceland",
          "Canada",
          "USA",
          "Malta",
          "United Arab Emirates",
          "Lebanon",
          "Lithuania",
          "European Community",
          "Brazil",
          "RSA",
          "Czech Republic",
          "Bahrain",
          "Saudi Arabia"
         ],
         "xaxis": "x",
         "y": {
          "bdata": "SgwCA2IrYUHD9ShcGWwRQUjhehQSSBFBMzMzMzPqC0Fcj8L1ypYJQa5H4Xqu5gBBuB6F69EO7kAzMzMzc93rQBWuR+GKHeRA9ihcj/q74kBxPQrXC0XiQEjhehSuqOFAmpmZmWFy4EDsUbgehQTWQPYoXI/Sx9RA9ihcjyL200ApXI/C1YLSQMP1KFzPEtFAAAAAAIA9zkDNzMzMbF/KQKRwPQpX68NAXI/C9WjBv0BmZmZmpqa8QOxRuB6FmLJAPQrXo/CEskAAAAAAANawQPYoXI/CpKxA4XoUrsf4q0BI4XoULkulQIXrUbgeuZ1A7FG4HoV3mkAK16NwPfSZQAAAAAAAUZRAZmZmZmbekUAVrkfhelKPQFK4HoXr1YlAhetRuB6Rh0A+CtejcD1iQA==",
          "dtype": "f8"
         },
         "yaxis": "y"
        }
       ],
       "layout": {
        "barmode": "relative",
        "height": 600,
        "legend": {
         "tracegroupgap": 0
        },
        "template": {
         "data": {
          "bar": [
           {
            "error_x": {
             "color": "#2a3f5f"
            },
            "error_y": {
             "color": "#2a3f5f"
            },
            "marker": {
             "line": {
              "color": "#E5ECF6",
              "width": 0.5
             },
             "pattern": {
              "fillmode": "overlay",
              "size": 10,
              "solidity": 0.2
             }
            },
            "type": "bar"
           }
          ],
          "barpolar": [
           {
            "marker": {
             "line": {
              "color": "#E5ECF6",
              "width": 0.5
             },
             "pattern": {
              "fillmode": "overlay",
              "size": 10,
              "solidity": 0.2
             }
            },
            "type": "barpolar"
           }
          ],
          "carpet": [
           {
            "aaxis": {
             "endlinecolor": "#2a3f5f",
             "gridcolor": "white",
             "linecolor": "white",
             "minorgridcolor": "white",
             "startlinecolor": "#2a3f5f"
            },
            "baxis": {
             "endlinecolor": "#2a3f5f",
             "gridcolor": "white",
             "linecolor": "white",
             "minorgridcolor": "white",
             "startlinecolor": "#2a3f5f"
            },
            "type": "carpet"
           }
          ],
          "choropleth": [
           {
            "colorbar": {
             "outlinewidth": 0,
             "ticks": ""
            },
            "type": "choropleth"
           }
          ],
          "contour": [
           {
            "colorbar": {
             "outlinewidth": 0,
             "ticks": ""
            },
            "colorscale": [
             [
              0,
              "#0d0887"
             ],
             [
              0.1111111111111111,
              "#46039f"
             ],
             [
              0.2222222222222222,
              "#7201a8"
             ],
             [
              0.3333333333333333,
              "#9c179e"
             ],
             [
              0.4444444444444444,
              "#bd3786"
             ],
             [
              0.5555555555555556,
              "#d8576b"
             ],
             [
              0.6666666666666666,
              "#ed7953"
             ],
             [
              0.7777777777777778,
              "#fb9f3a"
             ],
             [
              0.8888888888888888,
              "#fdca26"
             ],
             [
              1,
              "#f0f921"
             ]
            ],
            "type": "contour"
           }
          ],
          "contourcarpet": [
           {
            "colorbar": {
             "outlinewidth": 0,
             "ticks": ""
            },
            "type": "contourcarpet"
           }
          ],
          "heatmap": [
           {
            "colorbar": {
             "outlinewidth": 0,
             "ticks": ""
            },
            "colorscale": [
             [
              0,
              "#0d0887"
             ],
             [
              0.1111111111111111,
              "#46039f"
             ],
             [
              0.2222222222222222,
              "#7201a8"
             ],
             [
              0.3333333333333333,
              "#9c179e"
             ],
             [
              0.4444444444444444,
              "#bd3786"
             ],
             [
              0.5555555555555556,
              "#d8576b"
             ],
             [
              0.6666666666666666,
              "#ed7953"
             ],
             [
              0.7777777777777778,
              "#fb9f3a"
             ],
             [
              0.8888888888888888,
              "#fdca26"
             ],
             [
              1,
              "#f0f921"
             ]
            ],
            "type": "heatmap"
           }
          ],
          "histogram": [
           {
            "marker": {
             "pattern": {
              "fillmode": "overlay",
              "size": 10,
              "solidity": 0.2
             }
            },
            "type": "histogram"
           }
          ],
          "histogram2d": [
           {
            "colorbar": {
             "outlinewidth": 0,
             "ticks": ""
            },
            "colorscale": [
             [
              0,
              "#0d0887"
             ],
             [
              0.1111111111111111,
              "#46039f"
             ],
             [
              0.2222222222222222,
              "#7201a8"
             ],
             [
              0.3333333333333333,
              "#9c179e"
             ],
             [
              0.4444444444444444,
              "#bd3786"
             ],
             [
              0.5555555555555556,
              "#d8576b"
             ],
             [
              0.6666666666666666,
              "#ed7953"
             ],
             [
              0.7777777777777778,
              "#fb9f3a"
             ],
             [
              0.8888888888888888,
              "#fdca26"
             ],
             [
              1,
              "#f0f921"
             ]
            ],
            "type": "histogram2d"
           }
          ],
          "histogram2dcontour": [
           {
            "colorbar": {
             "outlinewidth": 0,
             "ticks": ""
            },
            "colorscale": [
             [
              0,
              "#0d0887"
             ],
             [
              0.1111111111111111,
              "#46039f"
             ],
             [
              0.2222222222222222,
              "#7201a8"
             ],
             [
              0.3333333333333333,
              "#9c179e"
             ],
             [
              0.4444444444444444,
              "#bd3786"
             ],
             [
              0.5555555555555556,
              "#d8576b"
             ],
             [
              0.6666666666666666,
              "#ed7953"
             ],
             [
              0.7777777777777778,
              "#fb9f3a"
             ],
             [
              0.8888888888888888,
              "#fdca26"
             ],
             [
              1,
              "#f0f921"
             ]
            ],
            "type": "histogram2dcontour"
           }
          ],
          "mesh3d": [
           {
            "colorbar": {
             "outlinewidth": 0,
             "ticks": ""
            },
            "type": "mesh3d"
           }
          ],
          "parcoords": [
           {
            "line": {
             "colorbar": {
              "outlinewidth": 0,
              "ticks": ""
             }
            },
            "type": "parcoords"
           }
          ],
          "pie": [
           {
            "automargin": true,
            "type": "pie"
           }
          ],
          "scatter": [
           {
            "fillpattern": {
             "fillmode": "overlay",
             "size": 10,
             "solidity": 0.2
            },
            "type": "scatter"
           }
          ],
          "scatter3d": [
           {
            "line": {
             "colorbar": {
              "outlinewidth": 0,
              "ticks": ""
             }
            },
            "marker": {
             "colorbar": {
              "outlinewidth": 0,
              "ticks": ""
             }
            },
            "type": "scatter3d"
           }
          ],
          "scattercarpet": [
           {
            "marker": {
             "colorbar": {
              "outlinewidth": 0,
              "ticks": ""
             }
            },
            "type": "scattercarpet"
           }
          ],
          "scattergeo": [
           {
            "marker": {
             "colorbar": {
              "outlinewidth": 0,
              "ticks": ""
             }
            },
            "type": "scattergeo"
           }
          ],
          "scattergl": [
           {
            "marker": {
             "colorbar": {
              "outlinewidth": 0,
              "ticks": ""
             }
            },
            "type": "scattergl"
           }
          ],
          "scattermap": [
           {
            "marker": {
             "colorbar": {
              "outlinewidth": 0,
              "ticks": ""
             }
            },
            "type": "scattermap"
           }
          ],
          "scattermapbox": [
           {
            "marker": {
             "colorbar": {
              "outlinewidth": 0,
              "ticks": ""
             }
            },
            "type": "scattermapbox"
           }
          ],
          "scatterpolar": [
           {
            "marker": {
             "colorbar": {
              "outlinewidth": 0,
              "ticks": ""
             }
            },
            "type": "scatterpolar"
           }
          ],
          "scatterpolargl": [
           {
            "marker": {
             "colorbar": {
              "outlinewidth": 0,
              "ticks": ""
             }
            },
            "type": "scatterpolargl"
           }
          ],
          "scatterternary": [
           {
            "marker": {
             "colorbar": {
              "outlinewidth": 0,
              "ticks": ""
             }
            },
            "type": "scatterternary"
           }
          ],
          "surface": [
           {
            "colorbar": {
             "outlinewidth": 0,
             "ticks": ""
            },
            "colorscale": [
             [
              0,
              "#0d0887"
             ],
             [
              0.1111111111111111,
              "#46039f"
             ],
             [
              0.2222222222222222,
              "#7201a8"
             ],
             [
              0.3333333333333333,
              "#9c179e"
             ],
             [
              0.4444444444444444,
              "#bd3786"
             ],
             [
              0.5555555555555556,
              "#d8576b"
             ],
             [
              0.6666666666666666,
              "#ed7953"
             ],
             [
              0.7777777777777778,
              "#fb9f3a"
             ],
             [
              0.8888888888888888,
              "#fdca26"
             ],
             [
              1,
              "#f0f921"
             ]
            ],
            "type": "surface"
           }
          ],
          "table": [
           {
            "cells": {
             "fill": {
              "color": "#EBF0F8"
             },
             "line": {
              "color": "white"
             }
            },
            "header": {
             "fill": {
              "color": "#C8D4E3"
             },
             "line": {
              "color": "white"
             }
            },
            "type": "table"
           }
          ]
         },
         "layout": {
          "annotationdefaults": {
           "arrowcolor": "#2a3f5f",
           "arrowhead": 0,
           "arrowwidth": 1
          },
          "autotypenumbers": "strict",
          "coloraxis": {
           "colorbar": {
            "outlinewidth": 0,
            "ticks": ""
           }
          },
          "colorscale": {
           "diverging": [
            [
             0,
             "#8e0152"
            ],
            [
             0.1,
             "#c51b7d"
            ],
            [
             0.2,
             "#de77ae"
            ],
            [
             0.3,
             "#f1b6da"
            ],
            [
             0.4,
             "#fde0ef"
            ],
            [
             0.5,
             "#f7f7f7"
            ],
            [
             0.6,
             "#e6f5d0"
            ],
            [
             0.7,
             "#b8e186"
            ],
            [
             0.8,
             "#7fbc41"
            ],
            [
             0.9,
             "#4d9221"
            ],
            [
             1,
             "#276419"
            ]
           ],
           "sequential": [
            [
             0,
             "#0d0887"
            ],
            [
             0.1111111111111111,
             "#46039f"
            ],
            [
             0.2222222222222222,
             "#7201a8"
            ],
            [
             0.3333333333333333,
             "#9c179e"
            ],
            [
             0.4444444444444444,
             "#bd3786"
            ],
            [
             0.5555555555555556,
             "#d8576b"
            ],
            [
             0.6666666666666666,
             "#ed7953"
            ],
            [
             0.7777777777777778,
             "#fb9f3a"
            ],
            [
             0.8888888888888888,
             "#fdca26"
            ],
            [
             1,
             "#f0f921"
            ]
           ],
           "sequentialminus": [
            [
             0,
             "#0d0887"
            ],
            [
             0.1111111111111111,
             "#46039f"
            ],
            [
             0.2222222222222222,
             "#7201a8"
            ],
            [
             0.3333333333333333,
             "#9c179e"
            ],
            [
             0.4444444444444444,
             "#bd3786"
            ],
            [
             0.5555555555555556,
             "#d8576b"
            ],
            [
             0.6666666666666666,
             "#ed7953"
            ],
            [
             0.7777777777777778,
             "#fb9f3a"
            ],
            [
             0.8888888888888888,
             "#fdca26"
            ],
            [
             1,
             "#f0f921"
            ]
           ]
          },
          "colorway": [
           "#636efa",
           "#EF553B",
           "#00cc96",
           "#ab63fa",
           "#FFA15A",
           "#19d3f3",
           "#FF6692",
           "#B6E880",
           "#FF97FF",
           "#FECB52"
          ],
          "font": {
           "color": "#2a3f5f"
          },
          "geo": {
           "bgcolor": "white",
           "lakecolor": "white",
           "landcolor": "#E5ECF6",
           "showlakes": true,
           "showland": true,
           "subunitcolor": "white"
          },
          "hoverlabel": {
           "align": "left"
          },
          "hovermode": "closest",
          "mapbox": {
           "style": "light"
          },
          "paper_bgcolor": "white",
          "plot_bgcolor": "#E5ECF6",
          "polar": {
           "angularaxis": {
            "gridcolor": "white",
            "linecolor": "white",
            "ticks": ""
           },
           "bgcolor": "#E5ECF6",
           "radialaxis": {
            "gridcolor": "white",
            "linecolor": "white",
            "ticks": ""
           }
          },
          "scene": {
           "xaxis": {
            "backgroundcolor": "#E5ECF6",
            "gridcolor": "white",
            "gridwidth": 2,
            "linecolor": "white",
            "showbackground": true,
            "ticks": "",
            "zerolinecolor": "white"
           },
           "yaxis": {
            "backgroundcolor": "#E5ECF6",
            "gridcolor": "white",
            "gridwidth": 2,
            "linecolor": "white",
            "showbackground": true,
            "ticks": "",
            "zerolinecolor": "white"
           },
           "zaxis": {
            "backgroundcolor": "#E5ECF6",
            "gridcolor": "white",
            "gridwidth": 2,
            "linecolor": "white",
            "showbackground": true,
            "ticks": "",
            "zerolinecolor": "white"
           }
          },
          "shapedefaults": {
           "line": {
            "color": "#2a3f5f"
           }
          },
          "ternary": {
           "aaxis": {
            "gridcolor": "white",
            "linecolor": "white",
            "ticks": ""
           },
           "baxis": {
            "gridcolor": "white",
            "linecolor": "white",
            "ticks": ""
           },
           "bgcolor": "#E5ECF6",
           "caxis": {
            "gridcolor": "white",
            "linecolor": "white",
            "ticks": ""
           }
          },
          "title": {
           "x": 0.05
          },
          "xaxis": {
           "automargin": true,
           "gridcolor": "white",
           "linecolor": "white",
           "ticks": "",
           "title": {
            "standoff": 15
           },
           "zerolinecolor": "white",
           "zerolinewidth": 2
          },
          "yaxis": {
           "automargin": true,
           "gridcolor": "white",
           "linecolor": "white",
           "ticks": "",
           "title": {
            "standoff": 15
           },
           "zerolinecolor": "white",
           "zerolinewidth": 2
          }
         }
        },
        "title": {
         "text": "Total Revenue by Country"
        },
        "xaxis": {
         "anchor": "y",
         "domain": [
          0,
          1
         ],
         "tickangle": 45,
         "title": {
          "text": "Country"
         }
        },
        "yaxis": {
         "anchor": "x",
         "domain": [
          0,
          1
         ],
         "title": {
          "text": "Total Revenue"
         }
        }
       }
      }
     },
     "metadata": {},
     "output_type": "display_data"
    }
   ],
   "source": [
    "# Group by Country and sum TotalPrice\n",
    "country_sales = df.groupby('Country')['TotalPrice'].sum().reset_index()\n",
    "\n",
    "# Sort by revenue\n",
    "country_sales = country_sales.sort_values(by='TotalPrice', ascending=False)\n",
    "\n",
    "# Plot\n",
    "fig = px.bar(country_sales, x='Country', y='TotalPrice',\n",
    "             title='Total Revenue by Country',\n",
    "             labels={'TotalPrice': 'Total Revenue'},\n",
    "             height=600)\n",
    "fig.update_layout(xaxis_tickangle=45)\n",
    "fig.show()"
   ]
  },
  {
   "cell_type": "markdown",
   "id": "ed890e65",
   "metadata": {},
   "source": [
    "We can see from our bar plot the UK is our Primary Market, dominating revenues with sales ~£9M. This could mean that the operations are UK-centric. \n",
    "This highlights the retailer's dependence on it's domestic market, and suggests that international markets are underdeveloped or under-targetted.\n",
    "It might be useful in this instance to evaluate international sales by excluding the UK."
   ]
  },
  {
   "cell_type": "code",
   "execution_count": 7,
   "id": "82e1455d",
   "metadata": {},
   "outputs": [
    {
     "data": {
      "application/vnd.plotly.v1+json": {
       "config": {
        "plotlyServerURL": "https://plot.ly"
       },
       "data": [
        {
         "hovertemplate": "Country=%{x}<br>Total Revenue=%{y}<extra></extra>",
         "legendgroup": "",
         "marker": {
          "color": "#636efa",
          "pattern": {
           "shape": ""
          }
         },
         "name": "",
         "orientation": "v",
         "showlegend": false,
         "textposition": "auto",
         "type": "bar",
         "x": [
          "Netherlands",
          "EIRE",
          "Germany",
          "France",
          "Australia",
          "Spain",
          "Switzerland",
          "Belgium",
          "Sweden",
          "Japan",
          "Norway",
          "Portugal",
          "Finland",
          "Singapore",
          "Channel Islands",
          "Denmark",
          "Italy",
          "Hong Kong",
          "Cyprus",
          "Austria",
          "Israel",
          "Poland",
          "Greece",
          "Unspecified",
          "Iceland",
          "Canada",
          "USA",
          "Malta",
          "United Arab Emirates",
          "Lebanon",
          "Lithuania",
          "European Community",
          "Brazil",
          "RSA",
          "Czech Republic",
          "Bahrain",
          "Saudi Arabia"
         ],
         "xaxis": "x",
         "y": {
          "bdata": "w/UoXBlsEUFI4XoUEkgRQTMzMzMz6gtBXI/C9cqWCUGuR+F6ruYAQbgehevRDu5AMzMzM3Pd60AVrkfhih3kQPYoXI/6u+JAcT0K1wtF4kBI4XoUrqjhQJqZmZlhcuBA7FG4HoUE1kD2KFyP0sfUQPYoXI8i9tNAKVyPwtWC0kDD9ShczxLRQAAAAACAPc5AzczMzGxfykCkcD0KV+vDQFyPwvVowb9AZmZmZqamvEDsUbgehZiyQD0K16PwhLJAAAAAAADWsED2KFyPwqSsQOF6FK7H+KtASOF6FC5LpUCF61G4HrmdQOxRuB6Fd5pACtejcD30mUAAAAAAAFGUQGZmZmZm3pFAFa5H4XpSj0BSuB6F69WJQIXrUbgekYdAPgrXo3A9YkA=",
          "dtype": "f8"
         },
         "yaxis": "y"
        }
       ],
       "layout": {
        "barmode": "relative",
        "height": 600,
        "legend": {
         "tracegroupgap": 0
        },
        "template": {
         "data": {
          "bar": [
           {
            "error_x": {
             "color": "#2a3f5f"
            },
            "error_y": {
             "color": "#2a3f5f"
            },
            "marker": {
             "line": {
              "color": "#E5ECF6",
              "width": 0.5
             },
             "pattern": {
              "fillmode": "overlay",
              "size": 10,
              "solidity": 0.2
             }
            },
            "type": "bar"
           }
          ],
          "barpolar": [
           {
            "marker": {
             "line": {
              "color": "#E5ECF6",
              "width": 0.5
             },
             "pattern": {
              "fillmode": "overlay",
              "size": 10,
              "solidity": 0.2
             }
            },
            "type": "barpolar"
           }
          ],
          "carpet": [
           {
            "aaxis": {
             "endlinecolor": "#2a3f5f",
             "gridcolor": "white",
             "linecolor": "white",
             "minorgridcolor": "white",
             "startlinecolor": "#2a3f5f"
            },
            "baxis": {
             "endlinecolor": "#2a3f5f",
             "gridcolor": "white",
             "linecolor": "white",
             "minorgridcolor": "white",
             "startlinecolor": "#2a3f5f"
            },
            "type": "carpet"
           }
          ],
          "choropleth": [
           {
            "colorbar": {
             "outlinewidth": 0,
             "ticks": ""
            },
            "type": "choropleth"
           }
          ],
          "contour": [
           {
            "colorbar": {
             "outlinewidth": 0,
             "ticks": ""
            },
            "colorscale": [
             [
              0,
              "#0d0887"
             ],
             [
              0.1111111111111111,
              "#46039f"
             ],
             [
              0.2222222222222222,
              "#7201a8"
             ],
             [
              0.3333333333333333,
              "#9c179e"
             ],
             [
              0.4444444444444444,
              "#bd3786"
             ],
             [
              0.5555555555555556,
              "#d8576b"
             ],
             [
              0.6666666666666666,
              "#ed7953"
             ],
             [
              0.7777777777777778,
              "#fb9f3a"
             ],
             [
              0.8888888888888888,
              "#fdca26"
             ],
             [
              1,
              "#f0f921"
             ]
            ],
            "type": "contour"
           }
          ],
          "contourcarpet": [
           {
            "colorbar": {
             "outlinewidth": 0,
             "ticks": ""
            },
            "type": "contourcarpet"
           }
          ],
          "heatmap": [
           {
            "colorbar": {
             "outlinewidth": 0,
             "ticks": ""
            },
            "colorscale": [
             [
              0,
              "#0d0887"
             ],
             [
              0.1111111111111111,
              "#46039f"
             ],
             [
              0.2222222222222222,
              "#7201a8"
             ],
             [
              0.3333333333333333,
              "#9c179e"
             ],
             [
              0.4444444444444444,
              "#bd3786"
             ],
             [
              0.5555555555555556,
              "#d8576b"
             ],
             [
              0.6666666666666666,
              "#ed7953"
             ],
             [
              0.7777777777777778,
              "#fb9f3a"
             ],
             [
              0.8888888888888888,
              "#fdca26"
             ],
             [
              1,
              "#f0f921"
             ]
            ],
            "type": "heatmap"
           }
          ],
          "histogram": [
           {
            "marker": {
             "pattern": {
              "fillmode": "overlay",
              "size": 10,
              "solidity": 0.2
             }
            },
            "type": "histogram"
           }
          ],
          "histogram2d": [
           {
            "colorbar": {
             "outlinewidth": 0,
             "ticks": ""
            },
            "colorscale": [
             [
              0,
              "#0d0887"
             ],
             [
              0.1111111111111111,
              "#46039f"
             ],
             [
              0.2222222222222222,
              "#7201a8"
             ],
             [
              0.3333333333333333,
              "#9c179e"
             ],
             [
              0.4444444444444444,
              "#bd3786"
             ],
             [
              0.5555555555555556,
              "#d8576b"
             ],
             [
              0.6666666666666666,
              "#ed7953"
             ],
             [
              0.7777777777777778,
              "#fb9f3a"
             ],
             [
              0.8888888888888888,
              "#fdca26"
             ],
             [
              1,
              "#f0f921"
             ]
            ],
            "type": "histogram2d"
           }
          ],
          "histogram2dcontour": [
           {
            "colorbar": {
             "outlinewidth": 0,
             "ticks": ""
            },
            "colorscale": [
             [
              0,
              "#0d0887"
             ],
             [
              0.1111111111111111,
              "#46039f"
             ],
             [
              0.2222222222222222,
              "#7201a8"
             ],
             [
              0.3333333333333333,
              "#9c179e"
             ],
             [
              0.4444444444444444,
              "#bd3786"
             ],
             [
              0.5555555555555556,
              "#d8576b"
             ],
             [
              0.6666666666666666,
              "#ed7953"
             ],
             [
              0.7777777777777778,
              "#fb9f3a"
             ],
             [
              0.8888888888888888,
              "#fdca26"
             ],
             [
              1,
              "#f0f921"
             ]
            ],
            "type": "histogram2dcontour"
           }
          ],
          "mesh3d": [
           {
            "colorbar": {
             "outlinewidth": 0,
             "ticks": ""
            },
            "type": "mesh3d"
           }
          ],
          "parcoords": [
           {
            "line": {
             "colorbar": {
              "outlinewidth": 0,
              "ticks": ""
             }
            },
            "type": "parcoords"
           }
          ],
          "pie": [
           {
            "automargin": true,
            "type": "pie"
           }
          ],
          "scatter": [
           {
            "fillpattern": {
             "fillmode": "overlay",
             "size": 10,
             "solidity": 0.2
            },
            "type": "scatter"
           }
          ],
          "scatter3d": [
           {
            "line": {
             "colorbar": {
              "outlinewidth": 0,
              "ticks": ""
             }
            },
            "marker": {
             "colorbar": {
              "outlinewidth": 0,
              "ticks": ""
             }
            },
            "type": "scatter3d"
           }
          ],
          "scattercarpet": [
           {
            "marker": {
             "colorbar": {
              "outlinewidth": 0,
              "ticks": ""
             }
            },
            "type": "scattercarpet"
           }
          ],
          "scattergeo": [
           {
            "marker": {
             "colorbar": {
              "outlinewidth": 0,
              "ticks": ""
             }
            },
            "type": "scattergeo"
           }
          ],
          "scattergl": [
           {
            "marker": {
             "colorbar": {
              "outlinewidth": 0,
              "ticks": ""
             }
            },
            "type": "scattergl"
           }
          ],
          "scattermap": [
           {
            "marker": {
             "colorbar": {
              "outlinewidth": 0,
              "ticks": ""
             }
            },
            "type": "scattermap"
           }
          ],
          "scattermapbox": [
           {
            "marker": {
             "colorbar": {
              "outlinewidth": 0,
              "ticks": ""
             }
            },
            "type": "scattermapbox"
           }
          ],
          "scatterpolar": [
           {
            "marker": {
             "colorbar": {
              "outlinewidth": 0,
              "ticks": ""
             }
            },
            "type": "scatterpolar"
           }
          ],
          "scatterpolargl": [
           {
            "marker": {
             "colorbar": {
              "outlinewidth": 0,
              "ticks": ""
             }
            },
            "type": "scatterpolargl"
           }
          ],
          "scatterternary": [
           {
            "marker": {
             "colorbar": {
              "outlinewidth": 0,
              "ticks": ""
             }
            },
            "type": "scatterternary"
           }
          ],
          "surface": [
           {
            "colorbar": {
             "outlinewidth": 0,
             "ticks": ""
            },
            "colorscale": [
             [
              0,
              "#0d0887"
             ],
             [
              0.1111111111111111,
              "#46039f"
             ],
             [
              0.2222222222222222,
              "#7201a8"
             ],
             [
              0.3333333333333333,
              "#9c179e"
             ],
             [
              0.4444444444444444,
              "#bd3786"
             ],
             [
              0.5555555555555556,
              "#d8576b"
             ],
             [
              0.6666666666666666,
              "#ed7953"
             ],
             [
              0.7777777777777778,
              "#fb9f3a"
             ],
             [
              0.8888888888888888,
              "#fdca26"
             ],
             [
              1,
              "#f0f921"
             ]
            ],
            "type": "surface"
           }
          ],
          "table": [
           {
            "cells": {
             "fill": {
              "color": "#EBF0F8"
             },
             "line": {
              "color": "white"
             }
            },
            "header": {
             "fill": {
              "color": "#C8D4E3"
             },
             "line": {
              "color": "white"
             }
            },
            "type": "table"
           }
          ]
         },
         "layout": {
          "annotationdefaults": {
           "arrowcolor": "#2a3f5f",
           "arrowhead": 0,
           "arrowwidth": 1
          },
          "autotypenumbers": "strict",
          "coloraxis": {
           "colorbar": {
            "outlinewidth": 0,
            "ticks": ""
           }
          },
          "colorscale": {
           "diverging": [
            [
             0,
             "#8e0152"
            ],
            [
             0.1,
             "#c51b7d"
            ],
            [
             0.2,
             "#de77ae"
            ],
            [
             0.3,
             "#f1b6da"
            ],
            [
             0.4,
             "#fde0ef"
            ],
            [
             0.5,
             "#f7f7f7"
            ],
            [
             0.6,
             "#e6f5d0"
            ],
            [
             0.7,
             "#b8e186"
            ],
            [
             0.8,
             "#7fbc41"
            ],
            [
             0.9,
             "#4d9221"
            ],
            [
             1,
             "#276419"
            ]
           ],
           "sequential": [
            [
             0,
             "#0d0887"
            ],
            [
             0.1111111111111111,
             "#46039f"
            ],
            [
             0.2222222222222222,
             "#7201a8"
            ],
            [
             0.3333333333333333,
             "#9c179e"
            ],
            [
             0.4444444444444444,
             "#bd3786"
            ],
            [
             0.5555555555555556,
             "#d8576b"
            ],
            [
             0.6666666666666666,
             "#ed7953"
            ],
            [
             0.7777777777777778,
             "#fb9f3a"
            ],
            [
             0.8888888888888888,
             "#fdca26"
            ],
            [
             1,
             "#f0f921"
            ]
           ],
           "sequentialminus": [
            [
             0,
             "#0d0887"
            ],
            [
             0.1111111111111111,
             "#46039f"
            ],
            [
             0.2222222222222222,
             "#7201a8"
            ],
            [
             0.3333333333333333,
             "#9c179e"
            ],
            [
             0.4444444444444444,
             "#bd3786"
            ],
            [
             0.5555555555555556,
             "#d8576b"
            ],
            [
             0.6666666666666666,
             "#ed7953"
            ],
            [
             0.7777777777777778,
             "#fb9f3a"
            ],
            [
             0.8888888888888888,
             "#fdca26"
            ],
            [
             1,
             "#f0f921"
            ]
           ]
          },
          "colorway": [
           "#636efa",
           "#EF553B",
           "#00cc96",
           "#ab63fa",
           "#FFA15A",
           "#19d3f3",
           "#FF6692",
           "#B6E880",
           "#FF97FF",
           "#FECB52"
          ],
          "font": {
           "color": "#2a3f5f"
          },
          "geo": {
           "bgcolor": "white",
           "lakecolor": "white",
           "landcolor": "#E5ECF6",
           "showlakes": true,
           "showland": true,
           "subunitcolor": "white"
          },
          "hoverlabel": {
           "align": "left"
          },
          "hovermode": "closest",
          "mapbox": {
           "style": "light"
          },
          "paper_bgcolor": "white",
          "plot_bgcolor": "#E5ECF6",
          "polar": {
           "angularaxis": {
            "gridcolor": "white",
            "linecolor": "white",
            "ticks": ""
           },
           "bgcolor": "#E5ECF6",
           "radialaxis": {
            "gridcolor": "white",
            "linecolor": "white",
            "ticks": ""
           }
          },
          "scene": {
           "xaxis": {
            "backgroundcolor": "#E5ECF6",
            "gridcolor": "white",
            "gridwidth": 2,
            "linecolor": "white",
            "showbackground": true,
            "ticks": "",
            "zerolinecolor": "white"
           },
           "yaxis": {
            "backgroundcolor": "#E5ECF6",
            "gridcolor": "white",
            "gridwidth": 2,
            "linecolor": "white",
            "showbackground": true,
            "ticks": "",
            "zerolinecolor": "white"
           },
           "zaxis": {
            "backgroundcolor": "#E5ECF6",
            "gridcolor": "white",
            "gridwidth": 2,
            "linecolor": "white",
            "showbackground": true,
            "ticks": "",
            "zerolinecolor": "white"
           }
          },
          "shapedefaults": {
           "line": {
            "color": "#2a3f5f"
           }
          },
          "ternary": {
           "aaxis": {
            "gridcolor": "white",
            "linecolor": "white",
            "ticks": ""
           },
           "baxis": {
            "gridcolor": "white",
            "linecolor": "white",
            "ticks": ""
           },
           "bgcolor": "#E5ECF6",
           "caxis": {
            "gridcolor": "white",
            "linecolor": "white",
            "ticks": ""
           }
          },
          "title": {
           "x": 0.05
          },
          "xaxis": {
           "automargin": true,
           "gridcolor": "white",
           "linecolor": "white",
           "ticks": "",
           "title": {
            "standoff": 15
           },
           "zerolinecolor": "white",
           "zerolinewidth": 2
          },
          "yaxis": {
           "automargin": true,
           "gridcolor": "white",
           "linecolor": "white",
           "ticks": "",
           "title": {
            "standoff": 15
           },
           "zerolinecolor": "white",
           "zerolinewidth": 2
          }
         }
        },
        "title": {
         "text": "Revenue by Country (Excluding UK)"
        },
        "xaxis": {
         "anchor": "y",
         "domain": [
          0,
          1
         ],
         "tickangle": 45,
         "title": {
          "text": "Country"
         }
        },
        "yaxis": {
         "anchor": "x",
         "domain": [
          0,
          1
         ],
         "title": {
          "text": "Total Revenue"
         }
        }
       }
      }
     },
     "metadata": {},
     "output_type": "display_data"
    }
   ],
   "source": [
    "# Exclude the UK for better visual balance\n",
    "non_uk_sales = country_sales[country_sales['Country'] != 'United Kingdom']\n",
    "\n",
    "fig = px.bar(non_uk_sales.sort_values(by='TotalPrice', ascending=False),\n",
    "             x='Country', y='TotalPrice',\n",
    "             title='Revenue by Country (Excluding UK)',\n",
    "             labels={'TotalPrice': 'Total Revenue'},\n",
    "             height=600)\n",
    "fig.update_layout(xaxis_tickangle=45)\n",
    "fig.show()"
   ]
  },
  {
   "cell_type": "markdown",
   "id": "dcc46b58",
   "metadata": {},
   "source": [
    "Unsurprisingly, we can see from this bar plot, that our secondary markets are situated within the European Union. \n",
    "At this point, it could be helpful to our analysis to create a dictionary to group our countries into regions. "
   ]
  },
  {
   "cell_type": "code",
   "execution_count": 8,
   "id": "2a959238",
   "metadata": {},
   "outputs": [],
   "source": [
    "# Define region mapping\n",
    "# This dictionary maps countries to their respective regions for better analysis\n",
    "\n",
    "region_map = {\n",
    "    'United Kingdom': 'UK',\n",
    "    'France': 'Europe',\n",
    "    'Germany': 'Europe',\n",
    "    'Netherlands': 'Europe',\n",
    "    'Belgium': 'Europe',\n",
    "    'Switzerland': 'Europe',\n",
    "    'Spain': 'Europe',\n",
    "    'Portugal': 'Europe',\n",
    "    'Italy': 'Europe',\n",
    "    'Norway': 'Europe',\n",
    "    'Austria': 'Europe',\n",
    "    'Denmark': 'Europe',\n",
    "    'Sweden': 'Europe',\n",
    "    'Finland': 'Europe',\n",
    "    'Ireland': 'Europe',\n",
    "    'Greece': 'Europe',\n",
    "    'Cyprus': 'Europe',\n",
    "    'Channel Islands': 'Europe',\n",
    "\n",
    "    'Australia': 'Oceania',\n",
    "    'New Zealand': 'Oceania',\n",
    "\n",
    "    'USA': 'North America',\n",
    "    'Canada': 'North America',\n",
    "\n",
    "    'Japan': 'Asia',\n",
    "    'Hong Kong': 'Asia',\n",
    "    'Singapore': 'Asia',\n",
    "    'Israel': 'Middle East',\n",
    "    'United Arab Emirates': 'Middle East',\n",
    "\n",
    "    'Unspecified': 'Other',\n",
    "    'EIRE': 'Europe'\n",
    "}"
   ]
  },
  {
   "cell_type": "markdown",
   "id": "bd027d72",
   "metadata": {},
   "source": [
    "Let us now create a column for 'Region' in our dataset:"
   ]
  },
  {
   "cell_type": "code",
   "execution_count": 9,
   "id": "fd1f2843",
   "metadata": {},
   "outputs": [],
   "source": [
    "# Create a Region column\n",
    "df['Region'] = df['Country'].map(region_map).fillna('Other')"
   ]
  },
  {
   "cell_type": "markdown",
   "id": "b374c4c8",
   "metadata": {},
   "source": [
    "Now we can aggregate our revenues by region, and display our findings in a Bar Plot."
   ]
  },
  {
   "cell_type": "code",
   "execution_count": 10,
   "id": "fdced43d",
   "metadata": {},
   "outputs": [
    {
     "data": {
      "application/vnd.plotly.v1+json": {
       "config": {
        "plotlyServerURL": "https://plot.ly"
       },
       "data": [
        {
         "hovertemplate": "Region=%{x}<br>Total Revenue=%{y}<extra></extra>",
         "legendgroup": "",
         "marker": {
          "color": "#636efa",
          "pattern": {
           "shape": ""
          }
         },
         "name": "",
         "orientation": "v",
         "showlegend": false,
         "textposition": "auto",
         "type": "bar",
         "x": [
          "UK",
          "Europe",
          "Oceania",
          "Asia",
          "Other",
          "Middle East",
          "North America"
         ],
         "xaxis": "x",
         "y": {
          "bdata": "SgwCA2IrYUEzMzOzoBk1Qa5H4Xqu5gBB9ihcjyoc8kDsUbgexf3aQB+F61HYl8NA7FG4HsVOvEA=",
          "dtype": "f8"
         },
         "yaxis": "y"
        }
       ],
       "layout": {
        "barmode": "relative",
        "legend": {
         "tracegroupgap": 0
        },
        "template": {
         "data": {
          "bar": [
           {
            "error_x": {
             "color": "#2a3f5f"
            },
            "error_y": {
             "color": "#2a3f5f"
            },
            "marker": {
             "line": {
              "color": "#E5ECF6",
              "width": 0.5
             },
             "pattern": {
              "fillmode": "overlay",
              "size": 10,
              "solidity": 0.2
             }
            },
            "type": "bar"
           }
          ],
          "barpolar": [
           {
            "marker": {
             "line": {
              "color": "#E5ECF6",
              "width": 0.5
             },
             "pattern": {
              "fillmode": "overlay",
              "size": 10,
              "solidity": 0.2
             }
            },
            "type": "barpolar"
           }
          ],
          "carpet": [
           {
            "aaxis": {
             "endlinecolor": "#2a3f5f",
             "gridcolor": "white",
             "linecolor": "white",
             "minorgridcolor": "white",
             "startlinecolor": "#2a3f5f"
            },
            "baxis": {
             "endlinecolor": "#2a3f5f",
             "gridcolor": "white",
             "linecolor": "white",
             "minorgridcolor": "white",
             "startlinecolor": "#2a3f5f"
            },
            "type": "carpet"
           }
          ],
          "choropleth": [
           {
            "colorbar": {
             "outlinewidth": 0,
             "ticks": ""
            },
            "type": "choropleth"
           }
          ],
          "contour": [
           {
            "colorbar": {
             "outlinewidth": 0,
             "ticks": ""
            },
            "colorscale": [
             [
              0,
              "#0d0887"
             ],
             [
              0.1111111111111111,
              "#46039f"
             ],
             [
              0.2222222222222222,
              "#7201a8"
             ],
             [
              0.3333333333333333,
              "#9c179e"
             ],
             [
              0.4444444444444444,
              "#bd3786"
             ],
             [
              0.5555555555555556,
              "#d8576b"
             ],
             [
              0.6666666666666666,
              "#ed7953"
             ],
             [
              0.7777777777777778,
              "#fb9f3a"
             ],
             [
              0.8888888888888888,
              "#fdca26"
             ],
             [
              1,
              "#f0f921"
             ]
            ],
            "type": "contour"
           }
          ],
          "contourcarpet": [
           {
            "colorbar": {
             "outlinewidth": 0,
             "ticks": ""
            },
            "type": "contourcarpet"
           }
          ],
          "heatmap": [
           {
            "colorbar": {
             "outlinewidth": 0,
             "ticks": ""
            },
            "colorscale": [
             [
              0,
              "#0d0887"
             ],
             [
              0.1111111111111111,
              "#46039f"
             ],
             [
              0.2222222222222222,
              "#7201a8"
             ],
             [
              0.3333333333333333,
              "#9c179e"
             ],
             [
              0.4444444444444444,
              "#bd3786"
             ],
             [
              0.5555555555555556,
              "#d8576b"
             ],
             [
              0.6666666666666666,
              "#ed7953"
             ],
             [
              0.7777777777777778,
              "#fb9f3a"
             ],
             [
              0.8888888888888888,
              "#fdca26"
             ],
             [
              1,
              "#f0f921"
             ]
            ],
            "type": "heatmap"
           }
          ],
          "histogram": [
           {
            "marker": {
             "pattern": {
              "fillmode": "overlay",
              "size": 10,
              "solidity": 0.2
             }
            },
            "type": "histogram"
           }
          ],
          "histogram2d": [
           {
            "colorbar": {
             "outlinewidth": 0,
             "ticks": ""
            },
            "colorscale": [
             [
              0,
              "#0d0887"
             ],
             [
              0.1111111111111111,
              "#46039f"
             ],
             [
              0.2222222222222222,
              "#7201a8"
             ],
             [
              0.3333333333333333,
              "#9c179e"
             ],
             [
              0.4444444444444444,
              "#bd3786"
             ],
             [
              0.5555555555555556,
              "#d8576b"
             ],
             [
              0.6666666666666666,
              "#ed7953"
             ],
             [
              0.7777777777777778,
              "#fb9f3a"
             ],
             [
              0.8888888888888888,
              "#fdca26"
             ],
             [
              1,
              "#f0f921"
             ]
            ],
            "type": "histogram2d"
           }
          ],
          "histogram2dcontour": [
           {
            "colorbar": {
             "outlinewidth": 0,
             "ticks": ""
            },
            "colorscale": [
             [
              0,
              "#0d0887"
             ],
             [
              0.1111111111111111,
              "#46039f"
             ],
             [
              0.2222222222222222,
              "#7201a8"
             ],
             [
              0.3333333333333333,
              "#9c179e"
             ],
             [
              0.4444444444444444,
              "#bd3786"
             ],
             [
              0.5555555555555556,
              "#d8576b"
             ],
             [
              0.6666666666666666,
              "#ed7953"
             ],
             [
              0.7777777777777778,
              "#fb9f3a"
             ],
             [
              0.8888888888888888,
              "#fdca26"
             ],
             [
              1,
              "#f0f921"
             ]
            ],
            "type": "histogram2dcontour"
           }
          ],
          "mesh3d": [
           {
            "colorbar": {
             "outlinewidth": 0,
             "ticks": ""
            },
            "type": "mesh3d"
           }
          ],
          "parcoords": [
           {
            "line": {
             "colorbar": {
              "outlinewidth": 0,
              "ticks": ""
             }
            },
            "type": "parcoords"
           }
          ],
          "pie": [
           {
            "automargin": true,
            "type": "pie"
           }
          ],
          "scatter": [
           {
            "fillpattern": {
             "fillmode": "overlay",
             "size": 10,
             "solidity": 0.2
            },
            "type": "scatter"
           }
          ],
          "scatter3d": [
           {
            "line": {
             "colorbar": {
              "outlinewidth": 0,
              "ticks": ""
             }
            },
            "marker": {
             "colorbar": {
              "outlinewidth": 0,
              "ticks": ""
             }
            },
            "type": "scatter3d"
           }
          ],
          "scattercarpet": [
           {
            "marker": {
             "colorbar": {
              "outlinewidth": 0,
              "ticks": ""
             }
            },
            "type": "scattercarpet"
           }
          ],
          "scattergeo": [
           {
            "marker": {
             "colorbar": {
              "outlinewidth": 0,
              "ticks": ""
             }
            },
            "type": "scattergeo"
           }
          ],
          "scattergl": [
           {
            "marker": {
             "colorbar": {
              "outlinewidth": 0,
              "ticks": ""
             }
            },
            "type": "scattergl"
           }
          ],
          "scattermap": [
           {
            "marker": {
             "colorbar": {
              "outlinewidth": 0,
              "ticks": ""
             }
            },
            "type": "scattermap"
           }
          ],
          "scattermapbox": [
           {
            "marker": {
             "colorbar": {
              "outlinewidth": 0,
              "ticks": ""
             }
            },
            "type": "scattermapbox"
           }
          ],
          "scatterpolar": [
           {
            "marker": {
             "colorbar": {
              "outlinewidth": 0,
              "ticks": ""
             }
            },
            "type": "scatterpolar"
           }
          ],
          "scatterpolargl": [
           {
            "marker": {
             "colorbar": {
              "outlinewidth": 0,
              "ticks": ""
             }
            },
            "type": "scatterpolargl"
           }
          ],
          "scatterternary": [
           {
            "marker": {
             "colorbar": {
              "outlinewidth": 0,
              "ticks": ""
             }
            },
            "type": "scatterternary"
           }
          ],
          "surface": [
           {
            "colorbar": {
             "outlinewidth": 0,
             "ticks": ""
            },
            "colorscale": [
             [
              0,
              "#0d0887"
             ],
             [
              0.1111111111111111,
              "#46039f"
             ],
             [
              0.2222222222222222,
              "#7201a8"
             ],
             [
              0.3333333333333333,
              "#9c179e"
             ],
             [
              0.4444444444444444,
              "#bd3786"
             ],
             [
              0.5555555555555556,
              "#d8576b"
             ],
             [
              0.6666666666666666,
              "#ed7953"
             ],
             [
              0.7777777777777778,
              "#fb9f3a"
             ],
             [
              0.8888888888888888,
              "#fdca26"
             ],
             [
              1,
              "#f0f921"
             ]
            ],
            "type": "surface"
           }
          ],
          "table": [
           {
            "cells": {
             "fill": {
              "color": "#EBF0F8"
             },
             "line": {
              "color": "white"
             }
            },
            "header": {
             "fill": {
              "color": "#C8D4E3"
             },
             "line": {
              "color": "white"
             }
            },
            "type": "table"
           }
          ]
         },
         "layout": {
          "annotationdefaults": {
           "arrowcolor": "#2a3f5f",
           "arrowhead": 0,
           "arrowwidth": 1
          },
          "autotypenumbers": "strict",
          "coloraxis": {
           "colorbar": {
            "outlinewidth": 0,
            "ticks": ""
           }
          },
          "colorscale": {
           "diverging": [
            [
             0,
             "#8e0152"
            ],
            [
             0.1,
             "#c51b7d"
            ],
            [
             0.2,
             "#de77ae"
            ],
            [
             0.3,
             "#f1b6da"
            ],
            [
             0.4,
             "#fde0ef"
            ],
            [
             0.5,
             "#f7f7f7"
            ],
            [
             0.6,
             "#e6f5d0"
            ],
            [
             0.7,
             "#b8e186"
            ],
            [
             0.8,
             "#7fbc41"
            ],
            [
             0.9,
             "#4d9221"
            ],
            [
             1,
             "#276419"
            ]
           ],
           "sequential": [
            [
             0,
             "#0d0887"
            ],
            [
             0.1111111111111111,
             "#46039f"
            ],
            [
             0.2222222222222222,
             "#7201a8"
            ],
            [
             0.3333333333333333,
             "#9c179e"
            ],
            [
             0.4444444444444444,
             "#bd3786"
            ],
            [
             0.5555555555555556,
             "#d8576b"
            ],
            [
             0.6666666666666666,
             "#ed7953"
            ],
            [
             0.7777777777777778,
             "#fb9f3a"
            ],
            [
             0.8888888888888888,
             "#fdca26"
            ],
            [
             1,
             "#f0f921"
            ]
           ],
           "sequentialminus": [
            [
             0,
             "#0d0887"
            ],
            [
             0.1111111111111111,
             "#46039f"
            ],
            [
             0.2222222222222222,
             "#7201a8"
            ],
            [
             0.3333333333333333,
             "#9c179e"
            ],
            [
             0.4444444444444444,
             "#bd3786"
            ],
            [
             0.5555555555555556,
             "#d8576b"
            ],
            [
             0.6666666666666666,
             "#ed7953"
            ],
            [
             0.7777777777777778,
             "#fb9f3a"
            ],
            [
             0.8888888888888888,
             "#fdca26"
            ],
            [
             1,
             "#f0f921"
            ]
           ]
          },
          "colorway": [
           "#636efa",
           "#EF553B",
           "#00cc96",
           "#ab63fa",
           "#FFA15A",
           "#19d3f3",
           "#FF6692",
           "#B6E880",
           "#FF97FF",
           "#FECB52"
          ],
          "font": {
           "color": "#2a3f5f"
          },
          "geo": {
           "bgcolor": "white",
           "lakecolor": "white",
           "landcolor": "#E5ECF6",
           "showlakes": true,
           "showland": true,
           "subunitcolor": "white"
          },
          "hoverlabel": {
           "align": "left"
          },
          "hovermode": "closest",
          "mapbox": {
           "style": "light"
          },
          "paper_bgcolor": "white",
          "plot_bgcolor": "#E5ECF6",
          "polar": {
           "angularaxis": {
            "gridcolor": "white",
            "linecolor": "white",
            "ticks": ""
           },
           "bgcolor": "#E5ECF6",
           "radialaxis": {
            "gridcolor": "white",
            "linecolor": "white",
            "ticks": ""
           }
          },
          "scene": {
           "xaxis": {
            "backgroundcolor": "#E5ECF6",
            "gridcolor": "white",
            "gridwidth": 2,
            "linecolor": "white",
            "showbackground": true,
            "ticks": "",
            "zerolinecolor": "white"
           },
           "yaxis": {
            "backgroundcolor": "#E5ECF6",
            "gridcolor": "white",
            "gridwidth": 2,
            "linecolor": "white",
            "showbackground": true,
            "ticks": "",
            "zerolinecolor": "white"
           },
           "zaxis": {
            "backgroundcolor": "#E5ECF6",
            "gridcolor": "white",
            "gridwidth": 2,
            "linecolor": "white",
            "showbackground": true,
            "ticks": "",
            "zerolinecolor": "white"
           }
          },
          "shapedefaults": {
           "line": {
            "color": "#2a3f5f"
           }
          },
          "ternary": {
           "aaxis": {
            "gridcolor": "white",
            "linecolor": "white",
            "ticks": ""
           },
           "baxis": {
            "gridcolor": "white",
            "linecolor": "white",
            "ticks": ""
           },
           "bgcolor": "#E5ECF6",
           "caxis": {
            "gridcolor": "white",
            "linecolor": "white",
            "ticks": ""
           }
          },
          "title": {
           "x": 0.05
          },
          "xaxis": {
           "automargin": true,
           "gridcolor": "white",
           "linecolor": "white",
           "ticks": "",
           "title": {
            "standoff": 15
           },
           "zerolinecolor": "white",
           "zerolinewidth": 2
          },
          "yaxis": {
           "automargin": true,
           "gridcolor": "white",
           "linecolor": "white",
           "ticks": "",
           "title": {
            "standoff": 15
           },
           "zerolinecolor": "white",
           "zerolinewidth": 2
          }
         }
        },
        "title": {
         "text": "Revenue by Region"
        },
        "xaxis": {
         "anchor": "y",
         "domain": [
          0,
          1
         ],
         "title": {
          "text": "Region"
         }
        },
        "yaxis": {
         "anchor": "x",
         "domain": [
          0,
          1
         ],
         "title": {
          "text": "Total Revenue"
         }
        }
       }
      }
     },
     "metadata": {},
     "output_type": "display_data"
    }
   ],
   "source": [
    "# Aggregate revenue by region\n",
    "region_sales = df.groupby('Region')['TotalPrice'].sum().reset_index()\n",
    "\n",
    "# Bar chart of regional revenue\n",
    "fig = px.bar(region_sales.sort_values(by='TotalPrice', ascending=False),\n",
    "             x='Region', y='TotalPrice',\n",
    "             title='Revenue by Region',\n",
    "             labels={'TotalPrice': 'Total Revenue'})\n",
    "fig.show()"
   ]
  },
  {
   "cell_type": "markdown",
   "id": "998215ce",
   "metadata": {},
   "source": [
    "We can see here that our revenues by region are:\n",
    "\n",
    "|__Region__|__Total Revenue__|\n",
    "|----------|-----------------|\n",
    "|UK|~£90M|\n",
    "|Europe|~£1.4M|\n",
    "|Oceania|~£138K|\n",
    "|Asia|~£74K|\n",
    "|Other|~£28K|\n",
    "|Middle East|~£10K|\n",
    "|North America|~£7K|"
   ]
  },
  {
   "cell_type": "markdown",
   "id": "638c4b88",
   "metadata": {},
   "source": [
    "Let us also generate a Pie Chart for a more attractive visualisation of Revenue Share by Region."
   ]
  },
  {
   "cell_type": "code",
   "execution_count": 11,
   "id": "c187eeea",
   "metadata": {},
   "outputs": [
    {
     "data": {
      "application/vnd.plotly.v1+json": {
       "config": {
        "plotlyServerURL": "https://plot.ly"
       },
       "data": [
        {
         "domain": {
          "x": [
           0,
           1
          ],
          "y": [
           0,
           1
          ]
         },
         "hovertemplate": "Region=%{label}<br>TotalPrice=%{value}<extra></extra>",
         "labels": [
          "Asia",
          "Europe",
          "Middle East",
          "North America",
          "Oceania",
          "Other",
          "UK"
         ],
         "legendgroup": "",
         "name": "",
         "showlegend": true,
         "type": "pie",
         "values": {
          "bdata": "9ihcjyoc8kAzMzOzoBk1QR+F61HYl8NA7FG4HsVOvECuR+F6ruYAQexRuB7F/dpASgwCA2IrYUE=",
          "dtype": "f8"
         }
        }
       ],
       "layout": {
        "legend": {
         "tracegroupgap": 0
        },
        "template": {
         "data": {
          "bar": [
           {
            "error_x": {
             "color": "#2a3f5f"
            },
            "error_y": {
             "color": "#2a3f5f"
            },
            "marker": {
             "line": {
              "color": "#E5ECF6",
              "width": 0.5
             },
             "pattern": {
              "fillmode": "overlay",
              "size": 10,
              "solidity": 0.2
             }
            },
            "type": "bar"
           }
          ],
          "barpolar": [
           {
            "marker": {
             "line": {
              "color": "#E5ECF6",
              "width": 0.5
             },
             "pattern": {
              "fillmode": "overlay",
              "size": 10,
              "solidity": 0.2
             }
            },
            "type": "barpolar"
           }
          ],
          "carpet": [
           {
            "aaxis": {
             "endlinecolor": "#2a3f5f",
             "gridcolor": "white",
             "linecolor": "white",
             "minorgridcolor": "white",
             "startlinecolor": "#2a3f5f"
            },
            "baxis": {
             "endlinecolor": "#2a3f5f",
             "gridcolor": "white",
             "linecolor": "white",
             "minorgridcolor": "white",
             "startlinecolor": "#2a3f5f"
            },
            "type": "carpet"
           }
          ],
          "choropleth": [
           {
            "colorbar": {
             "outlinewidth": 0,
             "ticks": ""
            },
            "type": "choropleth"
           }
          ],
          "contour": [
           {
            "colorbar": {
             "outlinewidth": 0,
             "ticks": ""
            },
            "colorscale": [
             [
              0,
              "#0d0887"
             ],
             [
              0.1111111111111111,
              "#46039f"
             ],
             [
              0.2222222222222222,
              "#7201a8"
             ],
             [
              0.3333333333333333,
              "#9c179e"
             ],
             [
              0.4444444444444444,
              "#bd3786"
             ],
             [
              0.5555555555555556,
              "#d8576b"
             ],
             [
              0.6666666666666666,
              "#ed7953"
             ],
             [
              0.7777777777777778,
              "#fb9f3a"
             ],
             [
              0.8888888888888888,
              "#fdca26"
             ],
             [
              1,
              "#f0f921"
             ]
            ],
            "type": "contour"
           }
          ],
          "contourcarpet": [
           {
            "colorbar": {
             "outlinewidth": 0,
             "ticks": ""
            },
            "type": "contourcarpet"
           }
          ],
          "heatmap": [
           {
            "colorbar": {
             "outlinewidth": 0,
             "ticks": ""
            },
            "colorscale": [
             [
              0,
              "#0d0887"
             ],
             [
              0.1111111111111111,
              "#46039f"
             ],
             [
              0.2222222222222222,
              "#7201a8"
             ],
             [
              0.3333333333333333,
              "#9c179e"
             ],
             [
              0.4444444444444444,
              "#bd3786"
             ],
             [
              0.5555555555555556,
              "#d8576b"
             ],
             [
              0.6666666666666666,
              "#ed7953"
             ],
             [
              0.7777777777777778,
              "#fb9f3a"
             ],
             [
              0.8888888888888888,
              "#fdca26"
             ],
             [
              1,
              "#f0f921"
             ]
            ],
            "type": "heatmap"
           }
          ],
          "histogram": [
           {
            "marker": {
             "pattern": {
              "fillmode": "overlay",
              "size": 10,
              "solidity": 0.2
             }
            },
            "type": "histogram"
           }
          ],
          "histogram2d": [
           {
            "colorbar": {
             "outlinewidth": 0,
             "ticks": ""
            },
            "colorscale": [
             [
              0,
              "#0d0887"
             ],
             [
              0.1111111111111111,
              "#46039f"
             ],
             [
              0.2222222222222222,
              "#7201a8"
             ],
             [
              0.3333333333333333,
              "#9c179e"
             ],
             [
              0.4444444444444444,
              "#bd3786"
             ],
             [
              0.5555555555555556,
              "#d8576b"
             ],
             [
              0.6666666666666666,
              "#ed7953"
             ],
             [
              0.7777777777777778,
              "#fb9f3a"
             ],
             [
              0.8888888888888888,
              "#fdca26"
             ],
             [
              1,
              "#f0f921"
             ]
            ],
            "type": "histogram2d"
           }
          ],
          "histogram2dcontour": [
           {
            "colorbar": {
             "outlinewidth": 0,
             "ticks": ""
            },
            "colorscale": [
             [
              0,
              "#0d0887"
             ],
             [
              0.1111111111111111,
              "#46039f"
             ],
             [
              0.2222222222222222,
              "#7201a8"
             ],
             [
              0.3333333333333333,
              "#9c179e"
             ],
             [
              0.4444444444444444,
              "#bd3786"
             ],
             [
              0.5555555555555556,
              "#d8576b"
             ],
             [
              0.6666666666666666,
              "#ed7953"
             ],
             [
              0.7777777777777778,
              "#fb9f3a"
             ],
             [
              0.8888888888888888,
              "#fdca26"
             ],
             [
              1,
              "#f0f921"
             ]
            ],
            "type": "histogram2dcontour"
           }
          ],
          "mesh3d": [
           {
            "colorbar": {
             "outlinewidth": 0,
             "ticks": ""
            },
            "type": "mesh3d"
           }
          ],
          "parcoords": [
           {
            "line": {
             "colorbar": {
              "outlinewidth": 0,
              "ticks": ""
             }
            },
            "type": "parcoords"
           }
          ],
          "pie": [
           {
            "automargin": true,
            "type": "pie"
           }
          ],
          "scatter": [
           {
            "fillpattern": {
             "fillmode": "overlay",
             "size": 10,
             "solidity": 0.2
            },
            "type": "scatter"
           }
          ],
          "scatter3d": [
           {
            "line": {
             "colorbar": {
              "outlinewidth": 0,
              "ticks": ""
             }
            },
            "marker": {
             "colorbar": {
              "outlinewidth": 0,
              "ticks": ""
             }
            },
            "type": "scatter3d"
           }
          ],
          "scattercarpet": [
           {
            "marker": {
             "colorbar": {
              "outlinewidth": 0,
              "ticks": ""
             }
            },
            "type": "scattercarpet"
           }
          ],
          "scattergeo": [
           {
            "marker": {
             "colorbar": {
              "outlinewidth": 0,
              "ticks": ""
             }
            },
            "type": "scattergeo"
           }
          ],
          "scattergl": [
           {
            "marker": {
             "colorbar": {
              "outlinewidth": 0,
              "ticks": ""
             }
            },
            "type": "scattergl"
           }
          ],
          "scattermap": [
           {
            "marker": {
             "colorbar": {
              "outlinewidth": 0,
              "ticks": ""
             }
            },
            "type": "scattermap"
           }
          ],
          "scattermapbox": [
           {
            "marker": {
             "colorbar": {
              "outlinewidth": 0,
              "ticks": ""
             }
            },
            "type": "scattermapbox"
           }
          ],
          "scatterpolar": [
           {
            "marker": {
             "colorbar": {
              "outlinewidth": 0,
              "ticks": ""
             }
            },
            "type": "scatterpolar"
           }
          ],
          "scatterpolargl": [
           {
            "marker": {
             "colorbar": {
              "outlinewidth": 0,
              "ticks": ""
             }
            },
            "type": "scatterpolargl"
           }
          ],
          "scatterternary": [
           {
            "marker": {
             "colorbar": {
              "outlinewidth": 0,
              "ticks": ""
             }
            },
            "type": "scatterternary"
           }
          ],
          "surface": [
           {
            "colorbar": {
             "outlinewidth": 0,
             "ticks": ""
            },
            "colorscale": [
             [
              0,
              "#0d0887"
             ],
             [
              0.1111111111111111,
              "#46039f"
             ],
             [
              0.2222222222222222,
              "#7201a8"
             ],
             [
              0.3333333333333333,
              "#9c179e"
             ],
             [
              0.4444444444444444,
              "#bd3786"
             ],
             [
              0.5555555555555556,
              "#d8576b"
             ],
             [
              0.6666666666666666,
              "#ed7953"
             ],
             [
              0.7777777777777778,
              "#fb9f3a"
             ],
             [
              0.8888888888888888,
              "#fdca26"
             ],
             [
              1,
              "#f0f921"
             ]
            ],
            "type": "surface"
           }
          ],
          "table": [
           {
            "cells": {
             "fill": {
              "color": "#EBF0F8"
             },
             "line": {
              "color": "white"
             }
            },
            "header": {
             "fill": {
              "color": "#C8D4E3"
             },
             "line": {
              "color": "white"
             }
            },
            "type": "table"
           }
          ]
         },
         "layout": {
          "annotationdefaults": {
           "arrowcolor": "#2a3f5f",
           "arrowhead": 0,
           "arrowwidth": 1
          },
          "autotypenumbers": "strict",
          "coloraxis": {
           "colorbar": {
            "outlinewidth": 0,
            "ticks": ""
           }
          },
          "colorscale": {
           "diverging": [
            [
             0,
             "#8e0152"
            ],
            [
             0.1,
             "#c51b7d"
            ],
            [
             0.2,
             "#de77ae"
            ],
            [
             0.3,
             "#f1b6da"
            ],
            [
             0.4,
             "#fde0ef"
            ],
            [
             0.5,
             "#f7f7f7"
            ],
            [
             0.6,
             "#e6f5d0"
            ],
            [
             0.7,
             "#b8e186"
            ],
            [
             0.8,
             "#7fbc41"
            ],
            [
             0.9,
             "#4d9221"
            ],
            [
             1,
             "#276419"
            ]
           ],
           "sequential": [
            [
             0,
             "#0d0887"
            ],
            [
             0.1111111111111111,
             "#46039f"
            ],
            [
             0.2222222222222222,
             "#7201a8"
            ],
            [
             0.3333333333333333,
             "#9c179e"
            ],
            [
             0.4444444444444444,
             "#bd3786"
            ],
            [
             0.5555555555555556,
             "#d8576b"
            ],
            [
             0.6666666666666666,
             "#ed7953"
            ],
            [
             0.7777777777777778,
             "#fb9f3a"
            ],
            [
             0.8888888888888888,
             "#fdca26"
            ],
            [
             1,
             "#f0f921"
            ]
           ],
           "sequentialminus": [
            [
             0,
             "#0d0887"
            ],
            [
             0.1111111111111111,
             "#46039f"
            ],
            [
             0.2222222222222222,
             "#7201a8"
            ],
            [
             0.3333333333333333,
             "#9c179e"
            ],
            [
             0.4444444444444444,
             "#bd3786"
            ],
            [
             0.5555555555555556,
             "#d8576b"
            ],
            [
             0.6666666666666666,
             "#ed7953"
            ],
            [
             0.7777777777777778,
             "#fb9f3a"
            ],
            [
             0.8888888888888888,
             "#fdca26"
            ],
            [
             1,
             "#f0f921"
            ]
           ]
          },
          "colorway": [
           "#636efa",
           "#EF553B",
           "#00cc96",
           "#ab63fa",
           "#FFA15A",
           "#19d3f3",
           "#FF6692",
           "#B6E880",
           "#FF97FF",
           "#FECB52"
          ],
          "font": {
           "color": "#2a3f5f"
          },
          "geo": {
           "bgcolor": "white",
           "lakecolor": "white",
           "landcolor": "#E5ECF6",
           "showlakes": true,
           "showland": true,
           "subunitcolor": "white"
          },
          "hoverlabel": {
           "align": "left"
          },
          "hovermode": "closest",
          "mapbox": {
           "style": "light"
          },
          "paper_bgcolor": "white",
          "plot_bgcolor": "#E5ECF6",
          "polar": {
           "angularaxis": {
            "gridcolor": "white",
            "linecolor": "white",
            "ticks": ""
           },
           "bgcolor": "#E5ECF6",
           "radialaxis": {
            "gridcolor": "white",
            "linecolor": "white",
            "ticks": ""
           }
          },
          "scene": {
           "xaxis": {
            "backgroundcolor": "#E5ECF6",
            "gridcolor": "white",
            "gridwidth": 2,
            "linecolor": "white",
            "showbackground": true,
            "ticks": "",
            "zerolinecolor": "white"
           },
           "yaxis": {
            "backgroundcolor": "#E5ECF6",
            "gridcolor": "white",
            "gridwidth": 2,
            "linecolor": "white",
            "showbackground": true,
            "ticks": "",
            "zerolinecolor": "white"
           },
           "zaxis": {
            "backgroundcolor": "#E5ECF6",
            "gridcolor": "white",
            "gridwidth": 2,
            "linecolor": "white",
            "showbackground": true,
            "ticks": "",
            "zerolinecolor": "white"
           }
          },
          "shapedefaults": {
           "line": {
            "color": "#2a3f5f"
           }
          },
          "ternary": {
           "aaxis": {
            "gridcolor": "white",
            "linecolor": "white",
            "ticks": ""
           },
           "baxis": {
            "gridcolor": "white",
            "linecolor": "white",
            "ticks": ""
           },
           "bgcolor": "#E5ECF6",
           "caxis": {
            "gridcolor": "white",
            "linecolor": "white",
            "ticks": ""
           }
          },
          "title": {
           "x": 0.05
          },
          "xaxis": {
           "automargin": true,
           "gridcolor": "white",
           "linecolor": "white",
           "ticks": "",
           "title": {
            "standoff": 15
           },
           "zerolinecolor": "white",
           "zerolinewidth": 2
          },
          "yaxis": {
           "automargin": true,
           "gridcolor": "white",
           "linecolor": "white",
           "ticks": "",
           "title": {
            "standoff": 15
           },
           "zerolinecolor": "white",
           "zerolinewidth": 2
          }
         }
        },
        "title": {
         "text": "Revenue Share by Region"
        }
       }
      }
     },
     "metadata": {},
     "output_type": "display_data"
    }
   ],
   "source": [
    "fig = px.pie(region_sales, names='Region', values='TotalPrice', title='Revenue Share by Region')\n",
    "fig.show()"
   ]
  },
  {
   "cell_type": "markdown",
   "id": "010f29fa",
   "metadata": {},
   "source": [
    "Next we should look at which products are our top sellers by revenue, which products are the most frequently purchased (by quantity), are there products which sell well, but generate little revenue?\n"
   ]
  },
  {
   "cell_type": "code",
   "execution_count": 12,
   "id": "34192b4f",
   "metadata": {},
   "outputs": [],
   "source": [
    "top_revenue_products = (\n",
    "    df.groupby('Description')['TotalPrice']\n",
    "    .sum()\n",
    "    .sort_values(ascending=False)\n",
    "    .head(10)\n",
    "    .reset_index()\n",
    ")"
   ]
  },
  {
   "cell_type": "code",
   "execution_count": 13,
   "id": "9d91e609",
   "metadata": {},
   "outputs": [
    {
     "data": {
      "application/vnd.plotly.v1+json": {
       "config": {
        "plotlyServerURL": "https://plot.ly"
       },
       "data": [
        {
         "hovertemplate": "Revenue=%{x}<br>Product=%{y}<extra></extra>",
         "legendgroup": "",
         "marker": {
          "color": "#636efa",
          "pattern": {
           "shape": ""
          }
         },
         "name": "",
         "orientation": "h",
         "showlegend": false,
         "textposition": "auto",
         "type": "bar",
         "x": {
          "bdata": "j8L1KEYtCUEfhetRZEIFQc3MzMyskARBUrgehcvv+UDhehSuU0f4QFyPwvX8/PZAhutRuE7y80BI4XoUXhHzQOxRuB6N+/JArkfhemBT8EA=",
          "dtype": "f8"
         },
         "xaxis": "x",
         "y": [
          "DOTCOM POSTAGE",
          "REGENCY CAKESTAND 3 TIER",
          "PAPER CRAFT , LITTLE BIRDIE",
          "WHITE HANGING HEART T-LIGHT HOLDER",
          "PARTY BUNTING",
          "JUMBO BAG RED RETROSPOT",
          "MEDIUM CERAMIC TOP STORAGE JAR",
          "POSTAGE",
          "Manual",
          "RABBIT NIGHT LIGHT"
         ],
         "yaxis": "y"
        }
       ],
       "layout": {
        "barmode": "relative",
        "legend": {
         "tracegroupgap": 0
        },
        "template": {
         "data": {
          "bar": [
           {
            "error_x": {
             "color": "#2a3f5f"
            },
            "error_y": {
             "color": "#2a3f5f"
            },
            "marker": {
             "line": {
              "color": "#E5ECF6",
              "width": 0.5
             },
             "pattern": {
              "fillmode": "overlay",
              "size": 10,
              "solidity": 0.2
             }
            },
            "type": "bar"
           }
          ],
          "barpolar": [
           {
            "marker": {
             "line": {
              "color": "#E5ECF6",
              "width": 0.5
             },
             "pattern": {
              "fillmode": "overlay",
              "size": 10,
              "solidity": 0.2
             }
            },
            "type": "barpolar"
           }
          ],
          "carpet": [
           {
            "aaxis": {
             "endlinecolor": "#2a3f5f",
             "gridcolor": "white",
             "linecolor": "white",
             "minorgridcolor": "white",
             "startlinecolor": "#2a3f5f"
            },
            "baxis": {
             "endlinecolor": "#2a3f5f",
             "gridcolor": "white",
             "linecolor": "white",
             "minorgridcolor": "white",
             "startlinecolor": "#2a3f5f"
            },
            "type": "carpet"
           }
          ],
          "choropleth": [
           {
            "colorbar": {
             "outlinewidth": 0,
             "ticks": ""
            },
            "type": "choropleth"
           }
          ],
          "contour": [
           {
            "colorbar": {
             "outlinewidth": 0,
             "ticks": ""
            },
            "colorscale": [
             [
              0,
              "#0d0887"
             ],
             [
              0.1111111111111111,
              "#46039f"
             ],
             [
              0.2222222222222222,
              "#7201a8"
             ],
             [
              0.3333333333333333,
              "#9c179e"
             ],
             [
              0.4444444444444444,
              "#bd3786"
             ],
             [
              0.5555555555555556,
              "#d8576b"
             ],
             [
              0.6666666666666666,
              "#ed7953"
             ],
             [
              0.7777777777777778,
              "#fb9f3a"
             ],
             [
              0.8888888888888888,
              "#fdca26"
             ],
             [
              1,
              "#f0f921"
             ]
            ],
            "type": "contour"
           }
          ],
          "contourcarpet": [
           {
            "colorbar": {
             "outlinewidth": 0,
             "ticks": ""
            },
            "type": "contourcarpet"
           }
          ],
          "heatmap": [
           {
            "colorbar": {
             "outlinewidth": 0,
             "ticks": ""
            },
            "colorscale": [
             [
              0,
              "#0d0887"
             ],
             [
              0.1111111111111111,
              "#46039f"
             ],
             [
              0.2222222222222222,
              "#7201a8"
             ],
             [
              0.3333333333333333,
              "#9c179e"
             ],
             [
              0.4444444444444444,
              "#bd3786"
             ],
             [
              0.5555555555555556,
              "#d8576b"
             ],
             [
              0.6666666666666666,
              "#ed7953"
             ],
             [
              0.7777777777777778,
              "#fb9f3a"
             ],
             [
              0.8888888888888888,
              "#fdca26"
             ],
             [
              1,
              "#f0f921"
             ]
            ],
            "type": "heatmap"
           }
          ],
          "histogram": [
           {
            "marker": {
             "pattern": {
              "fillmode": "overlay",
              "size": 10,
              "solidity": 0.2
             }
            },
            "type": "histogram"
           }
          ],
          "histogram2d": [
           {
            "colorbar": {
             "outlinewidth": 0,
             "ticks": ""
            },
            "colorscale": [
             [
              0,
              "#0d0887"
             ],
             [
              0.1111111111111111,
              "#46039f"
             ],
             [
              0.2222222222222222,
              "#7201a8"
             ],
             [
              0.3333333333333333,
              "#9c179e"
             ],
             [
              0.4444444444444444,
              "#bd3786"
             ],
             [
              0.5555555555555556,
              "#d8576b"
             ],
             [
              0.6666666666666666,
              "#ed7953"
             ],
             [
              0.7777777777777778,
              "#fb9f3a"
             ],
             [
              0.8888888888888888,
              "#fdca26"
             ],
             [
              1,
              "#f0f921"
             ]
            ],
            "type": "histogram2d"
           }
          ],
          "histogram2dcontour": [
           {
            "colorbar": {
             "outlinewidth": 0,
             "ticks": ""
            },
            "colorscale": [
             [
              0,
              "#0d0887"
             ],
             [
              0.1111111111111111,
              "#46039f"
             ],
             [
              0.2222222222222222,
              "#7201a8"
             ],
             [
              0.3333333333333333,
              "#9c179e"
             ],
             [
              0.4444444444444444,
              "#bd3786"
             ],
             [
              0.5555555555555556,
              "#d8576b"
             ],
             [
              0.6666666666666666,
              "#ed7953"
             ],
             [
              0.7777777777777778,
              "#fb9f3a"
             ],
             [
              0.8888888888888888,
              "#fdca26"
             ],
             [
              1,
              "#f0f921"
             ]
            ],
            "type": "histogram2dcontour"
           }
          ],
          "mesh3d": [
           {
            "colorbar": {
             "outlinewidth": 0,
             "ticks": ""
            },
            "type": "mesh3d"
           }
          ],
          "parcoords": [
           {
            "line": {
             "colorbar": {
              "outlinewidth": 0,
              "ticks": ""
             }
            },
            "type": "parcoords"
           }
          ],
          "pie": [
           {
            "automargin": true,
            "type": "pie"
           }
          ],
          "scatter": [
           {
            "fillpattern": {
             "fillmode": "overlay",
             "size": 10,
             "solidity": 0.2
            },
            "type": "scatter"
           }
          ],
          "scatter3d": [
           {
            "line": {
             "colorbar": {
              "outlinewidth": 0,
              "ticks": ""
             }
            },
            "marker": {
             "colorbar": {
              "outlinewidth": 0,
              "ticks": ""
             }
            },
            "type": "scatter3d"
           }
          ],
          "scattercarpet": [
           {
            "marker": {
             "colorbar": {
              "outlinewidth": 0,
              "ticks": ""
             }
            },
            "type": "scattercarpet"
           }
          ],
          "scattergeo": [
           {
            "marker": {
             "colorbar": {
              "outlinewidth": 0,
              "ticks": ""
             }
            },
            "type": "scattergeo"
           }
          ],
          "scattergl": [
           {
            "marker": {
             "colorbar": {
              "outlinewidth": 0,
              "ticks": ""
             }
            },
            "type": "scattergl"
           }
          ],
          "scattermap": [
           {
            "marker": {
             "colorbar": {
              "outlinewidth": 0,
              "ticks": ""
             }
            },
            "type": "scattermap"
           }
          ],
          "scattermapbox": [
           {
            "marker": {
             "colorbar": {
              "outlinewidth": 0,
              "ticks": ""
             }
            },
            "type": "scattermapbox"
           }
          ],
          "scatterpolar": [
           {
            "marker": {
             "colorbar": {
              "outlinewidth": 0,
              "ticks": ""
             }
            },
            "type": "scatterpolar"
           }
          ],
          "scatterpolargl": [
           {
            "marker": {
             "colorbar": {
              "outlinewidth": 0,
              "ticks": ""
             }
            },
            "type": "scatterpolargl"
           }
          ],
          "scatterternary": [
           {
            "marker": {
             "colorbar": {
              "outlinewidth": 0,
              "ticks": ""
             }
            },
            "type": "scatterternary"
           }
          ],
          "surface": [
           {
            "colorbar": {
             "outlinewidth": 0,
             "ticks": ""
            },
            "colorscale": [
             [
              0,
              "#0d0887"
             ],
             [
              0.1111111111111111,
              "#46039f"
             ],
             [
              0.2222222222222222,
              "#7201a8"
             ],
             [
              0.3333333333333333,
              "#9c179e"
             ],
             [
              0.4444444444444444,
              "#bd3786"
             ],
             [
              0.5555555555555556,
              "#d8576b"
             ],
             [
              0.6666666666666666,
              "#ed7953"
             ],
             [
              0.7777777777777778,
              "#fb9f3a"
             ],
             [
              0.8888888888888888,
              "#fdca26"
             ],
             [
              1,
              "#f0f921"
             ]
            ],
            "type": "surface"
           }
          ],
          "table": [
           {
            "cells": {
             "fill": {
              "color": "#EBF0F8"
             },
             "line": {
              "color": "white"
             }
            },
            "header": {
             "fill": {
              "color": "#C8D4E3"
             },
             "line": {
              "color": "white"
             }
            },
            "type": "table"
           }
          ]
         },
         "layout": {
          "annotationdefaults": {
           "arrowcolor": "#2a3f5f",
           "arrowhead": 0,
           "arrowwidth": 1
          },
          "autotypenumbers": "strict",
          "coloraxis": {
           "colorbar": {
            "outlinewidth": 0,
            "ticks": ""
           }
          },
          "colorscale": {
           "diverging": [
            [
             0,
             "#8e0152"
            ],
            [
             0.1,
             "#c51b7d"
            ],
            [
             0.2,
             "#de77ae"
            ],
            [
             0.3,
             "#f1b6da"
            ],
            [
             0.4,
             "#fde0ef"
            ],
            [
             0.5,
             "#f7f7f7"
            ],
            [
             0.6,
             "#e6f5d0"
            ],
            [
             0.7,
             "#b8e186"
            ],
            [
             0.8,
             "#7fbc41"
            ],
            [
             0.9,
             "#4d9221"
            ],
            [
             1,
             "#276419"
            ]
           ],
           "sequential": [
            [
             0,
             "#0d0887"
            ],
            [
             0.1111111111111111,
             "#46039f"
            ],
            [
             0.2222222222222222,
             "#7201a8"
            ],
            [
             0.3333333333333333,
             "#9c179e"
            ],
            [
             0.4444444444444444,
             "#bd3786"
            ],
            [
             0.5555555555555556,
             "#d8576b"
            ],
            [
             0.6666666666666666,
             "#ed7953"
            ],
            [
             0.7777777777777778,
             "#fb9f3a"
            ],
            [
             0.8888888888888888,
             "#fdca26"
            ],
            [
             1,
             "#f0f921"
            ]
           ],
           "sequentialminus": [
            [
             0,
             "#0d0887"
            ],
            [
             0.1111111111111111,
             "#46039f"
            ],
            [
             0.2222222222222222,
             "#7201a8"
            ],
            [
             0.3333333333333333,
             "#9c179e"
            ],
            [
             0.4444444444444444,
             "#bd3786"
            ],
            [
             0.5555555555555556,
             "#d8576b"
            ],
            [
             0.6666666666666666,
             "#ed7953"
            ],
            [
             0.7777777777777778,
             "#fb9f3a"
            ],
            [
             0.8888888888888888,
             "#fdca26"
            ],
            [
             1,
             "#f0f921"
            ]
           ]
          },
          "colorway": [
           "#636efa",
           "#EF553B",
           "#00cc96",
           "#ab63fa",
           "#FFA15A",
           "#19d3f3",
           "#FF6692",
           "#B6E880",
           "#FF97FF",
           "#FECB52"
          ],
          "font": {
           "color": "#2a3f5f"
          },
          "geo": {
           "bgcolor": "white",
           "lakecolor": "white",
           "landcolor": "#E5ECF6",
           "showlakes": true,
           "showland": true,
           "subunitcolor": "white"
          },
          "hoverlabel": {
           "align": "left"
          },
          "hovermode": "closest",
          "mapbox": {
           "style": "light"
          },
          "paper_bgcolor": "white",
          "plot_bgcolor": "#E5ECF6",
          "polar": {
           "angularaxis": {
            "gridcolor": "white",
            "linecolor": "white",
            "ticks": ""
           },
           "bgcolor": "#E5ECF6",
           "radialaxis": {
            "gridcolor": "white",
            "linecolor": "white",
            "ticks": ""
           }
          },
          "scene": {
           "xaxis": {
            "backgroundcolor": "#E5ECF6",
            "gridcolor": "white",
            "gridwidth": 2,
            "linecolor": "white",
            "showbackground": true,
            "ticks": "",
            "zerolinecolor": "white"
           },
           "yaxis": {
            "backgroundcolor": "#E5ECF6",
            "gridcolor": "white",
            "gridwidth": 2,
            "linecolor": "white",
            "showbackground": true,
            "ticks": "",
            "zerolinecolor": "white"
           },
           "zaxis": {
            "backgroundcolor": "#E5ECF6",
            "gridcolor": "white",
            "gridwidth": 2,
            "linecolor": "white",
            "showbackground": true,
            "ticks": "",
            "zerolinecolor": "white"
           }
          },
          "shapedefaults": {
           "line": {
            "color": "#2a3f5f"
           }
          },
          "ternary": {
           "aaxis": {
            "gridcolor": "white",
            "linecolor": "white",
            "ticks": ""
           },
           "baxis": {
            "gridcolor": "white",
            "linecolor": "white",
            "ticks": ""
           },
           "bgcolor": "#E5ECF6",
           "caxis": {
            "gridcolor": "white",
            "linecolor": "white",
            "ticks": ""
           }
          },
          "title": {
           "x": 0.05
          },
          "xaxis": {
           "automargin": true,
           "gridcolor": "white",
           "linecolor": "white",
           "ticks": "",
           "title": {
            "standoff": 15
           },
           "zerolinecolor": "white",
           "zerolinewidth": 2
          },
          "yaxis": {
           "automargin": true,
           "gridcolor": "white",
           "linecolor": "white",
           "ticks": "",
           "title": {
            "standoff": 15
           },
           "zerolinecolor": "white",
           "zerolinewidth": 2
          }
         }
        },
        "title": {
         "text": "Top 10 Products by Revenue"
        },
        "xaxis": {
         "anchor": "y",
         "domain": [
          0,
          1
         ],
         "title": {
          "text": "Revenue"
         }
        },
        "yaxis": {
         "anchor": "x",
         "categoryorder": "total ascending",
         "domain": [
          0,
          1
         ],
         "title": {
          "text": "Product"
         }
        }
       }
      }
     },
     "metadata": {},
     "output_type": "display_data"
    }
   ],
   "source": [
    "fig = px.bar(top_revenue_products, x='TotalPrice', y='Description',\n",
    "             orientation='h',\n",
    "             title='Top 10 Products by Revenue',\n",
    "             labels={'TotalPrice': 'Revenue', 'Description': 'Product'})\n",
    "fig.update_layout(yaxis={'categoryorder': 'total ascending'})\n",
    "fig.show()"
   ]
  },
  {
   "cell_type": "markdown",
   "id": "65118e3c",
   "metadata": {},
   "source": [
    "Here we can see that 'DOTCOM POSTAGE' is our top 'Product'. We can assume here that this 'product' is not actually a product, moreover a Postage and Packing charge.\n",
    "We can also see 'POSTAGE' and 'Manual'. These are not relevant for our Product Level Analysis, so we should exclude them for our purposes."
   ]
  },
  {
   "cell_type": "code",
   "execution_count": 14,
   "id": "e65982ad",
   "metadata": {},
   "outputs": [],
   "source": [
    "non_products = ['DOTCOM POSTAGE', 'POSTAGE', 'Manual']\n",
    "\n",
    "df_products = df[~df['Description'].isin(non_products)]"
   ]
  },
  {
   "cell_type": "code",
   "execution_count": 15,
   "id": "7968885b",
   "metadata": {},
   "outputs": [],
   "source": [
    "top_revenue_products = (\n",
    "    df_products\n",
    "    .groupby('Description')['TotalPrice']\n",
    "    .sum()\n",
    "    .sort_values(ascending=False)\n",
    "    .head(10)\n",
    "    .reset_index()\n",
    ")"
   ]
  },
  {
   "cell_type": "code",
   "execution_count": 16,
   "id": "d8f1e39a",
   "metadata": {},
   "outputs": [
    {
     "data": {
      "application/vnd.plotly.v1+json": {
       "config": {
        "plotlyServerURL": "https://plot.ly"
       },
       "data": [
        {
         "hovertemplate": "Revenue=%{x}<br>Product=%{y}<extra></extra>",
         "legendgroup": "",
         "marker": {
          "color": "#636efa",
          "pattern": {
           "shape": ""
          }
         },
         "name": "",
         "orientation": "h",
         "showlegend": false,
         "textposition": "auto",
         "type": "bar",
         "x": {
          "bdata": "H4XrUWRCBUHNzMzMrJAEQVK4HoXL7/lA4XoUrlNH+EBcj8L1/Pz2QIbrUbhO8vNArkfhemBT8EAVrkfhcq3vQHE9CtfzxexAUrgehQtq6kA=",
          "dtype": "f8"
         },
         "xaxis": "x",
         "y": [
          "REGENCY CAKESTAND 3 TIER",
          "PAPER CRAFT , LITTLE BIRDIE",
          "WHITE HANGING HEART T-LIGHT HOLDER",
          "PARTY BUNTING",
          "JUMBO BAG RED RETROSPOT",
          "MEDIUM CERAMIC TOP STORAGE JAR",
          "RABBIT NIGHT LIGHT",
          "PAPER CHAIN KIT 50'S CHRISTMAS ",
          "ASSORTED COLOUR BIRD ORNAMENT",
          "CHILLI LIGHTS"
         ],
         "yaxis": "y"
        }
       ],
       "layout": {
        "barmode": "relative",
        "legend": {
         "tracegroupgap": 0
        },
        "template": {
         "data": {
          "bar": [
           {
            "error_x": {
             "color": "#2a3f5f"
            },
            "error_y": {
             "color": "#2a3f5f"
            },
            "marker": {
             "line": {
              "color": "#E5ECF6",
              "width": 0.5
             },
             "pattern": {
              "fillmode": "overlay",
              "size": 10,
              "solidity": 0.2
             }
            },
            "type": "bar"
           }
          ],
          "barpolar": [
           {
            "marker": {
             "line": {
              "color": "#E5ECF6",
              "width": 0.5
             },
             "pattern": {
              "fillmode": "overlay",
              "size": 10,
              "solidity": 0.2
             }
            },
            "type": "barpolar"
           }
          ],
          "carpet": [
           {
            "aaxis": {
             "endlinecolor": "#2a3f5f",
             "gridcolor": "white",
             "linecolor": "white",
             "minorgridcolor": "white",
             "startlinecolor": "#2a3f5f"
            },
            "baxis": {
             "endlinecolor": "#2a3f5f",
             "gridcolor": "white",
             "linecolor": "white",
             "minorgridcolor": "white",
             "startlinecolor": "#2a3f5f"
            },
            "type": "carpet"
           }
          ],
          "choropleth": [
           {
            "colorbar": {
             "outlinewidth": 0,
             "ticks": ""
            },
            "type": "choropleth"
           }
          ],
          "contour": [
           {
            "colorbar": {
             "outlinewidth": 0,
             "ticks": ""
            },
            "colorscale": [
             [
              0,
              "#0d0887"
             ],
             [
              0.1111111111111111,
              "#46039f"
             ],
             [
              0.2222222222222222,
              "#7201a8"
             ],
             [
              0.3333333333333333,
              "#9c179e"
             ],
             [
              0.4444444444444444,
              "#bd3786"
             ],
             [
              0.5555555555555556,
              "#d8576b"
             ],
             [
              0.6666666666666666,
              "#ed7953"
             ],
             [
              0.7777777777777778,
              "#fb9f3a"
             ],
             [
              0.8888888888888888,
              "#fdca26"
             ],
             [
              1,
              "#f0f921"
             ]
            ],
            "type": "contour"
           }
          ],
          "contourcarpet": [
           {
            "colorbar": {
             "outlinewidth": 0,
             "ticks": ""
            },
            "type": "contourcarpet"
           }
          ],
          "heatmap": [
           {
            "colorbar": {
             "outlinewidth": 0,
             "ticks": ""
            },
            "colorscale": [
             [
              0,
              "#0d0887"
             ],
             [
              0.1111111111111111,
              "#46039f"
             ],
             [
              0.2222222222222222,
              "#7201a8"
             ],
             [
              0.3333333333333333,
              "#9c179e"
             ],
             [
              0.4444444444444444,
              "#bd3786"
             ],
             [
              0.5555555555555556,
              "#d8576b"
             ],
             [
              0.6666666666666666,
              "#ed7953"
             ],
             [
              0.7777777777777778,
              "#fb9f3a"
             ],
             [
              0.8888888888888888,
              "#fdca26"
             ],
             [
              1,
              "#f0f921"
             ]
            ],
            "type": "heatmap"
           }
          ],
          "histogram": [
           {
            "marker": {
             "pattern": {
              "fillmode": "overlay",
              "size": 10,
              "solidity": 0.2
             }
            },
            "type": "histogram"
           }
          ],
          "histogram2d": [
           {
            "colorbar": {
             "outlinewidth": 0,
             "ticks": ""
            },
            "colorscale": [
             [
              0,
              "#0d0887"
             ],
             [
              0.1111111111111111,
              "#46039f"
             ],
             [
              0.2222222222222222,
              "#7201a8"
             ],
             [
              0.3333333333333333,
              "#9c179e"
             ],
             [
              0.4444444444444444,
              "#bd3786"
             ],
             [
              0.5555555555555556,
              "#d8576b"
             ],
             [
              0.6666666666666666,
              "#ed7953"
             ],
             [
              0.7777777777777778,
              "#fb9f3a"
             ],
             [
              0.8888888888888888,
              "#fdca26"
             ],
             [
              1,
              "#f0f921"
             ]
            ],
            "type": "histogram2d"
           }
          ],
          "histogram2dcontour": [
           {
            "colorbar": {
             "outlinewidth": 0,
             "ticks": ""
            },
            "colorscale": [
             [
              0,
              "#0d0887"
             ],
             [
              0.1111111111111111,
              "#46039f"
             ],
             [
              0.2222222222222222,
              "#7201a8"
             ],
             [
              0.3333333333333333,
              "#9c179e"
             ],
             [
              0.4444444444444444,
              "#bd3786"
             ],
             [
              0.5555555555555556,
              "#d8576b"
             ],
             [
              0.6666666666666666,
              "#ed7953"
             ],
             [
              0.7777777777777778,
              "#fb9f3a"
             ],
             [
              0.8888888888888888,
              "#fdca26"
             ],
             [
              1,
              "#f0f921"
             ]
            ],
            "type": "histogram2dcontour"
           }
          ],
          "mesh3d": [
           {
            "colorbar": {
             "outlinewidth": 0,
             "ticks": ""
            },
            "type": "mesh3d"
           }
          ],
          "parcoords": [
           {
            "line": {
             "colorbar": {
              "outlinewidth": 0,
              "ticks": ""
             }
            },
            "type": "parcoords"
           }
          ],
          "pie": [
           {
            "automargin": true,
            "type": "pie"
           }
          ],
          "scatter": [
           {
            "fillpattern": {
             "fillmode": "overlay",
             "size": 10,
             "solidity": 0.2
            },
            "type": "scatter"
           }
          ],
          "scatter3d": [
           {
            "line": {
             "colorbar": {
              "outlinewidth": 0,
              "ticks": ""
             }
            },
            "marker": {
             "colorbar": {
              "outlinewidth": 0,
              "ticks": ""
             }
            },
            "type": "scatter3d"
           }
          ],
          "scattercarpet": [
           {
            "marker": {
             "colorbar": {
              "outlinewidth": 0,
              "ticks": ""
             }
            },
            "type": "scattercarpet"
           }
          ],
          "scattergeo": [
           {
            "marker": {
             "colorbar": {
              "outlinewidth": 0,
              "ticks": ""
             }
            },
            "type": "scattergeo"
           }
          ],
          "scattergl": [
           {
            "marker": {
             "colorbar": {
              "outlinewidth": 0,
              "ticks": ""
             }
            },
            "type": "scattergl"
           }
          ],
          "scattermap": [
           {
            "marker": {
             "colorbar": {
              "outlinewidth": 0,
              "ticks": ""
             }
            },
            "type": "scattermap"
           }
          ],
          "scattermapbox": [
           {
            "marker": {
             "colorbar": {
              "outlinewidth": 0,
              "ticks": ""
             }
            },
            "type": "scattermapbox"
           }
          ],
          "scatterpolar": [
           {
            "marker": {
             "colorbar": {
              "outlinewidth": 0,
              "ticks": ""
             }
            },
            "type": "scatterpolar"
           }
          ],
          "scatterpolargl": [
           {
            "marker": {
             "colorbar": {
              "outlinewidth": 0,
              "ticks": ""
             }
            },
            "type": "scatterpolargl"
           }
          ],
          "scatterternary": [
           {
            "marker": {
             "colorbar": {
              "outlinewidth": 0,
              "ticks": ""
             }
            },
            "type": "scatterternary"
           }
          ],
          "surface": [
           {
            "colorbar": {
             "outlinewidth": 0,
             "ticks": ""
            },
            "colorscale": [
             [
              0,
              "#0d0887"
             ],
             [
              0.1111111111111111,
              "#46039f"
             ],
             [
              0.2222222222222222,
              "#7201a8"
             ],
             [
              0.3333333333333333,
              "#9c179e"
             ],
             [
              0.4444444444444444,
              "#bd3786"
             ],
             [
              0.5555555555555556,
              "#d8576b"
             ],
             [
              0.6666666666666666,
              "#ed7953"
             ],
             [
              0.7777777777777778,
              "#fb9f3a"
             ],
             [
              0.8888888888888888,
              "#fdca26"
             ],
             [
              1,
              "#f0f921"
             ]
            ],
            "type": "surface"
           }
          ],
          "table": [
           {
            "cells": {
             "fill": {
              "color": "#EBF0F8"
             },
             "line": {
              "color": "white"
             }
            },
            "header": {
             "fill": {
              "color": "#C8D4E3"
             },
             "line": {
              "color": "white"
             }
            },
            "type": "table"
           }
          ]
         },
         "layout": {
          "annotationdefaults": {
           "arrowcolor": "#2a3f5f",
           "arrowhead": 0,
           "arrowwidth": 1
          },
          "autotypenumbers": "strict",
          "coloraxis": {
           "colorbar": {
            "outlinewidth": 0,
            "ticks": ""
           }
          },
          "colorscale": {
           "diverging": [
            [
             0,
             "#8e0152"
            ],
            [
             0.1,
             "#c51b7d"
            ],
            [
             0.2,
             "#de77ae"
            ],
            [
             0.3,
             "#f1b6da"
            ],
            [
             0.4,
             "#fde0ef"
            ],
            [
             0.5,
             "#f7f7f7"
            ],
            [
             0.6,
             "#e6f5d0"
            ],
            [
             0.7,
             "#b8e186"
            ],
            [
             0.8,
             "#7fbc41"
            ],
            [
             0.9,
             "#4d9221"
            ],
            [
             1,
             "#276419"
            ]
           ],
           "sequential": [
            [
             0,
             "#0d0887"
            ],
            [
             0.1111111111111111,
             "#46039f"
            ],
            [
             0.2222222222222222,
             "#7201a8"
            ],
            [
             0.3333333333333333,
             "#9c179e"
            ],
            [
             0.4444444444444444,
             "#bd3786"
            ],
            [
             0.5555555555555556,
             "#d8576b"
            ],
            [
             0.6666666666666666,
             "#ed7953"
            ],
            [
             0.7777777777777778,
             "#fb9f3a"
            ],
            [
             0.8888888888888888,
             "#fdca26"
            ],
            [
             1,
             "#f0f921"
            ]
           ],
           "sequentialminus": [
            [
             0,
             "#0d0887"
            ],
            [
             0.1111111111111111,
             "#46039f"
            ],
            [
             0.2222222222222222,
             "#7201a8"
            ],
            [
             0.3333333333333333,
             "#9c179e"
            ],
            [
             0.4444444444444444,
             "#bd3786"
            ],
            [
             0.5555555555555556,
             "#d8576b"
            ],
            [
             0.6666666666666666,
             "#ed7953"
            ],
            [
             0.7777777777777778,
             "#fb9f3a"
            ],
            [
             0.8888888888888888,
             "#fdca26"
            ],
            [
             1,
             "#f0f921"
            ]
           ]
          },
          "colorway": [
           "#636efa",
           "#EF553B",
           "#00cc96",
           "#ab63fa",
           "#FFA15A",
           "#19d3f3",
           "#FF6692",
           "#B6E880",
           "#FF97FF",
           "#FECB52"
          ],
          "font": {
           "color": "#2a3f5f"
          },
          "geo": {
           "bgcolor": "white",
           "lakecolor": "white",
           "landcolor": "#E5ECF6",
           "showlakes": true,
           "showland": true,
           "subunitcolor": "white"
          },
          "hoverlabel": {
           "align": "left"
          },
          "hovermode": "closest",
          "mapbox": {
           "style": "light"
          },
          "paper_bgcolor": "white",
          "plot_bgcolor": "#E5ECF6",
          "polar": {
           "angularaxis": {
            "gridcolor": "white",
            "linecolor": "white",
            "ticks": ""
           },
           "bgcolor": "#E5ECF6",
           "radialaxis": {
            "gridcolor": "white",
            "linecolor": "white",
            "ticks": ""
           }
          },
          "scene": {
           "xaxis": {
            "backgroundcolor": "#E5ECF6",
            "gridcolor": "white",
            "gridwidth": 2,
            "linecolor": "white",
            "showbackground": true,
            "ticks": "",
            "zerolinecolor": "white"
           },
           "yaxis": {
            "backgroundcolor": "#E5ECF6",
            "gridcolor": "white",
            "gridwidth": 2,
            "linecolor": "white",
            "showbackground": true,
            "ticks": "",
            "zerolinecolor": "white"
           },
           "zaxis": {
            "backgroundcolor": "#E5ECF6",
            "gridcolor": "white",
            "gridwidth": 2,
            "linecolor": "white",
            "showbackground": true,
            "ticks": "",
            "zerolinecolor": "white"
           }
          },
          "shapedefaults": {
           "line": {
            "color": "#2a3f5f"
           }
          },
          "ternary": {
           "aaxis": {
            "gridcolor": "white",
            "linecolor": "white",
            "ticks": ""
           },
           "baxis": {
            "gridcolor": "white",
            "linecolor": "white",
            "ticks": ""
           },
           "bgcolor": "#E5ECF6",
           "caxis": {
            "gridcolor": "white",
            "linecolor": "white",
            "ticks": ""
           }
          },
          "title": {
           "x": 0.05
          },
          "xaxis": {
           "automargin": true,
           "gridcolor": "white",
           "linecolor": "white",
           "ticks": "",
           "title": {
            "standoff": 15
           },
           "zerolinecolor": "white",
           "zerolinewidth": 2
          },
          "yaxis": {
           "automargin": true,
           "gridcolor": "white",
           "linecolor": "white",
           "ticks": "",
           "title": {
            "standoff": 15
           },
           "zerolinecolor": "white",
           "zerolinewidth": 2
          }
         }
        },
        "title": {
         "text": "Top 10 Products by Revenue"
        },
        "xaxis": {
         "anchor": "y",
         "domain": [
          0,
          1
         ],
         "title": {
          "text": "Revenue"
         }
        },
        "yaxis": {
         "anchor": "x",
         "categoryorder": "total ascending",
         "domain": [
          0,
          1
         ],
         "title": {
          "text": "Product"
         }
        }
       }
      }
     },
     "metadata": {},
     "output_type": "display_data"
    }
   ],
   "source": [
    "fig = px.bar(top_revenue_products, x='TotalPrice', y='Description',\n",
    "             orientation='h',\n",
    "             title='Top 10 Products by Revenue',\n",
    "             labels={'TotalPrice': 'Revenue', 'Description': 'Product'})\n",
    "fig.update_layout(yaxis={'categoryorder': 'total ascending'})\n",
    "fig.show()"
   ]
  },
  {
   "cell_type": "markdown",
   "id": "b7232156",
   "metadata": {},
   "source": [
    "It is clear from this analysis that 'Homewares and Decorations' are our most popular type of items driving revenues across the business. \n",
    "Let's now check out what our lowest selling products are."
   ]
  },
  {
   "cell_type": "code",
   "execution_count": 17,
   "id": "0a9f2b40",
   "metadata": {},
   "outputs": [
    {
     "data": {
      "application/vnd.plotly.v1+json": {
       "config": {
        "plotlyServerURL": "https://plot.ly"
       },
       "data": [
        {
         "hovertemplate": "Revenue=%{x}<br>Product=%{y}<extra></extra>",
         "legendgroup": "",
         "marker": {
          "color": "#636efa",
          "pattern": {
           "shape": ""
          }
         },
         "name": "",
         "orientation": "h",
         "showlegend": false,
         "textposition": "auto",
         "type": "bar",
         "x": {
          "bdata": "+n5qvHSTaD/hehSuR+HaP83MzMzMzOQ/4XoUrkfh6j8zMzMzMzPrP2ZmZmZmZu4/ZmZmZmZm7j+amZmZmZnxPwAAAAAAAPQ/AAAAAAAA9D8=",
          "dtype": "f8"
         },
         "xaxis": "x",
         "y": [
          "PADS TO MATCH ALL CUSHIONS",
          "HEN HOUSE W CHICK IN NEST",
          "SET 12 COLOURING PENCILS DOILEY",
          "VINTAGE BLUE TINSEL REEL",
          "PINK CRYSTAL GUITAR PHONE CHARM",
          "HAPPY BIRTHDAY CARD TEDDY/CAKE",
          "CAT WITH SUNGLASSES BLANK CARD",
          "60 GOLD AND SILVER FAIRY CAKE CASES",
          "FUNKY MONKEY MUG",
          "SET 36 COLOURING PENCILS DOILEY"
         ],
         "yaxis": "y"
        }
       ],
       "layout": {
        "barmode": "relative",
        "legend": {
         "tracegroupgap": 0
        },
        "template": {
         "data": {
          "bar": [
           {
            "error_x": {
             "color": "#2a3f5f"
            },
            "error_y": {
             "color": "#2a3f5f"
            },
            "marker": {
             "line": {
              "color": "#E5ECF6",
              "width": 0.5
             },
             "pattern": {
              "fillmode": "overlay",
              "size": 10,
              "solidity": 0.2
             }
            },
            "type": "bar"
           }
          ],
          "barpolar": [
           {
            "marker": {
             "line": {
              "color": "#E5ECF6",
              "width": 0.5
             },
             "pattern": {
              "fillmode": "overlay",
              "size": 10,
              "solidity": 0.2
             }
            },
            "type": "barpolar"
           }
          ],
          "carpet": [
           {
            "aaxis": {
             "endlinecolor": "#2a3f5f",
             "gridcolor": "white",
             "linecolor": "white",
             "minorgridcolor": "white",
             "startlinecolor": "#2a3f5f"
            },
            "baxis": {
             "endlinecolor": "#2a3f5f",
             "gridcolor": "white",
             "linecolor": "white",
             "minorgridcolor": "white",
             "startlinecolor": "#2a3f5f"
            },
            "type": "carpet"
           }
          ],
          "choropleth": [
           {
            "colorbar": {
             "outlinewidth": 0,
             "ticks": ""
            },
            "type": "choropleth"
           }
          ],
          "contour": [
           {
            "colorbar": {
             "outlinewidth": 0,
             "ticks": ""
            },
            "colorscale": [
             [
              0,
              "#0d0887"
             ],
             [
              0.1111111111111111,
              "#46039f"
             ],
             [
              0.2222222222222222,
              "#7201a8"
             ],
             [
              0.3333333333333333,
              "#9c179e"
             ],
             [
              0.4444444444444444,
              "#bd3786"
             ],
             [
              0.5555555555555556,
              "#d8576b"
             ],
             [
              0.6666666666666666,
              "#ed7953"
             ],
             [
              0.7777777777777778,
              "#fb9f3a"
             ],
             [
              0.8888888888888888,
              "#fdca26"
             ],
             [
              1,
              "#f0f921"
             ]
            ],
            "type": "contour"
           }
          ],
          "contourcarpet": [
           {
            "colorbar": {
             "outlinewidth": 0,
             "ticks": ""
            },
            "type": "contourcarpet"
           }
          ],
          "heatmap": [
           {
            "colorbar": {
             "outlinewidth": 0,
             "ticks": ""
            },
            "colorscale": [
             [
              0,
              "#0d0887"
             ],
             [
              0.1111111111111111,
              "#46039f"
             ],
             [
              0.2222222222222222,
              "#7201a8"
             ],
             [
              0.3333333333333333,
              "#9c179e"
             ],
             [
              0.4444444444444444,
              "#bd3786"
             ],
             [
              0.5555555555555556,
              "#d8576b"
             ],
             [
              0.6666666666666666,
              "#ed7953"
             ],
             [
              0.7777777777777778,
              "#fb9f3a"
             ],
             [
              0.8888888888888888,
              "#fdca26"
             ],
             [
              1,
              "#f0f921"
             ]
            ],
            "type": "heatmap"
           }
          ],
          "histogram": [
           {
            "marker": {
             "pattern": {
              "fillmode": "overlay",
              "size": 10,
              "solidity": 0.2
             }
            },
            "type": "histogram"
           }
          ],
          "histogram2d": [
           {
            "colorbar": {
             "outlinewidth": 0,
             "ticks": ""
            },
            "colorscale": [
             [
              0,
              "#0d0887"
             ],
             [
              0.1111111111111111,
              "#46039f"
             ],
             [
              0.2222222222222222,
              "#7201a8"
             ],
             [
              0.3333333333333333,
              "#9c179e"
             ],
             [
              0.4444444444444444,
              "#bd3786"
             ],
             [
              0.5555555555555556,
              "#d8576b"
             ],
             [
              0.6666666666666666,
              "#ed7953"
             ],
             [
              0.7777777777777778,
              "#fb9f3a"
             ],
             [
              0.8888888888888888,
              "#fdca26"
             ],
             [
              1,
              "#f0f921"
             ]
            ],
            "type": "histogram2d"
           }
          ],
          "histogram2dcontour": [
           {
            "colorbar": {
             "outlinewidth": 0,
             "ticks": ""
            },
            "colorscale": [
             [
              0,
              "#0d0887"
             ],
             [
              0.1111111111111111,
              "#46039f"
             ],
             [
              0.2222222222222222,
              "#7201a8"
             ],
             [
              0.3333333333333333,
              "#9c179e"
             ],
             [
              0.4444444444444444,
              "#bd3786"
             ],
             [
              0.5555555555555556,
              "#d8576b"
             ],
             [
              0.6666666666666666,
              "#ed7953"
             ],
             [
              0.7777777777777778,
              "#fb9f3a"
             ],
             [
              0.8888888888888888,
              "#fdca26"
             ],
             [
              1,
              "#f0f921"
             ]
            ],
            "type": "histogram2dcontour"
           }
          ],
          "mesh3d": [
           {
            "colorbar": {
             "outlinewidth": 0,
             "ticks": ""
            },
            "type": "mesh3d"
           }
          ],
          "parcoords": [
           {
            "line": {
             "colorbar": {
              "outlinewidth": 0,
              "ticks": ""
             }
            },
            "type": "parcoords"
           }
          ],
          "pie": [
           {
            "automargin": true,
            "type": "pie"
           }
          ],
          "scatter": [
           {
            "fillpattern": {
             "fillmode": "overlay",
             "size": 10,
             "solidity": 0.2
            },
            "type": "scatter"
           }
          ],
          "scatter3d": [
           {
            "line": {
             "colorbar": {
              "outlinewidth": 0,
              "ticks": ""
             }
            },
            "marker": {
             "colorbar": {
              "outlinewidth": 0,
              "ticks": ""
             }
            },
            "type": "scatter3d"
           }
          ],
          "scattercarpet": [
           {
            "marker": {
             "colorbar": {
              "outlinewidth": 0,
              "ticks": ""
             }
            },
            "type": "scattercarpet"
           }
          ],
          "scattergeo": [
           {
            "marker": {
             "colorbar": {
              "outlinewidth": 0,
              "ticks": ""
             }
            },
            "type": "scattergeo"
           }
          ],
          "scattergl": [
           {
            "marker": {
             "colorbar": {
              "outlinewidth": 0,
              "ticks": ""
             }
            },
            "type": "scattergl"
           }
          ],
          "scattermap": [
           {
            "marker": {
             "colorbar": {
              "outlinewidth": 0,
              "ticks": ""
             }
            },
            "type": "scattermap"
           }
          ],
          "scattermapbox": [
           {
            "marker": {
             "colorbar": {
              "outlinewidth": 0,
              "ticks": ""
             }
            },
            "type": "scattermapbox"
           }
          ],
          "scatterpolar": [
           {
            "marker": {
             "colorbar": {
              "outlinewidth": 0,
              "ticks": ""
             }
            },
            "type": "scatterpolar"
           }
          ],
          "scatterpolargl": [
           {
            "marker": {
             "colorbar": {
              "outlinewidth": 0,
              "ticks": ""
             }
            },
            "type": "scatterpolargl"
           }
          ],
          "scatterternary": [
           {
            "marker": {
             "colorbar": {
              "outlinewidth": 0,
              "ticks": ""
             }
            },
            "type": "scatterternary"
           }
          ],
          "surface": [
           {
            "colorbar": {
             "outlinewidth": 0,
             "ticks": ""
            },
            "colorscale": [
             [
              0,
              "#0d0887"
             ],
             [
              0.1111111111111111,
              "#46039f"
             ],
             [
              0.2222222222222222,
              "#7201a8"
             ],
             [
              0.3333333333333333,
              "#9c179e"
             ],
             [
              0.4444444444444444,
              "#bd3786"
             ],
             [
              0.5555555555555556,
              "#d8576b"
             ],
             [
              0.6666666666666666,
              "#ed7953"
             ],
             [
              0.7777777777777778,
              "#fb9f3a"
             ],
             [
              0.8888888888888888,
              "#fdca26"
             ],
             [
              1,
              "#f0f921"
             ]
            ],
            "type": "surface"
           }
          ],
          "table": [
           {
            "cells": {
             "fill": {
              "color": "#EBF0F8"
             },
             "line": {
              "color": "white"
             }
            },
            "header": {
             "fill": {
              "color": "#C8D4E3"
             },
             "line": {
              "color": "white"
             }
            },
            "type": "table"
           }
          ]
         },
         "layout": {
          "annotationdefaults": {
           "arrowcolor": "#2a3f5f",
           "arrowhead": 0,
           "arrowwidth": 1
          },
          "autotypenumbers": "strict",
          "coloraxis": {
           "colorbar": {
            "outlinewidth": 0,
            "ticks": ""
           }
          },
          "colorscale": {
           "diverging": [
            [
             0,
             "#8e0152"
            ],
            [
             0.1,
             "#c51b7d"
            ],
            [
             0.2,
             "#de77ae"
            ],
            [
             0.3,
             "#f1b6da"
            ],
            [
             0.4,
             "#fde0ef"
            ],
            [
             0.5,
             "#f7f7f7"
            ],
            [
             0.6,
             "#e6f5d0"
            ],
            [
             0.7,
             "#b8e186"
            ],
            [
             0.8,
             "#7fbc41"
            ],
            [
             0.9,
             "#4d9221"
            ],
            [
             1,
             "#276419"
            ]
           ],
           "sequential": [
            [
             0,
             "#0d0887"
            ],
            [
             0.1111111111111111,
             "#46039f"
            ],
            [
             0.2222222222222222,
             "#7201a8"
            ],
            [
             0.3333333333333333,
             "#9c179e"
            ],
            [
             0.4444444444444444,
             "#bd3786"
            ],
            [
             0.5555555555555556,
             "#d8576b"
            ],
            [
             0.6666666666666666,
             "#ed7953"
            ],
            [
             0.7777777777777778,
             "#fb9f3a"
            ],
            [
             0.8888888888888888,
             "#fdca26"
            ],
            [
             1,
             "#f0f921"
            ]
           ],
           "sequentialminus": [
            [
             0,
             "#0d0887"
            ],
            [
             0.1111111111111111,
             "#46039f"
            ],
            [
             0.2222222222222222,
             "#7201a8"
            ],
            [
             0.3333333333333333,
             "#9c179e"
            ],
            [
             0.4444444444444444,
             "#bd3786"
            ],
            [
             0.5555555555555556,
             "#d8576b"
            ],
            [
             0.6666666666666666,
             "#ed7953"
            ],
            [
             0.7777777777777778,
             "#fb9f3a"
            ],
            [
             0.8888888888888888,
             "#fdca26"
            ],
            [
             1,
             "#f0f921"
            ]
           ]
          },
          "colorway": [
           "#636efa",
           "#EF553B",
           "#00cc96",
           "#ab63fa",
           "#FFA15A",
           "#19d3f3",
           "#FF6692",
           "#B6E880",
           "#FF97FF",
           "#FECB52"
          ],
          "font": {
           "color": "#2a3f5f"
          },
          "geo": {
           "bgcolor": "white",
           "lakecolor": "white",
           "landcolor": "#E5ECF6",
           "showlakes": true,
           "showland": true,
           "subunitcolor": "white"
          },
          "hoverlabel": {
           "align": "left"
          },
          "hovermode": "closest",
          "mapbox": {
           "style": "light"
          },
          "paper_bgcolor": "white",
          "plot_bgcolor": "#E5ECF6",
          "polar": {
           "angularaxis": {
            "gridcolor": "white",
            "linecolor": "white",
            "ticks": ""
           },
           "bgcolor": "#E5ECF6",
           "radialaxis": {
            "gridcolor": "white",
            "linecolor": "white",
            "ticks": ""
           }
          },
          "scene": {
           "xaxis": {
            "backgroundcolor": "#E5ECF6",
            "gridcolor": "white",
            "gridwidth": 2,
            "linecolor": "white",
            "showbackground": true,
            "ticks": "",
            "zerolinecolor": "white"
           },
           "yaxis": {
            "backgroundcolor": "#E5ECF6",
            "gridcolor": "white",
            "gridwidth": 2,
            "linecolor": "white",
            "showbackground": true,
            "ticks": "",
            "zerolinecolor": "white"
           },
           "zaxis": {
            "backgroundcolor": "#E5ECF6",
            "gridcolor": "white",
            "gridwidth": 2,
            "linecolor": "white",
            "showbackground": true,
            "ticks": "",
            "zerolinecolor": "white"
           }
          },
          "shapedefaults": {
           "line": {
            "color": "#2a3f5f"
           }
          },
          "ternary": {
           "aaxis": {
            "gridcolor": "white",
            "linecolor": "white",
            "ticks": ""
           },
           "baxis": {
            "gridcolor": "white",
            "linecolor": "white",
            "ticks": ""
           },
           "bgcolor": "#E5ECF6",
           "caxis": {
            "gridcolor": "white",
            "linecolor": "white",
            "ticks": ""
           }
          },
          "title": {
           "x": 0.05
          },
          "xaxis": {
           "automargin": true,
           "gridcolor": "white",
           "linecolor": "white",
           "ticks": "",
           "title": {
            "standoff": 15
           },
           "zerolinecolor": "white",
           "zerolinewidth": 2
          },
          "yaxis": {
           "automargin": true,
           "gridcolor": "white",
           "linecolor": "white",
           "ticks": "",
           "title": {
            "standoff": 15
           },
           "zerolinecolor": "white",
           "zerolinewidth": 2
          }
         }
        },
        "title": {
         "text": "Bottom 10 Products by Revenue"
        },
        "xaxis": {
         "anchor": "y",
         "domain": [
          0,
          1
         ],
         "title": {
          "text": "Revenue"
         }
        },
        "yaxis": {
         "anchor": "x",
         "domain": [
          0,
          1
         ],
         "title": {
          "text": "Product"
         }
        }
       }
      }
     },
     "metadata": {},
     "output_type": "display_data"
    }
   ],
   "source": [
    "low_revenue_products = (\n",
    "    df_products.groupby('Description')['TotalPrice']\n",
    "    .sum()\n",
    "    .sort_values()\n",
    "    .head(10)\n",
    "    .reset_index()\n",
    ")\n",
    "\n",
    "import plotly.express as px\n",
    "fig = px.bar(low_revenue_products, x='TotalPrice', y='Description',\n",
    "             orientation='h',\n",
    "             title='Bottom 10 Products by Revenue',\n",
    "             labels={'TotalPrice': 'Revenue', 'Description': 'Product'})\n",
    "fig.show()"
   ]
  },
  {
   "cell_type": "markdown",
   "id": "daebe1ba",
   "metadata": {},
   "source": [
    "Now let us look at the products which have sold in the lowest quantities."
   ]
  },
  {
   "cell_type": "code",
   "execution_count": 18,
   "id": "37e27f5d",
   "metadata": {},
   "outputs": [
    {
     "data": {
      "application/vnd.plotly.v1+json": {
       "config": {
        "plotlyServerURL": "https://plot.ly"
       },
       "data": [
        {
         "hovertemplate": "Units Sold=%{x}<br>Product=%{y}<extra></extra>",
         "legendgroup": "",
         "marker": {
          "color": "#636efa",
          "pattern": {
           "shape": ""
          }
         },
         "name": "",
         "orientation": "h",
         "showlegend": false,
         "textposition": "auto",
         "type": "bar",
         "x": {
          "bdata": "AQEBAQEBAQEBAQ==",
          "dtype": "i1"
         },
         "xaxis": "x",
         "y": [
          " I LOVE LONDON MINI RUCKSACK",
          "TEA TIME BREAKFAST BASKET",
          "ETCHED GLASS STAR TREE DECORATION",
          "HAYNES CAMPER SHOULDER BAG",
          "BLACK GLASS/SHELL/PEARL NECKLACE",
          "HEN HOUSE W CHICK IN NEST",
          "GOLD COSMETICS BAG WITH BUTTERFLY",
          "PURPLE CHUNKY GLASS+BEAD NECKLACE",
          "VINTAGE BEAD PINK JEWEL STAND",
          "FUNKY MONKEY MUG"
         ],
         "yaxis": "y"
        }
       ],
       "layout": {
        "barmode": "relative",
        "legend": {
         "tracegroupgap": 0
        },
        "template": {
         "data": {
          "bar": [
           {
            "error_x": {
             "color": "#2a3f5f"
            },
            "error_y": {
             "color": "#2a3f5f"
            },
            "marker": {
             "line": {
              "color": "#E5ECF6",
              "width": 0.5
             },
             "pattern": {
              "fillmode": "overlay",
              "size": 10,
              "solidity": 0.2
             }
            },
            "type": "bar"
           }
          ],
          "barpolar": [
           {
            "marker": {
             "line": {
              "color": "#E5ECF6",
              "width": 0.5
             },
             "pattern": {
              "fillmode": "overlay",
              "size": 10,
              "solidity": 0.2
             }
            },
            "type": "barpolar"
           }
          ],
          "carpet": [
           {
            "aaxis": {
             "endlinecolor": "#2a3f5f",
             "gridcolor": "white",
             "linecolor": "white",
             "minorgridcolor": "white",
             "startlinecolor": "#2a3f5f"
            },
            "baxis": {
             "endlinecolor": "#2a3f5f",
             "gridcolor": "white",
             "linecolor": "white",
             "minorgridcolor": "white",
             "startlinecolor": "#2a3f5f"
            },
            "type": "carpet"
           }
          ],
          "choropleth": [
           {
            "colorbar": {
             "outlinewidth": 0,
             "ticks": ""
            },
            "type": "choropleth"
           }
          ],
          "contour": [
           {
            "colorbar": {
             "outlinewidth": 0,
             "ticks": ""
            },
            "colorscale": [
             [
              0,
              "#0d0887"
             ],
             [
              0.1111111111111111,
              "#46039f"
             ],
             [
              0.2222222222222222,
              "#7201a8"
             ],
             [
              0.3333333333333333,
              "#9c179e"
             ],
             [
              0.4444444444444444,
              "#bd3786"
             ],
             [
              0.5555555555555556,
              "#d8576b"
             ],
             [
              0.6666666666666666,
              "#ed7953"
             ],
             [
              0.7777777777777778,
              "#fb9f3a"
             ],
             [
              0.8888888888888888,
              "#fdca26"
             ],
             [
              1,
              "#f0f921"
             ]
            ],
            "type": "contour"
           }
          ],
          "contourcarpet": [
           {
            "colorbar": {
             "outlinewidth": 0,
             "ticks": ""
            },
            "type": "contourcarpet"
           }
          ],
          "heatmap": [
           {
            "colorbar": {
             "outlinewidth": 0,
             "ticks": ""
            },
            "colorscale": [
             [
              0,
              "#0d0887"
             ],
             [
              0.1111111111111111,
              "#46039f"
             ],
             [
              0.2222222222222222,
              "#7201a8"
             ],
             [
              0.3333333333333333,
              "#9c179e"
             ],
             [
              0.4444444444444444,
              "#bd3786"
             ],
             [
              0.5555555555555556,
              "#d8576b"
             ],
             [
              0.6666666666666666,
              "#ed7953"
             ],
             [
              0.7777777777777778,
              "#fb9f3a"
             ],
             [
              0.8888888888888888,
              "#fdca26"
             ],
             [
              1,
              "#f0f921"
             ]
            ],
            "type": "heatmap"
           }
          ],
          "histogram": [
           {
            "marker": {
             "pattern": {
              "fillmode": "overlay",
              "size": 10,
              "solidity": 0.2
             }
            },
            "type": "histogram"
           }
          ],
          "histogram2d": [
           {
            "colorbar": {
             "outlinewidth": 0,
             "ticks": ""
            },
            "colorscale": [
             [
              0,
              "#0d0887"
             ],
             [
              0.1111111111111111,
              "#46039f"
             ],
             [
              0.2222222222222222,
              "#7201a8"
             ],
             [
              0.3333333333333333,
              "#9c179e"
             ],
             [
              0.4444444444444444,
              "#bd3786"
             ],
             [
              0.5555555555555556,
              "#d8576b"
             ],
             [
              0.6666666666666666,
              "#ed7953"
             ],
             [
              0.7777777777777778,
              "#fb9f3a"
             ],
             [
              0.8888888888888888,
              "#fdca26"
             ],
             [
              1,
              "#f0f921"
             ]
            ],
            "type": "histogram2d"
           }
          ],
          "histogram2dcontour": [
           {
            "colorbar": {
             "outlinewidth": 0,
             "ticks": ""
            },
            "colorscale": [
             [
              0,
              "#0d0887"
             ],
             [
              0.1111111111111111,
              "#46039f"
             ],
             [
              0.2222222222222222,
              "#7201a8"
             ],
             [
              0.3333333333333333,
              "#9c179e"
             ],
             [
              0.4444444444444444,
              "#bd3786"
             ],
             [
              0.5555555555555556,
              "#d8576b"
             ],
             [
              0.6666666666666666,
              "#ed7953"
             ],
             [
              0.7777777777777778,
              "#fb9f3a"
             ],
             [
              0.8888888888888888,
              "#fdca26"
             ],
             [
              1,
              "#f0f921"
             ]
            ],
            "type": "histogram2dcontour"
           }
          ],
          "mesh3d": [
           {
            "colorbar": {
             "outlinewidth": 0,
             "ticks": ""
            },
            "type": "mesh3d"
           }
          ],
          "parcoords": [
           {
            "line": {
             "colorbar": {
              "outlinewidth": 0,
              "ticks": ""
             }
            },
            "type": "parcoords"
           }
          ],
          "pie": [
           {
            "automargin": true,
            "type": "pie"
           }
          ],
          "scatter": [
           {
            "fillpattern": {
             "fillmode": "overlay",
             "size": 10,
             "solidity": 0.2
            },
            "type": "scatter"
           }
          ],
          "scatter3d": [
           {
            "line": {
             "colorbar": {
              "outlinewidth": 0,
              "ticks": ""
             }
            },
            "marker": {
             "colorbar": {
              "outlinewidth": 0,
              "ticks": ""
             }
            },
            "type": "scatter3d"
           }
          ],
          "scattercarpet": [
           {
            "marker": {
             "colorbar": {
              "outlinewidth": 0,
              "ticks": ""
             }
            },
            "type": "scattercarpet"
           }
          ],
          "scattergeo": [
           {
            "marker": {
             "colorbar": {
              "outlinewidth": 0,
              "ticks": ""
             }
            },
            "type": "scattergeo"
           }
          ],
          "scattergl": [
           {
            "marker": {
             "colorbar": {
              "outlinewidth": 0,
              "ticks": ""
             }
            },
            "type": "scattergl"
           }
          ],
          "scattermap": [
           {
            "marker": {
             "colorbar": {
              "outlinewidth": 0,
              "ticks": ""
             }
            },
            "type": "scattermap"
           }
          ],
          "scattermapbox": [
           {
            "marker": {
             "colorbar": {
              "outlinewidth": 0,
              "ticks": ""
             }
            },
            "type": "scattermapbox"
           }
          ],
          "scatterpolar": [
           {
            "marker": {
             "colorbar": {
              "outlinewidth": 0,
              "ticks": ""
             }
            },
            "type": "scatterpolar"
           }
          ],
          "scatterpolargl": [
           {
            "marker": {
             "colorbar": {
              "outlinewidth": 0,
              "ticks": ""
             }
            },
            "type": "scatterpolargl"
           }
          ],
          "scatterternary": [
           {
            "marker": {
             "colorbar": {
              "outlinewidth": 0,
              "ticks": ""
             }
            },
            "type": "scatterternary"
           }
          ],
          "surface": [
           {
            "colorbar": {
             "outlinewidth": 0,
             "ticks": ""
            },
            "colorscale": [
             [
              0,
              "#0d0887"
             ],
             [
              0.1111111111111111,
              "#46039f"
             ],
             [
              0.2222222222222222,
              "#7201a8"
             ],
             [
              0.3333333333333333,
              "#9c179e"
             ],
             [
              0.4444444444444444,
              "#bd3786"
             ],
             [
              0.5555555555555556,
              "#d8576b"
             ],
             [
              0.6666666666666666,
              "#ed7953"
             ],
             [
              0.7777777777777778,
              "#fb9f3a"
             ],
             [
              0.8888888888888888,
              "#fdca26"
             ],
             [
              1,
              "#f0f921"
             ]
            ],
            "type": "surface"
           }
          ],
          "table": [
           {
            "cells": {
             "fill": {
              "color": "#EBF0F8"
             },
             "line": {
              "color": "white"
             }
            },
            "header": {
             "fill": {
              "color": "#C8D4E3"
             },
             "line": {
              "color": "white"
             }
            },
            "type": "table"
           }
          ]
         },
         "layout": {
          "annotationdefaults": {
           "arrowcolor": "#2a3f5f",
           "arrowhead": 0,
           "arrowwidth": 1
          },
          "autotypenumbers": "strict",
          "coloraxis": {
           "colorbar": {
            "outlinewidth": 0,
            "ticks": ""
           }
          },
          "colorscale": {
           "diverging": [
            [
             0,
             "#8e0152"
            ],
            [
             0.1,
             "#c51b7d"
            ],
            [
             0.2,
             "#de77ae"
            ],
            [
             0.3,
             "#f1b6da"
            ],
            [
             0.4,
             "#fde0ef"
            ],
            [
             0.5,
             "#f7f7f7"
            ],
            [
             0.6,
             "#e6f5d0"
            ],
            [
             0.7,
             "#b8e186"
            ],
            [
             0.8,
             "#7fbc41"
            ],
            [
             0.9,
             "#4d9221"
            ],
            [
             1,
             "#276419"
            ]
           ],
           "sequential": [
            [
             0,
             "#0d0887"
            ],
            [
             0.1111111111111111,
             "#46039f"
            ],
            [
             0.2222222222222222,
             "#7201a8"
            ],
            [
             0.3333333333333333,
             "#9c179e"
            ],
            [
             0.4444444444444444,
             "#bd3786"
            ],
            [
             0.5555555555555556,
             "#d8576b"
            ],
            [
             0.6666666666666666,
             "#ed7953"
            ],
            [
             0.7777777777777778,
             "#fb9f3a"
            ],
            [
             0.8888888888888888,
             "#fdca26"
            ],
            [
             1,
             "#f0f921"
            ]
           ],
           "sequentialminus": [
            [
             0,
             "#0d0887"
            ],
            [
             0.1111111111111111,
             "#46039f"
            ],
            [
             0.2222222222222222,
             "#7201a8"
            ],
            [
             0.3333333333333333,
             "#9c179e"
            ],
            [
             0.4444444444444444,
             "#bd3786"
            ],
            [
             0.5555555555555556,
             "#d8576b"
            ],
            [
             0.6666666666666666,
             "#ed7953"
            ],
            [
             0.7777777777777778,
             "#fb9f3a"
            ],
            [
             0.8888888888888888,
             "#fdca26"
            ],
            [
             1,
             "#f0f921"
            ]
           ]
          },
          "colorway": [
           "#636efa",
           "#EF553B",
           "#00cc96",
           "#ab63fa",
           "#FFA15A",
           "#19d3f3",
           "#FF6692",
           "#B6E880",
           "#FF97FF",
           "#FECB52"
          ],
          "font": {
           "color": "#2a3f5f"
          },
          "geo": {
           "bgcolor": "white",
           "lakecolor": "white",
           "landcolor": "#E5ECF6",
           "showlakes": true,
           "showland": true,
           "subunitcolor": "white"
          },
          "hoverlabel": {
           "align": "left"
          },
          "hovermode": "closest",
          "mapbox": {
           "style": "light"
          },
          "paper_bgcolor": "white",
          "plot_bgcolor": "#E5ECF6",
          "polar": {
           "angularaxis": {
            "gridcolor": "white",
            "linecolor": "white",
            "ticks": ""
           },
           "bgcolor": "#E5ECF6",
           "radialaxis": {
            "gridcolor": "white",
            "linecolor": "white",
            "ticks": ""
           }
          },
          "scene": {
           "xaxis": {
            "backgroundcolor": "#E5ECF6",
            "gridcolor": "white",
            "gridwidth": 2,
            "linecolor": "white",
            "showbackground": true,
            "ticks": "",
            "zerolinecolor": "white"
           },
           "yaxis": {
            "backgroundcolor": "#E5ECF6",
            "gridcolor": "white",
            "gridwidth": 2,
            "linecolor": "white",
            "showbackground": true,
            "ticks": "",
            "zerolinecolor": "white"
           },
           "zaxis": {
            "backgroundcolor": "#E5ECF6",
            "gridcolor": "white",
            "gridwidth": 2,
            "linecolor": "white",
            "showbackground": true,
            "ticks": "",
            "zerolinecolor": "white"
           }
          },
          "shapedefaults": {
           "line": {
            "color": "#2a3f5f"
           }
          },
          "ternary": {
           "aaxis": {
            "gridcolor": "white",
            "linecolor": "white",
            "ticks": ""
           },
           "baxis": {
            "gridcolor": "white",
            "linecolor": "white",
            "ticks": ""
           },
           "bgcolor": "#E5ECF6",
           "caxis": {
            "gridcolor": "white",
            "linecolor": "white",
            "ticks": ""
           }
          },
          "title": {
           "x": 0.05
          },
          "xaxis": {
           "automargin": true,
           "gridcolor": "white",
           "linecolor": "white",
           "ticks": "",
           "title": {
            "standoff": 15
           },
           "zerolinecolor": "white",
           "zerolinewidth": 2
          },
          "yaxis": {
           "automargin": true,
           "gridcolor": "white",
           "linecolor": "white",
           "ticks": "",
           "title": {
            "standoff": 15
           },
           "zerolinecolor": "white",
           "zerolinewidth": 2
          }
         }
        },
        "title": {
         "text": "Bottom 10 Products by Quantity Sold"
        },
        "xaxis": {
         "anchor": "y",
         "domain": [
          0,
          1
         ],
         "title": {
          "text": "Units Sold"
         }
        },
        "yaxis": {
         "anchor": "x",
         "domain": [
          0,
          1
         ],
         "title": {
          "text": "Product"
         }
        }
       }
      }
     },
     "metadata": {},
     "output_type": "display_data"
    }
   ],
   "source": [
    "low_quantity_products = (\n",
    "    df_products.groupby('Description')['Quantity']\n",
    "    .sum()\n",
    "    .sort_values()\n",
    "    .head(10)\n",
    "    .reset_index()\n",
    ")\n",
    "\n",
    "fig = px.bar(low_quantity_products, x='Quantity', y='Description',\n",
    "             orientation='h',\n",
    "             title='Bottom 10 Products by Quantity Sold',\n",
    "             labels={'Quantity': 'Units Sold', 'Description': 'Product'})\n",
    "fig.show()"
   ]
  },
  {
   "cell_type": "markdown",
   "id": "b1e6410e",
   "metadata": {},
   "source": [
    "So we can see from our lowest quantity of products purchased is 1. All of our bottom ten items have only sold a single unit throughout the whole year (2010-2011) that is covered by our dataset. These are clearly the products that perhaps our company should consider dropping from the inventory, or consider addressing pricing and marketing stategy in order to boost sales growth and revenue. "
   ]
  },
  {
   "cell_type": "markdown",
   "id": "fe32d4ae",
   "metadata": {},
   "source": [
    "Next we would like to look into products that have a low volume of sales and a high price. This could help to identify products that are unpopular, or to identify products that have premium pricing, are seen as niche, or overpriced. These products may represent luxury or specialised items, or products that take up inventory space without a strong Return On Investment (ROI)."
   ]
  },
  {
   "cell_type": "code",
   "execution_count": 21,
   "id": "bd559030",
   "metadata": {},
   "outputs": [],
   "source": [
    "# Create a summary DataFrame for products\n",
    "# This DataFrame will aggregate total quantity, total revenue, and average unit price for each product\n",
    "product_summary = (\n",
    "    df_products.groupby('Description')\n",
    "    .agg(TotalQuantity=('Quantity', 'sum'),\n",
    "         TotalRevenue=('TotalPrice', 'sum'),\n",
    "         AvgUnitPrice=('UnitPrice', 'mean'))\n",
    "    .reset_index()\n",
    ")"
   ]
  },
  {
   "cell_type": "code",
   "execution_count": 22,
   "id": "cd8b087b",
   "metadata": {},
   "outputs": [
    {
     "data": {
      "text/html": [
       "<div>\n",
       "<style scoped>\n",
       "    .dataframe tbody tr th:only-of-type {\n",
       "        vertical-align: middle;\n",
       "    }\n",
       "\n",
       "    .dataframe tbody tr th {\n",
       "        vertical-align: top;\n",
       "    }\n",
       "\n",
       "    .dataframe thead th {\n",
       "        text-align: right;\n",
       "    }\n",
       "</style>\n",
       "<table border=\"1\" class=\"dataframe\">\n",
       "  <thead>\n",
       "    <tr style=\"text-align: right;\">\n",
       "      <th></th>\n",
       "      <th>Description</th>\n",
       "      <th>TotalQuantity</th>\n",
       "      <th>TotalRevenue</th>\n",
       "      <th>AvgUnitPrice</th>\n",
       "    </tr>\n",
       "  </thead>\n",
       "  <tbody>\n",
       "    <tr>\n",
       "      <th>263</th>\n",
       "      <td>Adjust bad debt</td>\n",
       "      <td>1</td>\n",
       "      <td>11062.06</td>\n",
       "      <td>11062.060000</td>\n",
       "    </tr>\n",
       "    <tr>\n",
       "      <th>155</th>\n",
       "      <td>AMAZON FEE</td>\n",
       "      <td>2</td>\n",
       "      <td>13761.09</td>\n",
       "      <td>6880.545000</td>\n",
       "    </tr>\n",
       "    <tr>\n",
       "      <th>2852</th>\n",
       "      <td>REGENCY MIRROR WITH SHUTTERS</td>\n",
       "      <td>10</td>\n",
       "      <td>1530.00</td>\n",
       "      <td>156.428571</td>\n",
       "    </tr>\n",
       "    <tr>\n",
       "      <th>1091</th>\n",
       "      <td>Dotcomgiftshop Gift Voucher Â£100.00</td>\n",
       "      <td>1</td>\n",
       "      <td>83.33</td>\n",
       "      <td>83.330000</td>\n",
       "    </tr>\n",
       "    <tr>\n",
       "      <th>3739</th>\n",
       "      <td>VINTAGE POST OFFICE CABINET</td>\n",
       "      <td>11</td>\n",
       "      <td>607.65</td>\n",
       "      <td>66.360000</td>\n",
       "    </tr>\n",
       "    <tr>\n",
       "      <th>3006</th>\n",
       "      <td>SCHOOL DESK AND CHAIR</td>\n",
       "      <td>19</td>\n",
       "      <td>1199.75</td>\n",
       "      <td>63.915385</td>\n",
       "    </tr>\n",
       "    <tr>\n",
       "      <th>967</th>\n",
       "      <td>DECORATIVE HANGING SHELVING UNIT</td>\n",
       "      <td>6</td>\n",
       "      <td>359.70</td>\n",
       "      <td>59.950000</td>\n",
       "    </tr>\n",
       "    <tr>\n",
       "      <th>476</th>\n",
       "      <td>BLUE PAINTED KASHMIRI CHAIR</td>\n",
       "      <td>3</td>\n",
       "      <td>149.85</td>\n",
       "      <td>49.950000</td>\n",
       "    </tr>\n",
       "    <tr>\n",
       "      <th>2588</th>\n",
       "      <td>PINK PAINTED KASHMIRI CHAIR</td>\n",
       "      <td>4</td>\n",
       "      <td>171.80</td>\n",
       "      <td>42.950000</td>\n",
       "    </tr>\n",
       "    <tr>\n",
       "      <th>1095</th>\n",
       "      <td>Dotcomgiftshop Gift Voucher Â£50.00</td>\n",
       "      <td>4</td>\n",
       "      <td>167.56</td>\n",
       "      <td>41.890000</td>\n",
       "    </tr>\n",
       "  </tbody>\n",
       "</table>\n",
       "</div>"
      ],
      "text/plain": [
       "                               Description  TotalQuantity  TotalRevenue  \\\n",
       "263                        Adjust bad debt              1      11062.06   \n",
       "155                             AMAZON FEE              2      13761.09   \n",
       "2852          REGENCY MIRROR WITH SHUTTERS             10       1530.00   \n",
       "1091  Dotcomgiftshop Gift Voucher Â£100.00              1         83.33   \n",
       "3739           VINTAGE POST OFFICE CABINET             11        607.65   \n",
       "3006                SCHOOL DESK AND CHAIR              19       1199.75   \n",
       "967       DECORATIVE HANGING SHELVING UNIT              6        359.70   \n",
       "476            BLUE PAINTED KASHMIRI CHAIR              3        149.85   \n",
       "2588           PINK PAINTED KASHMIRI CHAIR              4        171.80   \n",
       "1095   Dotcomgiftshop Gift Voucher Â£50.00              4        167.56   \n",
       "\n",
       "      AvgUnitPrice  \n",
       "263   11062.060000  \n",
       "155    6880.545000  \n",
       "2852    156.428571  \n",
       "1091     83.330000  \n",
       "3739     66.360000  \n",
       "3006     63.915385  \n",
       "967      59.950000  \n",
       "476      49.950000  \n",
       "2588     42.950000  \n",
       "1095     41.890000  "
      ]
     },
     "execution_count": 22,
     "metadata": {},
     "output_type": "execute_result"
    }
   ],
   "source": [
    "low_volume_high_price = product_summary[\n",
    "    (product_summary['TotalQuantity'] < 20) &\n",
    "    (product_summary['AvgUnitPrice'] > 10)\n",
    "].sort_values(by='AvgUnitPrice', ascending=False)\n",
    "\n",
    "low_volume_high_price.head(10)"
   ]
  },
  {
   "cell_type": "markdown",
   "id": "c12b412a",
   "metadata": {},
   "source": [
    "Again, we will need to filter out non-physical products or accounting/financial entries in order to streamline our analysis and keep things at the product level."
   ]
  },
  {
   "cell_type": "code",
   "execution_count": null,
   "id": "32d2c088",
   "metadata": {},
   "outputs": [
    {
     "data": {
      "text/html": [
       "<div>\n",
       "<style scoped>\n",
       "    .dataframe tbody tr th:only-of-type {\n",
       "        vertical-align: middle;\n",
       "    }\n",
       "\n",
       "    .dataframe tbody tr th {\n",
       "        vertical-align: top;\n",
       "    }\n",
       "\n",
       "    .dataframe thead th {\n",
       "        text-align: right;\n",
       "    }\n",
       "</style>\n",
       "<table border=\"1\" class=\"dataframe\">\n",
       "  <thead>\n",
       "    <tr style=\"text-align: right;\">\n",
       "      <th></th>\n",
       "      <th>Description</th>\n",
       "      <th>TotalQuantity</th>\n",
       "      <th>TotalRevenue</th>\n",
       "      <th>AvgUnitPrice</th>\n",
       "    </tr>\n",
       "  </thead>\n",
       "  <tbody>\n",
       "    <tr>\n",
       "      <th>2845</th>\n",
       "      <td>REGENCY MIRROR WITH SHUTTERS</td>\n",
       "      <td>10</td>\n",
       "      <td>1530.00</td>\n",
       "      <td>156.428571</td>\n",
       "    </tr>\n",
       "    <tr>\n",
       "      <th>3732</th>\n",
       "      <td>VINTAGE POST OFFICE CABINET</td>\n",
       "      <td>11</td>\n",
       "      <td>607.65</td>\n",
       "      <td>66.360000</td>\n",
       "    </tr>\n",
       "    <tr>\n",
       "      <th>2999</th>\n",
       "      <td>SCHOOL DESK AND CHAIR</td>\n",
       "      <td>19</td>\n",
       "      <td>1199.75</td>\n",
       "      <td>63.915385</td>\n",
       "    </tr>\n",
       "    <tr>\n",
       "      <th>965</th>\n",
       "      <td>DECORATIVE HANGING SHELVING UNIT</td>\n",
       "      <td>6</td>\n",
       "      <td>359.70</td>\n",
       "      <td>59.950000</td>\n",
       "    </tr>\n",
       "    <tr>\n",
       "      <th>474</th>\n",
       "      <td>BLUE PAINTED KASHMIRI CHAIR</td>\n",
       "      <td>3</td>\n",
       "      <td>149.85</td>\n",
       "      <td>49.950000</td>\n",
       "    </tr>\n",
       "    <tr>\n",
       "      <th>2581</th>\n",
       "      <td>PINK PAINTED KASHMIRI CHAIR</td>\n",
       "      <td>4</td>\n",
       "      <td>171.80</td>\n",
       "      <td>42.950000</td>\n",
       "    </tr>\n",
       "    <tr>\n",
       "      <th>945</th>\n",
       "      <td>DANISH ROSE BEDSIDE CABINET</td>\n",
       "      <td>13</td>\n",
       "      <td>519.35</td>\n",
       "      <td>39.950000</td>\n",
       "    </tr>\n",
       "    <tr>\n",
       "      <th>3325</th>\n",
       "      <td>SILVER ROCCOCO CHANDELIER</td>\n",
       "      <td>14</td>\n",
       "      <td>504.32</td>\n",
       "      <td>39.396667</td>\n",
       "    </tr>\n",
       "    <tr>\n",
       "      <th>1392</th>\n",
       "      <td>FUSCHIA RETRO BAR STOOL</td>\n",
       "      <td>14</td>\n",
       "      <td>523.30</td>\n",
       "      <td>39.150000</td>\n",
       "    </tr>\n",
       "    <tr>\n",
       "      <th>681</th>\n",
       "      <td>CHALKBOARD KITCHEN ORGANISER</td>\n",
       "      <td>11</td>\n",
       "      <td>366.73</td>\n",
       "      <td>37.610000</td>\n",
       "    </tr>\n",
       "  </tbody>\n",
       "</table>\n",
       "</div>"
      ],
      "text/plain": [
       "                           Description  TotalQuantity  TotalRevenue  \\\n",
       "2845      REGENCY MIRROR WITH SHUTTERS             10       1530.00   \n",
       "3732       VINTAGE POST OFFICE CABINET             11        607.65   \n",
       "2999            SCHOOL DESK AND CHAIR              19       1199.75   \n",
       "965   DECORATIVE HANGING SHELVING UNIT              6        359.70   \n",
       "474        BLUE PAINTED KASHMIRI CHAIR              3        149.85   \n",
       "2581       PINK PAINTED KASHMIRI CHAIR              4        171.80   \n",
       "945        DANISH ROSE BEDSIDE CABINET             13        519.35   \n",
       "3325         SILVER ROCCOCO CHANDELIER             14        504.32   \n",
       "1392           FUSCHIA RETRO BAR STOOL             14        523.30   \n",
       "681       CHALKBOARD KITCHEN ORGANISER             11        366.73   \n",
       "\n",
       "      AvgUnitPrice  \n",
       "2845    156.428571  \n",
       "3732     66.360000  \n",
       "2999     63.915385  \n",
       "965      59.950000  \n",
       "474      49.950000  \n",
       "2581     42.950000  \n",
       "945      39.950000  \n",
       "3325     39.396667  \n",
       "1392     39.150000  \n",
       "681      37.610000  "
      ]
     },
     "execution_count": 31,
     "metadata": {},
     "output_type": "execute_result"
    }
   ],
   "source": [
    "# Filter out non-products\n",
    "non_products = [\n",
    "    \"Adjust bad debt\",\n",
    "    \"Amazon Fee\",\n",
    "    \"AMAZON FEE\",\n",
    "    \"Dotcomgiftshop Gift Voucher A£100.00\",\n",
    "    \"Dotcomgiftshop Gift Voucher A£50.00\"\n",
    "    \"Dotcomgiftshop Gift Voucher Â£40.00\",\n",
    "    \"Dotcomgiftshop Gift Voucher Â£50.00\",\n",
    "    \"Dotcomgiftshop Gift Voucher Â£30.00\",\n",
    "    \"Dotcomgiftshop Gift Voucher Â£20.00\",\n",
    "    \"Dotcomgiftshop Gift Voucher Â£10.00\",\n",
    "    \"Dotcomgiftshop Gift Voucher Â£100.00\"\n",
    "]\n",
    "\n",
    "df_products = df_products[~df_products['Description'].isin(non_products)]\n",
    "\n",
    "# Recalculate product summary\n",
    "product_summary = (\n",
    "    df_products.groupby('Description')\n",
    "    .agg(TotalQuantity=('Quantity', 'sum'),\n",
    "         TotalRevenue=('TotalPrice', 'sum'),\n",
    "         AvgUnitPrice=('UnitPrice', 'mean'))\n",
    "    .reset_index()\n",
    ")\n",
    "\n",
    "# Filter low volume, high price products\n",
    "low_volume_high_price = product_summary[\n",
    "    (product_summary['TotalQuantity'] < 20) &\n",
    "    (product_summary['AvgUnitPrice'] > 10)\n",
    "].sort_values(by='AvgUnitPrice', ascending=False)\n",
    "\n",
    "# Display top 10\n",
    "low_volume_high_price.head(10)"
   ]
  },
  {
   "cell_type": "markdown",
   "id": "0358a471",
   "metadata": {},
   "source": [
    "To identify potentially underperforming or niche products, we analysed items that were sold in low quantities (fewer than 20 units) but had a high average unit price (greater than £10). These products may represent premium items, overpriced inventory, or non-essential goods with limited appeal.\n",
    "\n",
    "After filtering out non-merchandise descriptors (such as shipping fees and gift vouchers), we identified several products with very high price points but low sales volumes. Examples include items like 'Regency Mirror w/ Shutters', 'Vintage Post Office Cabinet, and 'Blue Painted Kashmiri Chair', each commanding higher unit prices but selling only a small number of units across the entire dataset.\n",
    "\n",
    "This insight may indicate:\n",
    "\n",
    "- Niche appeal or exclusivity (deliberate low sales at high price)\n",
    "- Pricing mismatch (potential for adjustment)\n",
    "- Inventory cost inefficiency (depending on stockholding policies)\n",
    "\n",
    "Recommendation:\n",
    "These products may warrant a pricing review or marketing reevaluation, particularly if they occupy shelf space or incur warehousing costs. Alternatively, they may remain intentionally limited and should be assessed in the context of brand strategy."
   ]
  },
  {
   "cell_type": "markdown",
   "id": "12547c15",
   "metadata": {},
   "source": [
    "### Customer Level Analysis\n",
    "\n",
    "In this section, we are interested in examining questions such as:\n",
    "- How many unique customers are in the dataset?\n",
    "- How many are repeat buyers?\n",
    "- What is the average number of orders per customer?\n",
    "- Who are the most frequent buyers?"
   ]
  },
  {
   "cell_type": "code",
   "execution_count": null,
   "id": "63e9151e",
   "metadata": {},
   "outputs": [
    {
     "name": "stdout",
     "output_type": "stream",
     "text": [
      "Unique customers: 4338\n"
     ]
    }
   ],
   "source": [
    "# Count unique customers\n",
    "unique_customers = df['CustomerID'].nunique()\n",
    "print(f\"Unique customers: {unique_customers}\")"
   ]
  },
  {
   "cell_type": "code",
   "execution_count": 35,
   "id": "5f910f7a",
   "metadata": {},
   "outputs": [
    {
     "data": {
      "text/html": [
       "<div>\n",
       "<style scoped>\n",
       "    .dataframe tbody tr th:only-of-type {\n",
       "        vertical-align: middle;\n",
       "    }\n",
       "\n",
       "    .dataframe tbody tr th {\n",
       "        vertical-align: top;\n",
       "    }\n",
       "\n",
       "    .dataframe thead th {\n",
       "        text-align: right;\n",
       "    }\n",
       "</style>\n",
       "<table border=\"1\" class=\"dataframe\">\n",
       "  <thead>\n",
       "    <tr style=\"text-align: right;\">\n",
       "      <th></th>\n",
       "      <th>CustomerID</th>\n",
       "      <th>NumOrders</th>\n",
       "    </tr>\n",
       "  </thead>\n",
       "  <tbody>\n",
       "    <tr>\n",
       "      <th>count</th>\n",
       "      <td>4338.000000</td>\n",
       "      <td>4338.000000</td>\n",
       "    </tr>\n",
       "    <tr>\n",
       "      <th>mean</th>\n",
       "      <td>15300.408022</td>\n",
       "      <td>4.601660</td>\n",
       "    </tr>\n",
       "    <tr>\n",
       "      <th>std</th>\n",
       "      <td>1721.808492</td>\n",
       "      <td>22.989013</td>\n",
       "    </tr>\n",
       "    <tr>\n",
       "      <th>min</th>\n",
       "      <td>12346.000000</td>\n",
       "      <td>1.000000</td>\n",
       "    </tr>\n",
       "    <tr>\n",
       "      <th>25%</th>\n",
       "      <td>13813.250000</td>\n",
       "      <td>1.000000</td>\n",
       "    </tr>\n",
       "    <tr>\n",
       "      <th>50%</th>\n",
       "      <td>15299.500000</td>\n",
       "      <td>2.000000</td>\n",
       "    </tr>\n",
       "    <tr>\n",
       "      <th>75%</th>\n",
       "      <td>16778.750000</td>\n",
       "      <td>5.000000</td>\n",
       "    </tr>\n",
       "    <tr>\n",
       "      <th>max</th>\n",
       "      <td>18287.000000</td>\n",
       "      <td>1431.000000</td>\n",
       "    </tr>\n",
       "  </tbody>\n",
       "</table>\n",
       "</div>"
      ],
      "text/plain": [
       "         CustomerID    NumOrders\n",
       "count   4338.000000  4338.000000\n",
       "mean   15300.408022     4.601660\n",
       "std     1721.808492    22.989013\n",
       "min    12346.000000     1.000000\n",
       "25%    13813.250000     1.000000\n",
       "50%    15299.500000     2.000000\n",
       "75%    16778.750000     5.000000\n",
       "max    18287.000000  1431.000000"
      ]
     },
     "execution_count": 35,
     "metadata": {},
     "output_type": "execute_result"
    }
   ],
   "source": [
    "# Orders per customer (frequency of purchases)\n",
    "customer_orders = df.groupby('CustomerID')['InvoiceNo'].nunique().reset_index(name='NumOrders')\n",
    "\n",
    "# Summary stats\n",
    "customer_orders.describe()"
   ]
  },
  {
   "cell_type": "markdown",
   "id": "f7633607",
   "metadata": {},
   "source": [
    "Here we can see that there are 4338 unique customers in the dataset. Our average number of orders per customer is 4.6. \n",
    "We notice though that our minimum order is 1, and our max is 1431. This is quite a dramatic spread, so let us drill down a little more to find out who are our most loyal customers."
   ]
  },
  {
   "cell_type": "code",
   "execution_count": 37,
   "id": "ebe4cebd",
   "metadata": {},
   "outputs": [
    {
     "data": {
      "application/vnd.plotly.v1+json": {
       "config": {
        "plotlyServerURL": "https://plot.ly"
       },
       "data": [
        {
         "hovertemplate": "Customer ID=%{x}<br>Number of Orders=%{y}<extra></extra>",
         "legendgroup": "",
         "marker": {
          "color": "#636efa",
          "pattern": {
           "shape": ""
          }
         },
         "name": "",
         "orientation": "v",
         "showlegend": false,
         "textposition": "auto",
         "type": "bar",
         "x": [
          "15287",
          "12748",
          "14911",
          "17841",
          "13089",
          "14606",
          "15311",
          "12971",
          "14646",
          "16029"
         ],
         "xaxis": "x",
         "y": {
          "bdata": "lwXRAMkAfABhAF0AWwBWAEkAPwA=",
          "dtype": "i2"
         },
         "yaxis": "y"
        }
       ],
       "layout": {
        "barmode": "relative",
        "legend": {
         "tracegroupgap": 0
        },
        "template": {
         "data": {
          "bar": [
           {
            "error_x": {
             "color": "#2a3f5f"
            },
            "error_y": {
             "color": "#2a3f5f"
            },
            "marker": {
             "line": {
              "color": "#E5ECF6",
              "width": 0.5
             },
             "pattern": {
              "fillmode": "overlay",
              "size": 10,
              "solidity": 0.2
             }
            },
            "type": "bar"
           }
          ],
          "barpolar": [
           {
            "marker": {
             "line": {
              "color": "#E5ECF6",
              "width": 0.5
             },
             "pattern": {
              "fillmode": "overlay",
              "size": 10,
              "solidity": 0.2
             }
            },
            "type": "barpolar"
           }
          ],
          "carpet": [
           {
            "aaxis": {
             "endlinecolor": "#2a3f5f",
             "gridcolor": "white",
             "linecolor": "white",
             "minorgridcolor": "white",
             "startlinecolor": "#2a3f5f"
            },
            "baxis": {
             "endlinecolor": "#2a3f5f",
             "gridcolor": "white",
             "linecolor": "white",
             "minorgridcolor": "white",
             "startlinecolor": "#2a3f5f"
            },
            "type": "carpet"
           }
          ],
          "choropleth": [
           {
            "colorbar": {
             "outlinewidth": 0,
             "ticks": ""
            },
            "type": "choropleth"
           }
          ],
          "contour": [
           {
            "colorbar": {
             "outlinewidth": 0,
             "ticks": ""
            },
            "colorscale": [
             [
              0,
              "#0d0887"
             ],
             [
              0.1111111111111111,
              "#46039f"
             ],
             [
              0.2222222222222222,
              "#7201a8"
             ],
             [
              0.3333333333333333,
              "#9c179e"
             ],
             [
              0.4444444444444444,
              "#bd3786"
             ],
             [
              0.5555555555555556,
              "#d8576b"
             ],
             [
              0.6666666666666666,
              "#ed7953"
             ],
             [
              0.7777777777777778,
              "#fb9f3a"
             ],
             [
              0.8888888888888888,
              "#fdca26"
             ],
             [
              1,
              "#f0f921"
             ]
            ],
            "type": "contour"
           }
          ],
          "contourcarpet": [
           {
            "colorbar": {
             "outlinewidth": 0,
             "ticks": ""
            },
            "type": "contourcarpet"
           }
          ],
          "heatmap": [
           {
            "colorbar": {
             "outlinewidth": 0,
             "ticks": ""
            },
            "colorscale": [
             [
              0,
              "#0d0887"
             ],
             [
              0.1111111111111111,
              "#46039f"
             ],
             [
              0.2222222222222222,
              "#7201a8"
             ],
             [
              0.3333333333333333,
              "#9c179e"
             ],
             [
              0.4444444444444444,
              "#bd3786"
             ],
             [
              0.5555555555555556,
              "#d8576b"
             ],
             [
              0.6666666666666666,
              "#ed7953"
             ],
             [
              0.7777777777777778,
              "#fb9f3a"
             ],
             [
              0.8888888888888888,
              "#fdca26"
             ],
             [
              1,
              "#f0f921"
             ]
            ],
            "type": "heatmap"
           }
          ],
          "histogram": [
           {
            "marker": {
             "pattern": {
              "fillmode": "overlay",
              "size": 10,
              "solidity": 0.2
             }
            },
            "type": "histogram"
           }
          ],
          "histogram2d": [
           {
            "colorbar": {
             "outlinewidth": 0,
             "ticks": ""
            },
            "colorscale": [
             [
              0,
              "#0d0887"
             ],
             [
              0.1111111111111111,
              "#46039f"
             ],
             [
              0.2222222222222222,
              "#7201a8"
             ],
             [
              0.3333333333333333,
              "#9c179e"
             ],
             [
              0.4444444444444444,
              "#bd3786"
             ],
             [
              0.5555555555555556,
              "#d8576b"
             ],
             [
              0.6666666666666666,
              "#ed7953"
             ],
             [
              0.7777777777777778,
              "#fb9f3a"
             ],
             [
              0.8888888888888888,
              "#fdca26"
             ],
             [
              1,
              "#f0f921"
             ]
            ],
            "type": "histogram2d"
           }
          ],
          "histogram2dcontour": [
           {
            "colorbar": {
             "outlinewidth": 0,
             "ticks": ""
            },
            "colorscale": [
             [
              0,
              "#0d0887"
             ],
             [
              0.1111111111111111,
              "#46039f"
             ],
             [
              0.2222222222222222,
              "#7201a8"
             ],
             [
              0.3333333333333333,
              "#9c179e"
             ],
             [
              0.4444444444444444,
              "#bd3786"
             ],
             [
              0.5555555555555556,
              "#d8576b"
             ],
             [
              0.6666666666666666,
              "#ed7953"
             ],
             [
              0.7777777777777778,
              "#fb9f3a"
             ],
             [
              0.8888888888888888,
              "#fdca26"
             ],
             [
              1,
              "#f0f921"
             ]
            ],
            "type": "histogram2dcontour"
           }
          ],
          "mesh3d": [
           {
            "colorbar": {
             "outlinewidth": 0,
             "ticks": ""
            },
            "type": "mesh3d"
           }
          ],
          "parcoords": [
           {
            "line": {
             "colorbar": {
              "outlinewidth": 0,
              "ticks": ""
             }
            },
            "type": "parcoords"
           }
          ],
          "pie": [
           {
            "automargin": true,
            "type": "pie"
           }
          ],
          "scatter": [
           {
            "fillpattern": {
             "fillmode": "overlay",
             "size": 10,
             "solidity": 0.2
            },
            "type": "scatter"
           }
          ],
          "scatter3d": [
           {
            "line": {
             "colorbar": {
              "outlinewidth": 0,
              "ticks": ""
             }
            },
            "marker": {
             "colorbar": {
              "outlinewidth": 0,
              "ticks": ""
             }
            },
            "type": "scatter3d"
           }
          ],
          "scattercarpet": [
           {
            "marker": {
             "colorbar": {
              "outlinewidth": 0,
              "ticks": ""
             }
            },
            "type": "scattercarpet"
           }
          ],
          "scattergeo": [
           {
            "marker": {
             "colorbar": {
              "outlinewidth": 0,
              "ticks": ""
             }
            },
            "type": "scattergeo"
           }
          ],
          "scattergl": [
           {
            "marker": {
             "colorbar": {
              "outlinewidth": 0,
              "ticks": ""
             }
            },
            "type": "scattergl"
           }
          ],
          "scattermap": [
           {
            "marker": {
             "colorbar": {
              "outlinewidth": 0,
              "ticks": ""
             }
            },
            "type": "scattermap"
           }
          ],
          "scattermapbox": [
           {
            "marker": {
             "colorbar": {
              "outlinewidth": 0,
              "ticks": ""
             }
            },
            "type": "scattermapbox"
           }
          ],
          "scatterpolar": [
           {
            "marker": {
             "colorbar": {
              "outlinewidth": 0,
              "ticks": ""
             }
            },
            "type": "scatterpolar"
           }
          ],
          "scatterpolargl": [
           {
            "marker": {
             "colorbar": {
              "outlinewidth": 0,
              "ticks": ""
             }
            },
            "type": "scatterpolargl"
           }
          ],
          "scatterternary": [
           {
            "marker": {
             "colorbar": {
              "outlinewidth": 0,
              "ticks": ""
             }
            },
            "type": "scatterternary"
           }
          ],
          "surface": [
           {
            "colorbar": {
             "outlinewidth": 0,
             "ticks": ""
            },
            "colorscale": [
             [
              0,
              "#0d0887"
             ],
             [
              0.1111111111111111,
              "#46039f"
             ],
             [
              0.2222222222222222,
              "#7201a8"
             ],
             [
              0.3333333333333333,
              "#9c179e"
             ],
             [
              0.4444444444444444,
              "#bd3786"
             ],
             [
              0.5555555555555556,
              "#d8576b"
             ],
             [
              0.6666666666666666,
              "#ed7953"
             ],
             [
              0.7777777777777778,
              "#fb9f3a"
             ],
             [
              0.8888888888888888,
              "#fdca26"
             ],
             [
              1,
              "#f0f921"
             ]
            ],
            "type": "surface"
           }
          ],
          "table": [
           {
            "cells": {
             "fill": {
              "color": "#EBF0F8"
             },
             "line": {
              "color": "white"
             }
            },
            "header": {
             "fill": {
              "color": "#C8D4E3"
             },
             "line": {
              "color": "white"
             }
            },
            "type": "table"
           }
          ]
         },
         "layout": {
          "annotationdefaults": {
           "arrowcolor": "#2a3f5f",
           "arrowhead": 0,
           "arrowwidth": 1
          },
          "autotypenumbers": "strict",
          "coloraxis": {
           "colorbar": {
            "outlinewidth": 0,
            "ticks": ""
           }
          },
          "colorscale": {
           "diverging": [
            [
             0,
             "#8e0152"
            ],
            [
             0.1,
             "#c51b7d"
            ],
            [
             0.2,
             "#de77ae"
            ],
            [
             0.3,
             "#f1b6da"
            ],
            [
             0.4,
             "#fde0ef"
            ],
            [
             0.5,
             "#f7f7f7"
            ],
            [
             0.6,
             "#e6f5d0"
            ],
            [
             0.7,
             "#b8e186"
            ],
            [
             0.8,
             "#7fbc41"
            ],
            [
             0.9,
             "#4d9221"
            ],
            [
             1,
             "#276419"
            ]
           ],
           "sequential": [
            [
             0,
             "#0d0887"
            ],
            [
             0.1111111111111111,
             "#46039f"
            ],
            [
             0.2222222222222222,
             "#7201a8"
            ],
            [
             0.3333333333333333,
             "#9c179e"
            ],
            [
             0.4444444444444444,
             "#bd3786"
            ],
            [
             0.5555555555555556,
             "#d8576b"
            ],
            [
             0.6666666666666666,
             "#ed7953"
            ],
            [
             0.7777777777777778,
             "#fb9f3a"
            ],
            [
             0.8888888888888888,
             "#fdca26"
            ],
            [
             1,
             "#f0f921"
            ]
           ],
           "sequentialminus": [
            [
             0,
             "#0d0887"
            ],
            [
             0.1111111111111111,
             "#46039f"
            ],
            [
             0.2222222222222222,
             "#7201a8"
            ],
            [
             0.3333333333333333,
             "#9c179e"
            ],
            [
             0.4444444444444444,
             "#bd3786"
            ],
            [
             0.5555555555555556,
             "#d8576b"
            ],
            [
             0.6666666666666666,
             "#ed7953"
            ],
            [
             0.7777777777777778,
             "#fb9f3a"
            ],
            [
             0.8888888888888888,
             "#fdca26"
            ],
            [
             1,
             "#f0f921"
            ]
           ]
          },
          "colorway": [
           "#636efa",
           "#EF553B",
           "#00cc96",
           "#ab63fa",
           "#FFA15A",
           "#19d3f3",
           "#FF6692",
           "#B6E880",
           "#FF97FF",
           "#FECB52"
          ],
          "font": {
           "color": "#2a3f5f"
          },
          "geo": {
           "bgcolor": "white",
           "lakecolor": "white",
           "landcolor": "#E5ECF6",
           "showlakes": true,
           "showland": true,
           "subunitcolor": "white"
          },
          "hoverlabel": {
           "align": "left"
          },
          "hovermode": "closest",
          "mapbox": {
           "style": "light"
          },
          "paper_bgcolor": "white",
          "plot_bgcolor": "#E5ECF6",
          "polar": {
           "angularaxis": {
            "gridcolor": "white",
            "linecolor": "white",
            "ticks": ""
           },
           "bgcolor": "#E5ECF6",
           "radialaxis": {
            "gridcolor": "white",
            "linecolor": "white",
            "ticks": ""
           }
          },
          "scene": {
           "xaxis": {
            "backgroundcolor": "#E5ECF6",
            "gridcolor": "white",
            "gridwidth": 2,
            "linecolor": "white",
            "showbackground": true,
            "ticks": "",
            "zerolinecolor": "white"
           },
           "yaxis": {
            "backgroundcolor": "#E5ECF6",
            "gridcolor": "white",
            "gridwidth": 2,
            "linecolor": "white",
            "showbackground": true,
            "ticks": "",
            "zerolinecolor": "white"
           },
           "zaxis": {
            "backgroundcolor": "#E5ECF6",
            "gridcolor": "white",
            "gridwidth": 2,
            "linecolor": "white",
            "showbackground": true,
            "ticks": "",
            "zerolinecolor": "white"
           }
          },
          "shapedefaults": {
           "line": {
            "color": "#2a3f5f"
           }
          },
          "ternary": {
           "aaxis": {
            "gridcolor": "white",
            "linecolor": "white",
            "ticks": ""
           },
           "baxis": {
            "gridcolor": "white",
            "linecolor": "white",
            "ticks": ""
           },
           "bgcolor": "#E5ECF6",
           "caxis": {
            "gridcolor": "white",
            "linecolor": "white",
            "ticks": ""
           }
          },
          "title": {
           "x": 0.05
          },
          "xaxis": {
           "automargin": true,
           "gridcolor": "white",
           "linecolor": "white",
           "ticks": "",
           "title": {
            "standoff": 15
           },
           "zerolinecolor": "white",
           "zerolinewidth": 2
          },
          "yaxis": {
           "automargin": true,
           "gridcolor": "white",
           "linecolor": "white",
           "ticks": "",
           "title": {
            "standoff": 15
           },
           "zerolinecolor": "white",
           "zerolinewidth": 2
          }
         }
        },
        "title": {
         "text": "Top 10 Customers by Number of Orders"
        },
        "xaxis": {
         "anchor": "y",
         "domain": [
          0,
          1
         ],
         "title": {
          "text": "Customer ID"
         }
        },
        "yaxis": {
         "anchor": "x",
         "domain": [
          0,
          1
         ],
         "title": {
          "text": "Number of Orders"
         }
        }
       }
      }
     },
     "metadata": {},
     "output_type": "display_data"
    }
   ],
   "source": [
    "top_loyal_customers['CustomerID'] = top_loyal_customers['CustomerID'].astype(str)\n",
    "\n",
    "fig = px.bar(top_loyal_customers, x='CustomerID', y='NumOrders',\n",
    "             title='Top 10 Customers by Number of Orders',\n",
    "             labels={'CustomerID': 'Customer ID', 'NumOrders': 'Number of Orders'})\n",
    "fig.show()"
   ]
  },
  {
   "cell_type": "markdown",
   "id": "7451425e",
   "metadata": {},
   "source": [
    "We can now see that our most loyal customer is CustomerID: 15287 with 1431 orders."
   ]
  },
  {
   "cell_type": "code",
   "execution_count": 38,
   "id": "2b96d561",
   "metadata": {},
   "outputs": [
    {
     "data": {
      "text/plain": [
       "LoyaltyCategory\n",
       "Returning    2845\n",
       "One-time     1493\n",
       "Name: count, dtype: int64"
      ]
     },
     "execution_count": 38,
     "metadata": {},
     "output_type": "execute_result"
    }
   ],
   "source": [
    "# Add a loyalty category\n",
    "customer_orders['LoyaltyCategory'] = customer_orders['NumOrders'].apply(\n",
    "    lambda x: 'One-time' if x == 1 else 'Returning'\n",
    ")\n",
    "\n",
    "customer_orders['LoyaltyCategory'].value_counts()"
   ]
  },
  {
   "cell_type": "markdown",
   "id": "954d26a2",
   "metadata": {},
   "source": [
    "Analysis of the customer base reveals that approximately two-thirds of all customers are repeat buyers, having placed more than one order during the observed period. \n",
    "This indicates a relatively strong level of customer retention, which may reflect positively on product satisfaction, brand engagement, or the effectiveness of marketing and follow-up strategies.\n",
    "\n",
    "Conversely, around one-third of customers are one-time buyers, suggesting potential opportunities for post-purchase engagement, loyalty programs, or targeted reactivation campaigns."
   ]
  },
  {
   "cell_type": "markdown",
   "id": "c346019e",
   "metadata": {},
   "source": [
    "This breakdown is visualised in the pie chart below, which categorises customers into ‘One-time’ and ‘Returning’ groups based on their order frequency."
   ]
  },
  {
   "cell_type": "code",
   "execution_count": 39,
   "id": "8ab58437",
   "metadata": {},
   "outputs": [
    {
     "data": {
      "application/vnd.plotly.v1+json": {
       "config": {
        "plotlyServerURL": "https://plot.ly"
       },
       "data": [
        {
         "domain": {
          "x": [
           0,
           1
          ],
          "y": [
           0,
           1
          ]
         },
         "hovertemplate": "LoyaltyCategory=%{label}<extra></extra>",
         "labels": [
          "One-time",
          "Returning",
          "Returning",
          "One-time",
          "One-time",
          "Returning",
          "One-time",
          "One-time",
          "One-time",
          "Returning",
          "One-time",
          "Returning",
          "Returning",
          "Returning",
          "One-time",
          "Returning",
          "Returning",
          "Returning",
          "Returning",
          "One-time",
          "Returning",
          "Returning",
          "Returning",
          "One-time",
          "One-time",
          "Returning",
          "Returning",
          "One-time",
          "Returning",
          "Returning",
          "Returning",
          "Returning",
          "Returning",
          "Returning",
          "Returning",
          "One-time",
          "One-time",
          "Returning",
          "Returning",
          "Returning",
          "Returning",
          "One-time",
          "Returning",
          "One-time",
          "One-time",
          "One-time",
          "One-time",
          "Returning",
          "Returning",
          "Returning",
          "Returning",
          "Returning",
          "Returning",
          "Returning",
          "Returning",
          "Returning",
          "Returning",
          "One-time",
          "One-time",
          "Returning",
          "Returning",
          "Returning",
          "Returning",
          "One-time",
          "One-time",
          "Returning",
          "Returning",
          "Returning",
          "One-time",
          "Returning",
          "Returning",
          "Returning",
          "Returning",
          "Returning",
          "One-time",
          "Returning",
          "Returning",
          "One-time",
          "One-time",
          "Returning",
          "One-time",
          "One-time",
          "One-time",
          "One-time",
          "Returning",
          "Returning",
          "Returning",
          "Returning",
          "One-time",
          "One-time",
          "Returning",
          "Returning",
          "Returning",
          "Returning",
          "Returning",
          "Returning",
          "Returning",
          "Returning",
          "Returning",
          "Returning",
          "Returning",
          "Returning",
          "Returning",
          "Returning",
          "One-time",
          "Returning",
          "Returning",
          "One-time",
          "One-time",
          "Returning",
          "Returning",
          "Returning",
          "Returning",
          "Returning",
          "One-time",
          "Returning",
          "One-time",
          "Returning",
          "Returning",
          "Returning",
          "One-time",
          "Returning",
          "Returning",
          "One-time",
          "Returning",
          "Returning",
          "One-time",
          "Returning",
          "Returning",
          "One-time",
          "Returning",
          "Returning",
          "One-time",
          "One-time",
          "One-time",
          "Returning",
          "Returning",
          "Returning",
          "One-time",
          "Returning",
          "One-time",
          "Returning",
          "Returning",
          "Returning",
          "Returning",
          "Returning",
          "Returning",
          "Returning",
          "One-time",
          "One-time",
          "One-time",
          "Returning",
          "Returning",
          "One-time",
          "Returning",
          "Returning",
          "Returning",
          "One-time",
          "Returning",
          "Returning",
          "Returning",
          "One-time",
          "One-time",
          "One-time",
          "Returning",
          "Returning",
          "Returning",
          "Returning",
          "One-time",
          "Returning",
          "Returning",
          "One-time",
          "Returning",
          "One-time",
          "One-time",
          "One-time",
          "Returning",
          "Returning",
          "Returning",
          "Returning",
          "One-time",
          "One-time",
          "Returning",
          "Returning",
          "Returning",
          "One-time",
          "One-time",
          "One-time",
          "Returning",
          "Returning",
          "Returning",
          "Returning",
          "One-time",
          "One-time",
          "One-time",
          "Returning",
          "Returning",
          "One-time",
          "Returning",
          "Returning",
          "Returning",
          "Returning",
          "Returning",
          "Returning",
          "Returning",
          "Returning",
          "Returning",
          "One-time",
          "One-time",
          "Returning",
          "One-time",
          "Returning",
          "Returning",
          "One-time",
          "One-time",
          "Returning",
          "One-time",
          "Returning",
          "Returning",
          "One-time",
          "One-time",
          "Returning",
          "Returning",
          "Returning",
          "One-time",
          "One-time",
          "Returning",
          "Returning",
          "Returning",
          "Returning",
          "Returning",
          "Returning",
          "One-time",
          "Returning",
          "Returning",
          "Returning",
          "One-time",
          "One-time",
          "Returning",
          "One-time",
          "Returning",
          "Returning",
          "One-time",
          "Returning",
          "Returning",
          "Returning",
          "One-time",
          "Returning",
          "One-time",
          "One-time",
          "One-time",
          "Returning",
          "Returning",
          "Returning",
          "Returning",
          "One-time",
          "One-time",
          "One-time",
          "Returning",
          "Returning",
          "One-time",
          "One-time",
          "Returning",
          "Returning",
          "Returning",
          "One-time",
          "Returning",
          "Returning",
          "Returning",
          "Returning",
          "Returning",
          "Returning",
          "Returning",
          "Returning",
          "Returning",
          "Returning",
          "Returning",
          "One-time",
          "One-time",
          "Returning",
          "One-time",
          "Returning",
          "Returning",
          "Returning",
          "Returning",
          "Returning",
          "Returning",
          "Returning",
          "One-time",
          "One-time",
          "Returning",
          "Returning",
          "One-time",
          "Returning",
          "Returning",
          "Returning",
          "Returning",
          "One-time",
          "Returning",
          "One-time",
          "Returning",
          "Returning",
          "One-time",
          "Returning",
          "Returning",
          "Returning",
          "Returning",
          "Returning",
          "Returning",
          "One-time",
          "Returning",
          "Returning",
          "Returning",
          "One-time",
          "Returning",
          "One-time",
          "One-time",
          "One-time",
          "Returning",
          "One-time",
          "One-time",
          "Returning",
          "One-time",
          "Returning",
          "Returning",
          "Returning",
          "Returning",
          "Returning",
          "One-time",
          "One-time",
          "Returning",
          "Returning",
          "Returning",
          "One-time",
          "Returning",
          "Returning",
          "Returning",
          "Returning",
          "Returning",
          "One-time",
          "Returning",
          "One-time",
          "One-time",
          "One-time",
          "Returning",
          "Returning",
          "Returning",
          "Returning",
          "Returning",
          "Returning",
          "Returning",
          "One-time",
          "Returning",
          "One-time",
          "One-time",
          "One-time",
          "One-time",
          "Returning",
          "Returning",
          "One-time",
          "One-time",
          "Returning",
          "One-time",
          "Returning",
          "One-time",
          "Returning",
          "One-time",
          "One-time",
          "Returning",
          "Returning",
          "One-time",
          "One-time",
          "Returning",
          "One-time",
          "Returning",
          "Returning",
          "One-time",
          "Returning",
          "Returning",
          "Returning",
          "Returning",
          "Returning",
          "One-time",
          "Returning",
          "One-time",
          "One-time",
          "Returning",
          "One-time",
          "Returning",
          "Returning",
          "Returning",
          "Returning",
          "Returning",
          "Returning",
          "Returning",
          "Returning",
          "One-time",
          "Returning",
          "One-time",
          "One-time",
          "Returning",
          "Returning",
          "One-time",
          "Returning",
          "Returning",
          "One-time",
          "One-time",
          "Returning",
          "One-time",
          "Returning",
          "Returning",
          "Returning",
          "Returning",
          "One-time",
          "Returning",
          "Returning",
          "Returning",
          "Returning",
          "Returning",
          "One-time",
          "Returning",
          "Returning",
          "One-time",
          "Returning",
          "Returning",
          "Returning",
          "One-time",
          "Returning",
          "One-time",
          "Returning",
          "Returning",
          "Returning",
          "One-time",
          "Returning",
          "Returning",
          "Returning",
          "Returning",
          "Returning",
          "Returning",
          "Returning",
          "Returning",
          "Returning",
          "One-time",
          "Returning",
          "One-time",
          "Returning",
          "One-time",
          "One-time",
          "Returning",
          "Returning",
          "Returning",
          "One-time",
          "Returning",
          "Returning",
          "Returning",
          "Returning",
          "Returning",
          "Returning",
          "One-time",
          "Returning",
          "Returning",
          "Returning",
          "Returning",
          "One-time",
          "Returning",
          "Returning",
          "Returning",
          "Returning",
          "Returning",
          "Returning",
          "One-time",
          "Returning",
          "One-time",
          "Returning",
          "Returning",
          "Returning",
          "One-time",
          "One-time",
          "Returning",
          "One-time",
          "Returning",
          "Returning",
          "One-time",
          "One-time",
          "One-time",
          "Returning",
          "Returning",
          "One-time",
          "One-time",
          "Returning",
          "Returning",
          "One-time",
          "Returning",
          "Returning",
          "Returning",
          "Returning",
          "Returning",
          "One-time",
          "Returning",
          "Returning",
          "Returning",
          "Returning",
          "One-time",
          "Returning",
          "Returning",
          "Returning",
          "One-time",
          "One-time",
          "One-time",
          "Returning",
          "Returning",
          "Returning",
          "Returning",
          "Returning",
          "One-time",
          "Returning",
          "Returning",
          "Returning",
          "Returning",
          "Returning",
          "Returning",
          "Returning",
          "Returning",
          "Returning",
          "One-time",
          "Returning",
          "Returning",
          "Returning",
          "Returning",
          "Returning",
          "One-time",
          "One-time",
          "One-time",
          "Returning",
          "Returning",
          "Returning",
          "Returning",
          "Returning",
          "One-time",
          "Returning",
          "Returning",
          "One-time",
          "One-time",
          "One-time",
          "One-time",
          "Returning",
          "One-time",
          "Returning",
          "One-time",
          "Returning",
          "Returning",
          "One-time",
          "One-time",
          "One-time",
          "Returning",
          "Returning",
          "Returning",
          "One-time",
          "Returning",
          "Returning",
          "Returning",
          "Returning",
          "Returning",
          "Returning",
          "One-time",
          "Returning",
          "Returning",
          "Returning",
          "One-time",
          "Returning",
          "Returning",
          "One-time",
          "One-time",
          "Returning",
          "One-time",
          "Returning",
          "One-time",
          "Returning",
          "One-time",
          "Returning",
          "Returning",
          "Returning",
          "Returning",
          "One-time",
          "Returning",
          "Returning",
          "One-time",
          "One-time",
          "Returning",
          "Returning",
          "Returning",
          "One-time",
          "One-time",
          "Returning",
          "One-time",
          "Returning",
          "Returning",
          "One-time",
          "Returning",
          "Returning",
          "Returning",
          "Returning",
          "Returning",
          "Returning",
          "One-time",
          "One-time",
          "Returning",
          "One-time",
          "Returning",
          "Returning",
          "Returning",
          "One-time",
          "One-time",
          "Returning",
          "Returning",
          "Returning",
          "Returning",
          "One-time",
          "One-time",
          "Returning",
          "Returning",
          "One-time",
          "Returning",
          "Returning",
          "Returning",
          "One-time",
          "Returning",
          "Returning",
          "Returning",
          "One-time",
          "One-time",
          "Returning",
          "One-time",
          "Returning",
          "Returning",
          "One-time",
          "Returning",
          "One-time",
          "One-time",
          "Returning",
          "Returning",
          "One-time",
          "One-time",
          "Returning",
          "Returning",
          "Returning",
          "Returning",
          "Returning",
          "Returning",
          "Returning",
          "Returning",
          "One-time",
          "Returning",
          "Returning",
          "Returning",
          "One-time",
          "Returning",
          "One-time",
          "Returning",
          "Returning",
          "Returning",
          "Returning",
          "Returning",
          "One-time",
          "One-time",
          "One-time",
          "One-time",
          "Returning",
          "Returning",
          "Returning",
          "One-time",
          "Returning",
          "Returning",
          "One-time",
          "Returning",
          "Returning",
          "One-time",
          "One-time",
          "One-time",
          "Returning",
          "Returning",
          "Returning",
          "Returning",
          "Returning",
          "Returning",
          "Returning",
          "One-time",
          "One-time",
          "Returning",
          "One-time",
          "Returning",
          "Returning",
          "Returning",
          "Returning",
          "Returning",
          "Returning",
          "One-time",
          "One-time",
          "Returning",
          "One-time",
          "Returning",
          "Returning",
          "One-time",
          "One-time",
          "Returning",
          "Returning",
          "Returning",
          "One-time",
          "Returning",
          "One-time",
          "Returning",
          "Returning",
          "One-time",
          "One-time",
          "Returning",
          "One-time",
          "One-time",
          "One-time",
          "Returning",
          "One-time",
          "One-time",
          "Returning",
          "One-time",
          "Returning",
          "Returning",
          "Returning",
          "Returning",
          "Returning",
          "Returning",
          "Returning",
          "Returning",
          "Returning",
          "Returning",
          "Returning",
          "Returning",
          "One-time",
          "Returning",
          "Returning",
          "One-time",
          "Returning",
          "One-time",
          "Returning",
          "Returning",
          "One-time",
          "Returning",
          "One-time",
          "One-time",
          "One-time",
          "Returning",
          "One-time",
          "One-time",
          "Returning",
          "One-time",
          "One-time",
          "One-time",
          "One-time",
          "Returning",
          "One-time",
          "One-time",
          "One-time",
          "One-time",
          "One-time",
          "One-time",
          "One-time",
          "One-time",
          "Returning",
          "Returning",
          "One-time",
          "Returning",
          "One-time",
          "Returning",
          "One-time",
          "One-time",
          "One-time",
          "Returning",
          "One-time",
          "Returning",
          "Returning",
          "Returning",
          "One-time",
          "Returning",
          "One-time",
          "Returning",
          "Returning",
          "One-time",
          "One-time",
          "Returning",
          "One-time",
          "Returning",
          "Returning",
          "One-time",
          "Returning",
          "One-time",
          "Returning",
          "Returning",
          "Returning",
          "Returning",
          "One-time",
          "Returning",
          "Returning",
          "Returning",
          "Returning",
          "One-time",
          "Returning",
          "Returning",
          "One-time",
          "Returning",
          "Returning",
          "Returning",
          "One-time",
          "Returning",
          "Returning",
          "Returning",
          "Returning",
          "Returning",
          "One-time",
          "Returning",
          "One-time",
          "One-time",
          "Returning",
          "Returning",
          "One-time",
          "Returning",
          "Returning",
          "Returning",
          "Returning",
          "Returning",
          "Returning",
          "Returning",
          "Returning",
          "Returning",
          "One-time",
          "One-time",
          "One-time",
          "Returning",
          "Returning",
          "Returning",
          "Returning",
          "Returning",
          "One-time",
          "Returning",
          "Returning",
          "Returning",
          "Returning",
          "Returning",
          "One-time",
          "One-time",
          "One-time",
          "One-time",
          "Returning",
          "Returning",
          "Returning",
          "Returning",
          "Returning",
          "Returning",
          "Returning",
          "One-time",
          "Returning",
          "Returning",
          "Returning",
          "Returning",
          "Returning",
          "One-time",
          "Returning",
          "One-time",
          "One-time",
          "Returning",
          "Returning",
          "Returning",
          "One-time",
          "Returning",
          "Returning",
          "One-time",
          "One-time",
          "One-time",
          "Returning",
          "Returning",
          "Returning",
          "One-time",
          "One-time",
          "Returning",
          "Returning",
          "One-time",
          "Returning",
          "Returning",
          "Returning",
          "Returning",
          "Returning",
          "Returning",
          "One-time",
          "Returning",
          "Returning",
          "Returning",
          "Returning",
          "Returning",
          "Returning",
          "Returning",
          "Returning",
          "Returning",
          "One-time",
          "Returning",
          "Returning",
          "Returning",
          "Returning",
          "One-time",
          "One-time",
          "Returning",
          "Returning",
          "Returning",
          "Returning",
          "Returning",
          "One-time",
          "Returning",
          "One-time",
          "Returning",
          "One-time",
          "Returning",
          "Returning",
          "Returning",
          "Returning",
          "Returning",
          "One-time",
          "One-time",
          "One-time",
          "One-time",
          "Returning",
          "Returning",
          "Returning",
          "Returning",
          "Returning",
          "Returning",
          "One-time",
          "Returning",
          "One-time",
          "Returning",
          "One-time",
          "Returning",
          "One-time",
          "One-time",
          "Returning",
          "One-time",
          "Returning",
          "Returning",
          "Returning",
          "One-time",
          "Returning",
          "One-time",
          "One-time",
          "Returning",
          "One-time",
          "Returning",
          "Returning",
          "Returning",
          "Returning",
          "Returning",
          "Returning",
          "One-time",
          "Returning",
          "Returning",
          "One-time",
          "One-time",
          "One-time",
          "Returning",
          "Returning",
          "One-time",
          "Returning",
          "Returning",
          "Returning",
          "Returning",
          "Returning",
          "Returning",
          "Returning",
          "Returning",
          "Returning",
          "Returning",
          "Returning",
          "Returning",
          "One-time",
          "Returning",
          "One-time",
          "Returning",
          "Returning",
          "One-time",
          "Returning",
          "Returning",
          "Returning",
          "One-time",
          "Returning",
          "Returning",
          "One-time",
          "One-time",
          "Returning",
          "One-time",
          "One-time",
          "One-time",
          "Returning",
          "Returning",
          "Returning",
          "One-time",
          "One-time",
          "Returning",
          "One-time",
          "Returning",
          "Returning",
          "One-time",
          "Returning",
          "One-time",
          "Returning",
          "One-time",
          "Returning",
          "One-time",
          "Returning",
          "One-time",
          "Returning",
          "Returning",
          "Returning",
          "Returning",
          "One-time",
          "Returning",
          "One-time",
          "Returning",
          "Returning",
          "Returning",
          "Returning",
          "Returning",
          "Returning",
          "One-time",
          "Returning",
          "Returning",
          "One-time",
          "One-time",
          "One-time",
          "Returning",
          "Returning",
          "Returning",
          "Returning",
          "One-time",
          "One-time",
          "Returning",
          "Returning",
          "One-time",
          "Returning",
          "One-time",
          "Returning",
          "Returning",
          "Returning",
          "Returning",
          "Returning",
          "Returning",
          "Returning",
          "One-time",
          "One-time",
          "Returning",
          "Returning",
          "Returning",
          "Returning",
          "Returning",
          "One-time",
          "Returning",
          "One-time",
          "Returning",
          "One-time",
          "Returning",
          "Returning",
          "One-time",
          "Returning",
          "One-time",
          "Returning",
          "Returning",
          "Returning",
          "Returning",
          "One-time",
          "One-time",
          "Returning",
          "One-time",
          "Returning",
          "Returning",
          "One-time",
          "One-time",
          "Returning",
          "One-time",
          "Returning",
          "Returning",
          "Returning",
          "Returning",
          "Returning",
          "Returning",
          "Returning",
          "Returning",
          "Returning",
          "Returning",
          "Returning",
          "Returning",
          "Returning",
          "One-time",
          "Returning",
          "One-time",
          "Returning",
          "One-time",
          "One-time",
          "Returning",
          "Returning",
          "Returning",
          "One-time",
          "Returning",
          "One-time",
          "One-time",
          "Returning",
          "Returning",
          "Returning",
          "One-time",
          "Returning",
          "One-time",
          "Returning",
          "Returning",
          "One-time",
          "One-time",
          "Returning",
          "Returning",
          "One-time",
          "Returning",
          "One-time",
          "Returning",
          "Returning",
          "Returning",
          "Returning",
          "Returning",
          "Returning",
          "One-time",
          "Returning",
          "One-time",
          "One-time",
          "One-time",
          "Returning",
          "Returning",
          "Returning",
          "Returning",
          "Returning",
          "Returning",
          "One-time",
          "One-time",
          "Returning",
          "One-time",
          "Returning",
          "Returning",
          "One-time",
          "Returning",
          "Returning",
          "One-time",
          "One-time",
          "Returning",
          "Returning",
          "Returning",
          "Returning",
          "Returning",
          "Returning",
          "Returning",
          "Returning",
          "Returning",
          "Returning",
          "One-time",
          "One-time",
          "Returning",
          "Returning",
          "One-time",
          "One-time",
          "Returning",
          "Returning",
          "Returning",
          "Returning",
          "One-time",
          "Returning",
          "One-time",
          "One-time",
          "One-time",
          "One-time",
          "Returning",
          "Returning",
          "Returning",
          "Returning",
          "One-time",
          "One-time",
          "Returning",
          "Returning",
          "Returning",
          "Returning",
          "Returning",
          "Returning",
          "Returning",
          "Returning",
          "Returning",
          "Returning",
          "Returning",
          "Returning",
          "One-time",
          "Returning",
          "Returning",
          "Returning",
          "One-time",
          "One-time",
          "Returning",
          "One-time",
          "Returning",
          "One-time",
          "One-time",
          "Returning",
          "Returning",
          "Returning",
          "Returning",
          "One-time",
          "Returning",
          "Returning",
          "One-time",
          "Returning",
          "One-time",
          "Returning",
          "Returning",
          "Returning",
          "Returning",
          "One-time",
          "Returning",
          "Returning",
          "Returning",
          "Returning",
          "Returning",
          "Returning",
          "One-time",
          "Returning",
          "One-time",
          "One-time",
          "Returning",
          "Returning",
          "Returning",
          "Returning",
          "One-time",
          "Returning",
          "Returning",
          "One-time",
          "Returning",
          "Returning",
          "Returning",
          "Returning",
          "Returning",
          "Returning",
          "One-time",
          "Returning",
          "Returning",
          "One-time",
          "Returning",
          "One-time",
          "Returning",
          "Returning",
          "One-time",
          "Returning",
          "One-time",
          "Returning",
          "Returning",
          "Returning",
          "One-time",
          "Returning",
          "One-time",
          "One-time",
          "Returning",
          "Returning",
          "One-time",
          "Returning",
          "Returning",
          "Returning",
          "One-time",
          "Returning",
          "One-time",
          "Returning",
          "One-time",
          "Returning",
          "One-time",
          "Returning",
          "Returning",
          "One-time",
          "One-time",
          "Returning",
          "One-time",
          "Returning",
          "Returning",
          "One-time",
          "Returning",
          "One-time",
          "One-time",
          "Returning",
          "One-time",
          "Returning",
          "One-time",
          "Returning",
          "One-time",
          "Returning",
          "Returning",
          "Returning",
          "One-time",
          "Returning",
          "Returning",
          "One-time",
          "Returning",
          "Returning",
          "Returning",
          "Returning",
          "Returning",
          "Returning",
          "One-time",
          "Returning",
          "One-time",
          "Returning",
          "Returning",
          "Returning",
          "Returning",
          "Returning",
          "One-time",
          "Returning",
          "Returning",
          "Returning",
          "Returning",
          "One-time",
          "Returning",
          "Returning",
          "One-time",
          "One-time",
          "Returning",
          "Returning",
          "Returning",
          "One-time",
          "One-time",
          "Returning",
          "Returning",
          "Returning",
          "One-time",
          "Returning",
          "Returning",
          "One-time",
          "Returning",
          "Returning",
          "Returning",
          "Returning",
          "Returning",
          "One-time",
          "Returning",
          "One-time",
          "Returning",
          "One-time",
          "Returning",
          "Returning",
          "Returning",
          "Returning",
          "Returning",
          "Returning",
          "One-time",
          "One-time",
          "Returning",
          "Returning",
          "Returning",
          "Returning",
          "Returning",
          "Returning",
          "One-time",
          "Returning",
          "One-time",
          "Returning",
          "One-time",
          "Returning",
          "One-time",
          "One-time",
          "Returning",
          "Returning",
          "Returning",
          "One-time",
          "Returning",
          "Returning",
          "Returning",
          "Returning",
          "One-time",
          "One-time",
          "Returning",
          "Returning",
          "One-time",
          "Returning",
          "Returning",
          "Returning",
          "Returning",
          "Returning",
          "Returning",
          "Returning",
          "Returning",
          "Returning",
          "Returning",
          "Returning",
          "One-time",
          "One-time",
          "Returning",
          "Returning",
          "One-time",
          "Returning",
          "Returning",
          "Returning",
          "Returning",
          "One-time",
          "One-time",
          "Returning",
          "Returning",
          "Returning",
          "Returning",
          "Returning",
          "One-time",
          "Returning",
          "Returning",
          "Returning",
          "Returning",
          "Returning",
          "One-time",
          "One-time",
          "Returning",
          "Returning",
          "Returning",
          "Returning",
          "One-time",
          "Returning",
          "Returning",
          "Returning",
          "Returning",
          "Returning",
          "One-time",
          "Returning",
          "Returning",
          "Returning",
          "Returning",
          "Returning",
          "One-time",
          "Returning",
          "Returning",
          "Returning",
          "One-time",
          "One-time",
          "One-time",
          "Returning",
          "Returning",
          "Returning",
          "Returning",
          "One-time",
          "Returning",
          "One-time",
          "Returning",
          "One-time",
          "Returning",
          "Returning",
          "Returning",
          "One-time",
          "One-time",
          "Returning",
          "Returning",
          "Returning",
          "One-time",
          "Returning",
          "Returning",
          "Returning",
          "Returning",
          "One-time",
          "One-time",
          "Returning",
          "Returning",
          "Returning",
          "One-time",
          "Returning",
          "One-time",
          "One-time",
          "One-time",
          "One-time",
          "Returning",
          "One-time",
          "Returning",
          "One-time",
          "Returning",
          "One-time",
          "Returning",
          "Returning",
          "One-time",
          "Returning",
          "Returning",
          "One-time",
          "One-time",
          "One-time",
          "One-time",
          "Returning",
          "Returning",
          "One-time",
          "One-time",
          "Returning",
          "Returning",
          "One-time",
          "Returning",
          "Returning",
          "Returning",
          "Returning",
          "One-time",
          "Returning",
          "Returning",
          "Returning",
          "One-time",
          "Returning",
          "Returning",
          "Returning",
          "One-time",
          "Returning",
          "Returning",
          "Returning",
          "Returning",
          "One-time",
          "Returning",
          "One-time",
          "Returning",
          "Returning",
          "Returning",
          "Returning",
          "Returning",
          "One-time",
          "Returning",
          "Returning",
          "One-time",
          "One-time",
          "Returning",
          "Returning",
          "Returning",
          "One-time",
          "Returning",
          "Returning",
          "One-time",
          "One-time",
          "One-time",
          "One-time",
          "Returning",
          "Returning",
          "Returning",
          "Returning",
          "Returning",
          "Returning",
          "Returning",
          "Returning",
          "Returning",
          "Returning",
          "Returning",
          "One-time",
          "Returning",
          "One-time",
          "One-time",
          "Returning",
          "Returning",
          "Returning",
          "Returning",
          "Returning",
          "Returning",
          "Returning",
          "Returning",
          "Returning",
          "Returning",
          "One-time",
          "Returning",
          "One-time",
          "Returning",
          "Returning",
          "One-time",
          "Returning",
          "Returning",
          "One-time",
          "One-time",
          "One-time",
          "Returning",
          "One-time",
          "One-time",
          "Returning",
          "Returning",
          "One-time",
          "Returning",
          "Returning",
          "One-time",
          "Returning",
          "Returning",
          "Returning",
          "Returning",
          "Returning",
          "Returning",
          "Returning",
          "Returning",
          "Returning",
          "Returning",
          "Returning",
          "Returning",
          "Returning",
          "Returning",
          "Returning",
          "Returning",
          "Returning",
          "One-time",
          "Returning",
          "Returning",
          "One-time",
          "Returning",
          "Returning",
          "Returning",
          "One-time",
          "Returning",
          "Returning",
          "Returning",
          "Returning",
          "Returning",
          "Returning",
          "One-time",
          "One-time",
          "Returning",
          "Returning",
          "Returning",
          "Returning",
          "One-time",
          "Returning",
          "Returning",
          "Returning",
          "Returning",
          "Returning",
          "One-time",
          "Returning",
          "Returning",
          "One-time",
          "Returning",
          "Returning",
          "Returning",
          "One-time",
          "Returning",
          "Returning",
          "Returning",
          "Returning",
          "One-time",
          "Returning",
          "One-time",
          "Returning",
          "Returning",
          "Returning",
          "One-time",
          "Returning",
          "One-time",
          "One-time",
          "One-time",
          "Returning",
          "Returning",
          "One-time",
          "One-time",
          "Returning",
          "One-time",
          "Returning",
          "Returning",
          "Returning",
          "Returning",
          "Returning",
          "Returning",
          "One-time",
          "One-time",
          "One-time",
          "One-time",
          "Returning",
          "Returning",
          "Returning",
          "Returning",
          "Returning",
          "Returning",
          "One-time",
          "Returning",
          "Returning",
          "One-time",
          "Returning",
          "Returning",
          "Returning",
          "Returning",
          "Returning",
          "Returning",
          "Returning",
          "One-time",
          "One-time",
          "Returning",
          "One-time",
          "Returning",
          "Returning",
          "One-time",
          "One-time",
          "Returning",
          "Returning",
          "Returning",
          "Returning",
          "One-time",
          "Returning",
          "Returning",
          "One-time",
          "Returning",
          "Returning",
          "Returning",
          "Returning",
          "Returning",
          "Returning",
          "Returning",
          "One-time",
          "Returning",
          "Returning",
          "Returning",
          "One-time",
          "Returning",
          "Returning",
          "Returning",
          "Returning",
          "Returning",
          "One-time",
          "Returning",
          "Returning",
          "Returning",
          "Returning",
          "Returning",
          "One-time",
          "Returning",
          "One-time",
          "Returning",
          "Returning",
          "Returning",
          "One-time",
          "Returning",
          "Returning",
          "Returning",
          "One-time",
          "Returning",
          "Returning",
          "Returning",
          "One-time",
          "Returning",
          "One-time",
          "Returning",
          "Returning",
          "Returning",
          "Returning",
          "Returning",
          "Returning",
          "One-time",
          "Returning",
          "Returning",
          "Returning",
          "Returning",
          "One-time",
          "Returning",
          "One-time",
          "One-time",
          "One-time",
          "Returning",
          "Returning",
          "Returning",
          "Returning",
          "Returning",
          "Returning",
          "Returning",
          "Returning",
          "Returning",
          "Returning",
          "Returning",
          "Returning",
          "One-time",
          "Returning",
          "One-time",
          "One-time",
          "Returning",
          "Returning",
          "One-time",
          "One-time",
          "Returning",
          "Returning",
          "One-time",
          "Returning",
          "One-time",
          "One-time",
          "Returning",
          "Returning",
          "Returning",
          "Returning",
          "Returning",
          "One-time",
          "Returning",
          "Returning",
          "Returning",
          "Returning",
          "Returning",
          "One-time",
          "Returning",
          "Returning",
          "Returning",
          "One-time",
          "Returning",
          "One-time",
          "One-time",
          "Returning",
          "One-time",
          "Returning",
          "Returning",
          "One-time",
          "Returning",
          "One-time",
          "Returning",
          "One-time",
          "Returning",
          "One-time",
          "Returning",
          "Returning",
          "Returning",
          "Returning",
          "One-time",
          "Returning",
          "Returning",
          "Returning",
          "Returning",
          "One-time",
          "Returning",
          "Returning",
          "Returning",
          "Returning",
          "Returning",
          "One-time",
          "Returning",
          "Returning",
          "Returning",
          "One-time",
          "Returning",
          "Returning",
          "Returning",
          "One-time",
          "Returning",
          "One-time",
          "Returning",
          "Returning",
          "Returning",
          "Returning",
          "Returning",
          "Returning",
          "Returning",
          "Returning",
          "One-time",
          "One-time",
          "Returning",
          "One-time",
          "Returning",
          "Returning",
          "Returning",
          "Returning",
          "Returning",
          "One-time",
          "Returning",
          "One-time",
          "Returning",
          "Returning",
          "Returning",
          "One-time",
          "Returning",
          "Returning",
          "One-time",
          "One-time",
          "One-time",
          "One-time",
          "One-time",
          "One-time",
          "Returning",
          "Returning",
          "One-time",
          "Returning",
          "Returning",
          "Returning",
          "Returning",
          "Returning",
          "One-time",
          "Returning",
          "Returning",
          "Returning",
          "Returning",
          "One-time",
          "Returning",
          "Returning",
          "Returning",
          "Returning",
          "Returning",
          "Returning",
          "Returning",
          "Returning",
          "Returning",
          "One-time",
          "One-time",
          "One-time",
          "Returning",
          "Returning",
          "One-time",
          "Returning",
          "One-time",
          "Returning",
          "Returning",
          "Returning",
          "One-time",
          "Returning",
          "Returning",
          "One-time",
          "One-time",
          "Returning",
          "One-time",
          "One-time",
          "One-time",
          "Returning",
          "Returning",
          "Returning",
          "Returning",
          "One-time",
          "Returning",
          "One-time",
          "Returning",
          "One-time",
          "One-time",
          "One-time",
          "Returning",
          "Returning",
          "One-time",
          "Returning",
          "One-time",
          "One-time",
          "Returning",
          "Returning",
          "One-time",
          "Returning",
          "Returning",
          "Returning",
          "One-time",
          "Returning",
          "Returning",
          "Returning",
          "One-time",
          "Returning",
          "One-time",
          "Returning",
          "One-time",
          "One-time",
          "Returning",
          "One-time",
          "Returning",
          "Returning",
          "One-time",
          "One-time",
          "Returning",
          "One-time",
          "Returning",
          "Returning",
          "Returning",
          "Returning",
          "One-time",
          "Returning",
          "Returning",
          "Returning",
          "Returning",
          "Returning",
          "Returning",
          "Returning",
          "Returning",
          "One-time",
          "Returning",
          "Returning",
          "Returning",
          "One-time",
          "One-time",
          "One-time",
          "Returning",
          "Returning",
          "Returning",
          "One-time",
          "Returning",
          "One-time",
          "Returning",
          "Returning",
          "One-time",
          "Returning",
          "Returning",
          "Returning",
          "Returning",
          "Returning",
          "Returning",
          "Returning",
          "Returning",
          "One-time",
          "Returning",
          "One-time",
          "Returning",
          "Returning",
          "One-time",
          "One-time",
          "Returning",
          "Returning",
          "One-time",
          "One-time",
          "One-time",
          "Returning",
          "Returning",
          "Returning",
          "One-time",
          "One-time",
          "Returning",
          "Returning",
          "One-time",
          "One-time",
          "Returning",
          "Returning",
          "Returning",
          "One-time",
          "One-time",
          "Returning",
          "One-time",
          "Returning",
          "Returning",
          "Returning",
          "Returning",
          "Returning",
          "Returning",
          "Returning",
          "Returning",
          "One-time",
          "Returning",
          "Returning",
          "Returning",
          "Returning",
          "One-time",
          "Returning",
          "Returning",
          "One-time",
          "One-time",
          "One-time",
          "Returning",
          "Returning",
          "Returning",
          "Returning",
          "Returning",
          "One-time",
          "Returning",
          "Returning",
          "One-time",
          "Returning",
          "Returning",
          "Returning",
          "One-time",
          "Returning",
          "Returning",
          "Returning",
          "One-time",
          "One-time",
          "Returning",
          "Returning",
          "Returning",
          "One-time",
          "One-time",
          "One-time",
          "Returning",
          "Returning",
          "One-time",
          "One-time",
          "Returning",
          "Returning",
          "One-time",
          "Returning",
          "One-time",
          "Returning",
          "Returning",
          "One-time",
          "One-time",
          "One-time",
          "One-time",
          "Returning",
          "One-time",
          "One-time",
          "One-time",
          "Returning",
          "One-time",
          "Returning",
          "Returning",
          "Returning",
          "One-time",
          "Returning",
          "Returning",
          "Returning",
          "Returning",
          "One-time",
          "Returning",
          "One-time",
          "Returning",
          "Returning",
          "Returning",
          "Returning",
          "Returning",
          "One-time",
          "Returning",
          "Returning",
          "Returning",
          "One-time",
          "Returning",
          "One-time",
          "Returning",
          "Returning",
          "Returning",
          "One-time",
          "Returning",
          "One-time",
          "Returning",
          "One-time",
          "One-time",
          "Returning",
          "Returning",
          "One-time",
          "One-time",
          "Returning",
          "Returning",
          "Returning",
          "Returning",
          "One-time",
          "Returning",
          "One-time",
          "Returning",
          "Returning",
          "Returning",
          "Returning",
          "Returning",
          "One-time",
          "Returning",
          "Returning",
          "Returning",
          "One-time",
          "Returning",
          "Returning",
          "Returning",
          "Returning",
          "One-time",
          "One-time",
          "One-time",
          "One-time",
          "Returning",
          "Returning",
          "One-time",
          "One-time",
          "One-time",
          "One-time",
          "Returning",
          "One-time",
          "Returning",
          "One-time",
          "Returning",
          "Returning",
          "Returning",
          "Returning",
          "One-time",
          "One-time",
          "One-time",
          "One-time",
          "One-time",
          "Returning",
          "One-time",
          "Returning",
          "Returning",
          "Returning",
          "Returning",
          "Returning",
          "One-time",
          "Returning",
          "Returning",
          "Returning",
          "Returning",
          "One-time",
          "Returning",
          "One-time",
          "Returning",
          "Returning",
          "One-time",
          "One-time",
          "Returning",
          "Returning",
          "One-time",
          "One-time",
          "Returning",
          "One-time",
          "One-time",
          "One-time",
          "One-time",
          "Returning",
          "One-time",
          "One-time",
          "One-time",
          "One-time",
          "Returning",
          "Returning",
          "Returning",
          "One-time",
          "Returning",
          "One-time",
          "Returning",
          "One-time",
          "One-time",
          "One-time",
          "Returning",
          "One-time",
          "One-time",
          "One-time",
          "One-time",
          "Returning",
          "One-time",
          "Returning",
          "Returning",
          "Returning",
          "Returning",
          "Returning",
          "One-time",
          "One-time",
          "One-time",
          "Returning",
          "Returning",
          "Returning",
          "Returning",
          "One-time",
          "Returning",
          "One-time",
          "Returning",
          "One-time",
          "Returning",
          "Returning",
          "Returning",
          "Returning",
          "Returning",
          "Returning",
          "One-time",
          "One-time",
          "One-time",
          "One-time",
          "Returning",
          "Returning",
          "Returning",
          "One-time",
          "One-time",
          "One-time",
          "Returning",
          "Returning",
          "Returning",
          "Returning",
          "One-time",
          "Returning",
          "Returning",
          "One-time",
          "Returning",
          "Returning",
          "One-time",
          "Returning",
          "One-time",
          "Returning",
          "One-time",
          "One-time",
          "Returning",
          "Returning",
          "One-time",
          "Returning",
          "Returning",
          "Returning",
          "One-time",
          "Returning",
          "One-time",
          "Returning",
          "Returning",
          "One-time",
          "Returning",
          "One-time",
          "One-time",
          "Returning",
          "One-time",
          "Returning",
          "Returning",
          "One-time",
          "One-time",
          "One-time",
          "Returning",
          "One-time",
          "Returning",
          "Returning",
          "One-time",
          "Returning",
          "One-time",
          "One-time",
          "One-time",
          "Returning",
          "One-time",
          "One-time",
          "Returning",
          "One-time",
          "Returning",
          "Returning",
          "Returning",
          "One-time",
          "One-time",
          "Returning",
          "One-time",
          "Returning",
          "One-time",
          "Returning",
          "Returning",
          "Returning",
          "Returning",
          "One-time",
          "Returning",
          "Returning",
          "Returning",
          "Returning",
          "Returning",
          "Returning",
          "Returning",
          "Returning",
          "Returning",
          "One-time",
          "One-time",
          "Returning",
          "Returning",
          "One-time",
          "Returning",
          "One-time",
          "Returning",
          "Returning",
          "Returning",
          "Returning",
          "Returning",
          "One-time",
          "Returning",
          "One-time",
          "Returning",
          "Returning",
          "One-time",
          "One-time",
          "Returning",
          "Returning",
          "Returning",
          "One-time",
          "Returning",
          "Returning",
          "Returning",
          "Returning",
          "Returning",
          "Returning",
          "One-time",
          "One-time",
          "One-time",
          "One-time",
          "One-time",
          "Returning",
          "Returning",
          "Returning",
          "Returning",
          "Returning",
          "One-time",
          "One-time",
          "One-time",
          "One-time",
          "Returning",
          "One-time",
          "One-time",
          "Returning",
          "One-time",
          "Returning",
          "Returning",
          "One-time",
          "Returning",
          "Returning",
          "Returning",
          "Returning",
          "Returning",
          "Returning",
          "Returning",
          "One-time",
          "Returning",
          "One-time",
          "Returning",
          "Returning",
          "Returning",
          "Returning",
          "One-time",
          "Returning",
          "Returning",
          "One-time",
          "One-time",
          "Returning",
          "Returning",
          "One-time",
          "One-time",
          "Returning",
          "Returning",
          "Returning",
          "One-time",
          "One-time",
          "Returning",
          "Returning",
          "One-time",
          "Returning",
          "One-time",
          "One-time",
          "Returning",
          "Returning",
          "Returning",
          "Returning",
          "One-time",
          "Returning",
          "Returning",
          "Returning",
          "One-time",
          "Returning",
          "Returning",
          "Returning",
          "Returning",
          "Returning",
          "Returning",
          "One-time",
          "Returning",
          "One-time",
          "One-time",
          "Returning",
          "Returning",
          "Returning",
          "Returning",
          "One-time",
          "Returning",
          "Returning",
          "Returning",
          "Returning",
          "One-time",
          "Returning",
          "Returning",
          "One-time",
          "Returning",
          "One-time",
          "Returning",
          "One-time",
          "Returning",
          "Returning",
          "One-time",
          "One-time",
          "Returning",
          "One-time",
          "One-time",
          "Returning",
          "One-time",
          "Returning",
          "Returning",
          "Returning",
          "Returning",
          "Returning",
          "One-time",
          "One-time",
          "Returning",
          "Returning",
          "Returning",
          "One-time",
          "Returning",
          "Returning",
          "Returning",
          "One-time",
          "One-time",
          "Returning",
          "Returning",
          "Returning",
          "One-time",
          "Returning",
          "Returning",
          "One-time",
          "Returning",
          "One-time",
          "Returning",
          "Returning",
          "Returning",
          "One-time",
          "Returning",
          "Returning",
          "Returning",
          "Returning",
          "One-time",
          "Returning",
          "One-time",
          "One-time",
          "Returning",
          "One-time",
          "Returning",
          "One-time",
          "Returning",
          "One-time",
          "Returning",
          "Returning",
          "One-time",
          "Returning",
          "Returning",
          "Returning",
          "One-time",
          "One-time",
          "Returning",
          "One-time",
          "Returning",
          "One-time",
          "Returning",
          "One-time",
          "Returning",
          "Returning",
          "Returning",
          "One-time",
          "Returning",
          "Returning",
          "Returning",
          "Returning",
          "One-time",
          "Returning",
          "Returning",
          "Returning",
          "Returning",
          "One-time",
          "Returning",
          "Returning",
          "One-time",
          "One-time",
          "One-time",
          "One-time",
          "Returning",
          "Returning",
          "Returning",
          "Returning",
          "One-time",
          "Returning",
          "Returning",
          "Returning",
          "One-time",
          "One-time",
          "Returning",
          "Returning",
          "One-time",
          "Returning",
          "Returning",
          "Returning",
          "Returning",
          "Returning",
          "One-time",
          "One-time",
          "Returning",
          "Returning",
          "Returning",
          "Returning",
          "Returning",
          "Returning",
          "Returning",
          "Returning",
          "Returning",
          "Returning",
          "Returning",
          "Returning",
          "Returning",
          "One-time",
          "Returning",
          "Returning",
          "One-time",
          "One-time",
          "Returning",
          "Returning",
          "Returning",
          "One-time",
          "Returning",
          "One-time",
          "Returning",
          "Returning",
          "One-time",
          "One-time",
          "Returning",
          "Returning",
          "Returning",
          "Returning",
          "One-time",
          "One-time",
          "Returning",
          "Returning",
          "Returning",
          "Returning",
          "One-time",
          "Returning",
          "Returning",
          "Returning",
          "One-time",
          "Returning",
          "Returning",
          "Returning",
          "Returning",
          "Returning",
          "Returning",
          "Returning",
          "One-time",
          "Returning",
          "Returning",
          "One-time",
          "Returning",
          "Returning",
          "Returning",
          "One-time",
          "Returning",
          "Returning",
          "Returning",
          "Returning",
          "One-time",
          "One-time",
          "Returning",
          "One-time",
          "Returning",
          "One-time",
          "Returning",
          "Returning",
          "One-time",
          "One-time",
          "Returning",
          "Returning",
          "One-time",
          "Returning",
          "Returning",
          "One-time",
          "Returning",
          "Returning",
          "Returning",
          "One-time",
          "Returning",
          "Returning",
          "Returning",
          "One-time",
          "One-time",
          "One-time",
          "One-time",
          "One-time",
          "Returning",
          "Returning",
          "Returning",
          "One-time",
          "Returning",
          "Returning",
          "One-time",
          "One-time",
          "One-time",
          "One-time",
          "One-time",
          "Returning",
          "Returning",
          "Returning",
          "Returning",
          "Returning",
          "Returning",
          "Returning",
          "One-time",
          "One-time",
          "Returning",
          "Returning",
          "Returning",
          "Returning",
          "One-time",
          "Returning",
          "One-time",
          "Returning",
          "One-time",
          "Returning",
          "Returning",
          "One-time",
          "Returning",
          "Returning",
          "Returning",
          "Returning",
          "Returning",
          "One-time",
          "Returning",
          "One-time",
          "Returning",
          "One-time",
          "Returning",
          "One-time",
          "Returning",
          "Returning",
          "Returning",
          "Returning",
          "Returning",
          "One-time",
          "Returning",
          "Returning",
          "Returning",
          "Returning",
          "Returning",
          "Returning",
          "Returning",
          "Returning",
          "Returning",
          "Returning",
          "One-time",
          "Returning",
          "Returning",
          "Returning",
          "One-time",
          "Returning",
          "One-time",
          "One-time",
          "One-time",
          "Returning",
          "Returning",
          "One-time",
          "Returning",
          "Returning",
          "Returning",
          "Returning",
          "Returning",
          "Returning",
          "Returning",
          "Returning",
          "Returning",
          "Returning",
          "Returning",
          "Returning",
          "Returning",
          "One-time",
          "One-time",
          "Returning",
          "One-time",
          "One-time",
          "One-time",
          "Returning",
          "Returning",
          "Returning",
          "One-time",
          "One-time",
          "Returning",
          "Returning",
          "One-time",
          "One-time",
          "One-time",
          "Returning",
          "One-time",
          "Returning",
          "Returning",
          "Returning",
          "Returning",
          "One-time",
          "Returning",
          "Returning",
          "Returning",
          "Returning",
          "One-time",
          "Returning",
          "One-time",
          "One-time",
          "Returning",
          "Returning",
          "One-time",
          "Returning",
          "Returning",
          "One-time",
          "One-time",
          "One-time",
          "Returning",
          "One-time",
          "Returning",
          "Returning",
          "Returning",
          "One-time",
          "One-time",
          "Returning",
          "One-time",
          "One-time",
          "Returning",
          "Returning",
          "Returning",
          "Returning",
          "One-time",
          "One-time",
          "One-time",
          "Returning",
          "One-time",
          "Returning",
          "Returning",
          "Returning",
          "Returning",
          "One-time",
          "Returning",
          "Returning",
          "Returning",
          "One-time",
          "One-time",
          "Returning",
          "One-time",
          "Returning",
          "Returning",
          "One-time",
          "One-time",
          "Returning",
          "Returning",
          "One-time",
          "Returning",
          "Returning",
          "Returning",
          "One-time",
          "Returning",
          "Returning",
          "One-time",
          "Returning",
          "Returning",
          "Returning",
          "Returning",
          "Returning",
          "One-time",
          "Returning",
          "Returning",
          "Returning",
          "Returning",
          "One-time",
          "One-time",
          "One-time",
          "Returning",
          "One-time",
          "Returning",
          "One-time",
          "Returning",
          "Returning",
          "Returning",
          "Returning",
          "Returning",
          "Returning",
          "One-time",
          "Returning",
          "One-time",
          "One-time",
          "Returning",
          "Returning",
          "One-time",
          "Returning",
          "One-time",
          "Returning",
          "Returning",
          "One-time",
          "Returning",
          "Returning",
          "Returning",
          "One-time",
          "Returning",
          "One-time",
          "Returning",
          "One-time",
          "One-time",
          "Returning",
          "Returning",
          "Returning",
          "One-time",
          "Returning",
          "Returning",
          "Returning",
          "One-time",
          "Returning",
          "Returning",
          "Returning",
          "Returning",
          "Returning",
          "One-time",
          "Returning",
          "Returning",
          "Returning",
          "Returning",
          "Returning",
          "Returning",
          "Returning",
          "One-time",
          "One-time",
          "Returning",
          "Returning",
          "Returning",
          "Returning",
          "One-time",
          "One-time",
          "Returning",
          "One-time",
          "Returning",
          "Returning",
          "Returning",
          "Returning",
          "One-time",
          "Returning",
          "One-time",
          "One-time",
          "One-time",
          "One-time",
          "One-time",
          "Returning",
          "One-time",
          "One-time",
          "Returning",
          "Returning",
          "One-time",
          "One-time",
          "Returning",
          "Returning",
          "One-time",
          "Returning",
          "One-time",
          "Returning",
          "One-time",
          "Returning",
          "Returning",
          "Returning",
          "Returning",
          "Returning",
          "One-time",
          "Returning",
          "Returning",
          "One-time",
          "One-time",
          "Returning",
          "Returning",
          "Returning",
          "One-time",
          "Returning",
          "Returning",
          "Returning",
          "Returning",
          "Returning",
          "Returning",
          "Returning",
          "One-time",
          "One-time",
          "One-time",
          "One-time",
          "Returning",
          "Returning",
          "Returning",
          "One-time",
          "One-time",
          "Returning",
          "Returning",
          "One-time",
          "Returning",
          "One-time",
          "Returning",
          "Returning",
          "Returning",
          "Returning",
          "Returning",
          "Returning",
          "Returning",
          "Returning",
          "Returning",
          "Returning",
          "One-time",
          "Returning",
          "Returning",
          "One-time",
          "Returning",
          "Returning",
          "Returning",
          "Returning",
          "Returning",
          "Returning",
          "Returning",
          "One-time",
          "Returning",
          "Returning",
          "One-time",
          "Returning",
          "Returning",
          "Returning",
          "Returning",
          "One-time",
          "Returning",
          "One-time",
          "Returning",
          "Returning",
          "Returning",
          "Returning",
          "Returning",
          "One-time",
          "Returning",
          "Returning",
          "One-time",
          "One-time",
          "Returning",
          "One-time",
          "Returning",
          "Returning",
          "Returning",
          "One-time",
          "One-time",
          "Returning",
          "One-time",
          "Returning",
          "Returning",
          "Returning",
          "Returning",
          "One-time",
          "One-time",
          "One-time",
          "Returning",
          "Returning",
          "One-time",
          "One-time",
          "Returning",
          "One-time",
          "One-time",
          "Returning",
          "Returning",
          "Returning",
          "Returning",
          "Returning",
          "Returning",
          "One-time",
          "Returning",
          "One-time",
          "One-time",
          "Returning",
          "One-time",
          "One-time",
          "Returning",
          "Returning",
          "Returning",
          "One-time",
          "Returning",
          "Returning",
          "One-time",
          "Returning",
          "Returning",
          "Returning",
          "Returning",
          "One-time",
          "Returning",
          "Returning",
          "One-time",
          "Returning",
          "Returning",
          "Returning",
          "Returning",
          "Returning",
          "Returning",
          "One-time",
          "One-time",
          "One-time",
          "Returning",
          "One-time",
          "Returning",
          "One-time",
          "Returning",
          "One-time",
          "Returning",
          "Returning",
          "Returning",
          "Returning",
          "Returning",
          "Returning",
          "Returning",
          "One-time",
          "One-time",
          "Returning",
          "One-time",
          "One-time",
          "Returning",
          "Returning",
          "Returning",
          "One-time",
          "One-time",
          "Returning",
          "Returning",
          "Returning",
          "Returning",
          "Returning",
          "One-time",
          "One-time",
          "One-time",
          "One-time",
          "Returning",
          "Returning",
          "Returning",
          "One-time",
          "One-time",
          "Returning",
          "One-time",
          "One-time",
          "Returning",
          "Returning",
          "Returning",
          "Returning",
          "Returning",
          "Returning",
          "Returning",
          "Returning",
          "Returning",
          "Returning",
          "Returning",
          "Returning",
          "Returning",
          "One-time",
          "One-time",
          "Returning",
          "Returning",
          "One-time",
          "Returning",
          "Returning",
          "Returning",
          "Returning",
          "One-time",
          "One-time",
          "One-time",
          "One-time",
          "Returning",
          "One-time",
          "One-time",
          "Returning",
          "One-time",
          "Returning",
          "Returning",
          "One-time",
          "One-time",
          "Returning",
          "One-time",
          "One-time",
          "Returning",
          "One-time",
          "One-time",
          "Returning",
          "Returning",
          "Returning",
          "One-time",
          "One-time",
          "Returning",
          "One-time",
          "One-time",
          "Returning",
          "One-time",
          "Returning",
          "One-time",
          "Returning",
          "Returning",
          "One-time",
          "Returning",
          "One-time",
          "Returning",
          "One-time",
          "Returning",
          "Returning",
          "Returning",
          "Returning",
          "Returning",
          "Returning",
          "Returning",
          "One-time",
          "Returning",
          "One-time",
          "Returning",
          "Returning",
          "One-time",
          "One-time",
          "Returning",
          "Returning",
          "Returning",
          "Returning",
          "Returning",
          "Returning",
          "One-time",
          "One-time",
          "Returning",
          "One-time",
          "One-time",
          "Returning",
          "Returning",
          "Returning",
          "Returning",
          "Returning",
          "Returning",
          "Returning",
          "Returning",
          "Returning",
          "One-time",
          "One-time",
          "Returning",
          "Returning",
          "Returning",
          "Returning",
          "Returning",
          "Returning",
          "Returning",
          "Returning",
          "Returning",
          "Returning",
          "Returning",
          "One-time",
          "Returning",
          "Returning",
          "Returning",
          "Returning",
          "Returning",
          "One-time",
          "Returning",
          "Returning",
          "Returning",
          "Returning",
          "Returning",
          "Returning",
          "One-time",
          "Returning",
          "Returning",
          "One-time",
          "Returning",
          "One-time",
          "One-time",
          "Returning",
          "Returning",
          "Returning",
          "Returning",
          "One-time",
          "Returning",
          "Returning",
          "Returning",
          "One-time",
          "Returning",
          "Returning",
          "One-time",
          "One-time",
          "One-time",
          "One-time",
          "Returning",
          "Returning",
          "Returning",
          "Returning",
          "Returning",
          "Returning",
          "Returning",
          "One-time",
          "One-time",
          "One-time",
          "One-time",
          "Returning",
          "One-time",
          "One-time",
          "One-time",
          "Returning",
          "One-time",
          "Returning",
          "One-time",
          "Returning",
          "One-time",
          "Returning",
          "Returning",
          "Returning",
          "One-time",
          "Returning",
          "Returning",
          "One-time",
          "Returning",
          "Returning",
          "One-time",
          "Returning",
          "Returning",
          "Returning",
          "Returning",
          "One-time",
          "Returning",
          "One-time",
          "Returning",
          "One-time",
          "Returning",
          "Returning",
          "Returning",
          "One-time",
          "Returning",
          "One-time",
          "One-time",
          "One-time",
          "Returning",
          "One-time",
          "Returning",
          "Returning",
          "Returning",
          "Returning",
          "Returning",
          "Returning",
          "One-time",
          "Returning",
          "One-time",
          "Returning",
          "Returning",
          "Returning",
          "Returning",
          "Returning",
          "One-time",
          "One-time",
          "Returning",
          "Returning",
          "One-time",
          "Returning",
          "One-time",
          "One-time",
          "Returning",
          "Returning",
          "One-time",
          "Returning",
          "Returning",
          "Returning",
          "Returning",
          "Returning",
          "Returning",
          "Returning",
          "Returning",
          "One-time",
          "One-time",
          "One-time",
          "One-time",
          "One-time",
          "Returning",
          "Returning",
          "Returning",
          "One-time",
          "One-time",
          "Returning",
          "Returning",
          "Returning",
          "Returning",
          "Returning",
          "Returning",
          "Returning",
          "Returning",
          "Returning",
          "Returning",
          "One-time",
          "Returning",
          "One-time",
          "Returning",
          "Returning",
          "Returning",
          "Returning",
          "One-time",
          "Returning",
          "Returning",
          "Returning",
          "One-time",
          "One-time",
          "Returning",
          "Returning",
          "Returning",
          "Returning",
          "One-time",
          "One-time",
          "Returning",
          "Returning",
          "Returning",
          "Returning",
          "One-time",
          "Returning",
          "Returning",
          "One-time",
          "One-time",
          "Returning",
          "Returning",
          "One-time",
          "Returning",
          "Returning",
          "One-time",
          "Returning",
          "Returning",
          "One-time",
          "Returning",
          "Returning",
          "Returning",
          "Returning",
          "Returning",
          "One-time",
          "Returning",
          "Returning",
          "One-time",
          "Returning",
          "Returning",
          "Returning",
          "Returning",
          "Returning",
          "One-time",
          "Returning",
          "Returning",
          "Returning",
          "Returning",
          "Returning",
          "One-time",
          "Returning",
          "Returning",
          "One-time",
          "Returning",
          "One-time",
          "Returning",
          "One-time",
          "One-time",
          "One-time",
          "Returning",
          "One-time",
          "Returning",
          "Returning",
          "One-time",
          "One-time",
          "One-time",
          "Returning",
          "Returning",
          "One-time",
          "Returning",
          "Returning",
          "Returning",
          "Returning",
          "Returning",
          "One-time",
          "Returning",
          "One-time",
          "Returning",
          "Returning",
          "Returning",
          "Returning",
          "Returning",
          "Returning",
          "Returning",
          "Returning",
          "Returning",
          "Returning",
          "One-time",
          "One-time",
          "Returning",
          "Returning",
          "Returning",
          "Returning",
          "Returning",
          "One-time",
          "Returning",
          "Returning",
          "Returning",
          "Returning",
          "Returning",
          "One-time",
          "Returning",
          "Returning",
          "Returning",
          "Returning",
          "One-time",
          "One-time",
          "One-time",
          "Returning",
          "Returning",
          "Returning",
          "One-time",
          "Returning",
          "One-time",
          "Returning",
          "Returning",
          "Returning",
          "Returning",
          "One-time",
          "One-time",
          "One-time",
          "Returning",
          "Returning",
          "Returning",
          "One-time",
          "Returning",
          "Returning",
          "Returning",
          "Returning",
          "Returning",
          "Returning",
          "One-time",
          "Returning",
          "Returning",
          "Returning",
          "Returning",
          "Returning",
          "One-time",
          "Returning",
          "Returning",
          "Returning",
          "Returning",
          "Returning",
          "Returning",
          "Returning",
          "Returning",
          "Returning",
          "Returning",
          "Returning",
          "One-time",
          "Returning",
          "Returning",
          "Returning",
          "Returning",
          "Returning",
          "One-time",
          "Returning",
          "Returning",
          "Returning",
          "One-time",
          "One-time",
          "Returning",
          "Returning",
          "One-time",
          "One-time",
          "Returning",
          "One-time",
          "One-time",
          "One-time",
          "One-time",
          "One-time",
          "Returning",
          "One-time",
          "Returning",
          "Returning",
          "Returning",
          "Returning",
          "One-time",
          "Returning",
          "One-time",
          "One-time",
          "Returning",
          "Returning",
          "Returning",
          "One-time",
          "Returning",
          "One-time",
          "One-time",
          "Returning",
          "Returning",
          "Returning",
          "Returning",
          "Returning",
          "Returning",
          "Returning",
          "Returning",
          "One-time",
          "Returning",
          "Returning",
          "One-time",
          "One-time",
          "Returning",
          "One-time",
          "Returning",
          "One-time",
          "Returning",
          "Returning",
          "Returning",
          "Returning",
          "Returning",
          "One-time",
          "Returning",
          "Returning",
          "Returning",
          "Returning",
          "Returning",
          "Returning",
          "One-time",
          "Returning",
          "One-time",
          "Returning",
          "Returning",
          "One-time",
          "One-time",
          "Returning",
          "One-time",
          "Returning",
          "Returning",
          "One-time",
          "Returning",
          "One-time",
          "Returning",
          "Returning",
          "One-time",
          "Returning",
          "One-time",
          "Returning",
          "Returning",
          "Returning",
          "Returning",
          "Returning",
          "Returning",
          "One-time",
          "One-time",
          "Returning",
          "Returning",
          "Returning",
          "Returning",
          "One-time",
          "Returning",
          "Returning",
          "One-time",
          "One-time",
          "One-time",
          "One-time",
          "Returning",
          "One-time",
          "Returning",
          "One-time",
          "Returning",
          "Returning",
          "Returning",
          "Returning",
          "Returning",
          "One-time",
          "Returning",
          "Returning",
          "Returning",
          "Returning",
          "Returning",
          "One-time",
          "Returning",
          "One-time",
          "One-time",
          "Returning",
          "Returning",
          "One-time",
          "Returning",
          "Returning",
          "Returning",
          "Returning",
          "One-time",
          "Returning",
          "Returning",
          "One-time",
          "Returning",
          "Returning",
          "One-time",
          "Returning",
          "One-time",
          "Returning",
          "One-time",
          "Returning",
          "Returning",
          "One-time",
          "Returning",
          "Returning",
          "Returning",
          "Returning",
          "Returning",
          "Returning",
          "Returning",
          "One-time",
          "Returning",
          "Returning",
          "One-time",
          "One-time",
          "Returning",
          "Returning",
          "Returning",
          "Returning",
          "Returning",
          "Returning",
          "One-time",
          "One-time",
          "Returning",
          "Returning",
          "One-time",
          "Returning",
          "One-time",
          "Returning",
          "Returning",
          "Returning",
          "One-time",
          "One-time",
          "Returning",
          "Returning",
          "One-time",
          "Returning",
          "Returning",
          "Returning",
          "Returning",
          "Returning",
          "One-time",
          "Returning",
          "Returning",
          "Returning",
          "Returning",
          "Returning",
          "Returning",
          "Returning",
          "Returning",
          "Returning",
          "One-time",
          "Returning",
          "One-time",
          "One-time",
          "Returning",
          "One-time",
          "Returning",
          "Returning",
          "Returning",
          "Returning",
          "Returning",
          "Returning",
          "One-time",
          "Returning",
          "Returning",
          "Returning",
          "Returning",
          "Returning",
          "One-time",
          "Returning",
          "Returning",
          "Returning",
          "One-time",
          "Returning",
          "Returning",
          "Returning",
          "Returning",
          "Returning",
          "One-time",
          "Returning",
          "Returning",
          "Returning",
          "Returning",
          "Returning",
          "Returning",
          "Returning",
          "Returning",
          "One-time",
          "Returning",
          "Returning",
          "Returning",
          "One-time",
          "Returning",
          "One-time",
          "Returning",
          "Returning",
          "One-time",
          "Returning",
          "Returning",
          "One-time",
          "Returning",
          "Returning",
          "Returning",
          "Returning",
          "Returning",
          "Returning",
          "Returning",
          "Returning",
          "One-time",
          "One-time",
          "Returning",
          "One-time",
          "Returning",
          "Returning",
          "Returning",
          "Returning",
          "Returning",
          "One-time",
          "Returning",
          "Returning",
          "Returning",
          "Returning",
          "Returning",
          "One-time",
          "One-time",
          "Returning",
          "Returning",
          "One-time",
          "Returning",
          "Returning",
          "Returning",
          "One-time",
          "Returning",
          "One-time",
          "One-time",
          "One-time",
          "Returning",
          "Returning",
          "Returning",
          "Returning",
          "Returning",
          "Returning",
          "One-time",
          "Returning",
          "One-time",
          "Returning",
          "One-time",
          "Returning",
          "Returning",
          "One-time",
          "One-time",
          "Returning",
          "Returning",
          "One-time",
          "Returning",
          "One-time",
          "Returning",
          "Returning",
          "Returning",
          "One-time",
          "One-time",
          "Returning",
          "Returning",
          "Returning",
          "Returning",
          "One-time",
          "One-time",
          "One-time",
          "One-time",
          "Returning",
          "One-time",
          "Returning",
          "One-time",
          "Returning",
          "One-time",
          "Returning",
          "Returning",
          "One-time",
          "Returning",
          "One-time",
          "Returning",
          "Returning",
          "One-time",
          "Returning",
          "Returning",
          "One-time",
          "Returning",
          "Returning",
          "Returning",
          "Returning",
          "One-time",
          "Returning",
          "Returning",
          "Returning",
          "One-time",
          "Returning",
          "One-time",
          "Returning",
          "Returning",
          "Returning",
          "One-time",
          "Returning",
          "Returning",
          "Returning",
          "Returning",
          "Returning",
          "Returning",
          "Returning",
          "Returning",
          "Returning",
          "Returning",
          "One-time",
          "One-time",
          "One-time",
          "Returning",
          "One-time",
          "Returning",
          "Returning",
          "Returning",
          "Returning",
          "Returning",
          "Returning",
          "One-time",
          "Returning",
          "Returning",
          "Returning",
          "One-time",
          "One-time",
          "Returning",
          "One-time",
          "Returning",
          "Returning",
          "One-time",
          "Returning",
          "Returning",
          "Returning",
          "Returning",
          "Returning",
          "One-time",
          "Returning",
          "One-time",
          "One-time",
          "Returning",
          "One-time",
          "Returning",
          "Returning",
          "One-time",
          "Returning",
          "One-time",
          "One-time",
          "Returning",
          "Returning",
          "Returning",
          "One-time",
          "Returning",
          "Returning",
          "Returning",
          "Returning",
          "One-time",
          "Returning",
          "Returning",
          "Returning",
          "Returning",
          "Returning",
          "Returning",
          "One-time",
          "Returning",
          "Returning",
          "Returning",
          "Returning",
          "Returning",
          "Returning",
          "Returning",
          "One-time",
          "Returning",
          "One-time",
          "Returning",
          "One-time",
          "Returning",
          "Returning",
          "Returning",
          "Returning",
          "Returning",
          "One-time",
          "One-time",
          "Returning",
          "Returning",
          "One-time",
          "One-time",
          "Returning",
          "One-time",
          "Returning",
          "Returning",
          "Returning",
          "Returning",
          "Returning",
          "Returning",
          "Returning",
          "One-time",
          "Returning",
          "One-time",
          "One-time",
          "One-time",
          "Returning",
          "One-time",
          "Returning",
          "Returning",
          "Returning",
          "Returning",
          "Returning",
          "Returning",
          "One-time",
          "Returning",
          "Returning",
          "Returning",
          "One-time",
          "Returning",
          "Returning",
          "Returning",
          "Returning",
          "Returning",
          "Returning",
          "Returning",
          "Returning",
          "Returning",
          "One-time",
          "One-time",
          "Returning",
          "Returning",
          "One-time",
          "Returning",
          "Returning",
          "Returning",
          "Returning",
          "Returning",
          "One-time",
          "One-time",
          "Returning",
          "Returning",
          "One-time",
          "Returning",
          "Returning",
          "Returning",
          "Returning",
          "Returning",
          "Returning",
          "One-time",
          "Returning",
          "Returning",
          "Returning",
          "Returning",
          "One-time",
          "Returning",
          "Returning",
          "Returning",
          "One-time",
          "Returning",
          "One-time",
          "One-time",
          "Returning",
          "Returning",
          "Returning",
          "Returning",
          "Returning",
          "Returning",
          "One-time",
          "One-time",
          "Returning",
          "Returning",
          "Returning",
          "Returning",
          "Returning",
          "Returning",
          "Returning",
          "One-time",
          "Returning",
          "Returning",
          "One-time",
          "Returning",
          "One-time",
          "One-time",
          "Returning",
          "One-time",
          "Returning",
          "Returning",
          "One-time",
          "Returning",
          "One-time",
          "One-time",
          "One-time",
          "Returning",
          "Returning",
          "Returning",
          "Returning",
          "Returning",
          "One-time",
          "Returning",
          "Returning",
          "Returning",
          "One-time",
          "One-time",
          "Returning",
          "One-time",
          "Returning",
          "Returning",
          "Returning",
          "One-time",
          "Returning",
          "Returning",
          "Returning",
          "One-time",
          "Returning",
          "Returning",
          "One-time",
          "One-time",
          "One-time",
          "One-time",
          "One-time",
          "Returning",
          "Returning",
          "One-time",
          "Returning",
          "One-time",
          "Returning",
          "Returning",
          "Returning",
          "One-time",
          "Returning",
          "One-time",
          "Returning",
          "One-time",
          "One-time",
          "Returning",
          "Returning",
          "One-time",
          "Returning",
          "One-time",
          "One-time",
          "Returning",
          "One-time",
          "One-time",
          "One-time",
          "Returning",
          "Returning",
          "One-time",
          "Returning",
          "One-time",
          "Returning",
          "Returning",
          "One-time",
          "Returning",
          "One-time",
          "Returning",
          "Returning",
          "Returning",
          "Returning",
          "Returning",
          "Returning",
          "Returning",
          "Returning",
          "One-time",
          "Returning",
          "One-time",
          "Returning",
          "One-time",
          "One-time",
          "Returning",
          "One-time",
          "One-time",
          "Returning",
          "Returning",
          "Returning",
          "Returning",
          "Returning",
          "One-time",
          "One-time",
          "One-time",
          "One-time",
          "Returning",
          "One-time",
          "Returning",
          "Returning",
          "Returning",
          "One-time",
          "One-time",
          "Returning",
          "One-time",
          "One-time",
          "One-time",
          "Returning",
          "Returning",
          "One-time",
          "One-time",
          "One-time",
          "Returning",
          "Returning",
          "One-time",
          "One-time",
          "One-time",
          "One-time",
          "Returning",
          "Returning",
          "Returning",
          "Returning",
          "One-time",
          "Returning",
          "Returning",
          "Returning",
          "One-time",
          "Returning",
          "One-time",
          "Returning",
          "One-time",
          "One-time",
          "One-time",
          "Returning",
          "One-time",
          "One-time",
          "Returning",
          "Returning",
          "Returning",
          "One-time",
          "One-time",
          "Returning",
          "One-time",
          "Returning",
          "One-time",
          "One-time",
          "Returning",
          "Returning",
          "Returning",
          "Returning",
          "Returning",
          "Returning",
          "One-time",
          "Returning",
          "Returning",
          "One-time",
          "Returning",
          "One-time",
          "One-time",
          "Returning",
          "One-time",
          "One-time",
          "Returning",
          "Returning",
          "Returning",
          "Returning",
          "Returning",
          "One-time",
          "One-time",
          "One-time",
          "Returning",
          "Returning",
          "One-time",
          "Returning",
          "One-time",
          "Returning",
          "Returning",
          "Returning",
          "Returning",
          "Returning",
          "Returning",
          "One-time",
          "One-time",
          "Returning",
          "One-time",
          "Returning",
          "One-time",
          "Returning",
          "Returning",
          "Returning",
          "Returning",
          "Returning",
          "Returning",
          "One-time",
          "Returning",
          "Returning",
          "One-time",
          "One-time",
          "One-time",
          "One-time",
          "Returning",
          "One-time",
          "Returning",
          "One-time",
          "One-time",
          "Returning",
          "One-time",
          "Returning",
          "One-time",
          "One-time",
          "Returning",
          "Returning",
          "Returning",
          "Returning",
          "One-time",
          "Returning",
          "One-time",
          "Returning",
          "One-time",
          "Returning",
          "Returning",
          "One-time",
          "Returning",
          "Returning",
          "Returning",
          "Returning",
          "Returning",
          "Returning",
          "Returning",
          "Returning",
          "Returning",
          "Returning",
          "Returning",
          "Returning",
          "Returning",
          "Returning",
          "One-time",
          "Returning",
          "Returning",
          "One-time",
          "One-time",
          "Returning",
          "Returning",
          "One-time",
          "Returning",
          "Returning",
          "Returning",
          "Returning",
          "One-time",
          "One-time",
          "Returning",
          "Returning",
          "Returning",
          "Returning",
          "One-time",
          "Returning",
          "One-time",
          "One-time",
          "Returning",
          "Returning",
          "Returning",
          "One-time",
          "One-time",
          "One-time",
          "One-time",
          "Returning",
          "Returning",
          "One-time",
          "Returning",
          "One-time",
          "Returning",
          "Returning",
          "One-time",
          "Returning",
          "Returning",
          "One-time",
          "One-time",
          "One-time",
          "One-time",
          "Returning",
          "Returning",
          "Returning",
          "One-time",
          "Returning",
          "One-time",
          "Returning",
          "One-time",
          "Returning",
          "Returning",
          "One-time",
          "Returning",
          "Returning",
          "Returning",
          "Returning",
          "Returning",
          "One-time",
          "Returning",
          "Returning",
          "Returning",
          "Returning",
          "One-time",
          "Returning",
          "Returning",
          "Returning",
          "Returning",
          "Returning",
          "One-time",
          "One-time",
          "One-time",
          "Returning",
          "One-time",
          "Returning",
          "Returning",
          "Returning",
          "Returning",
          "One-time",
          "Returning",
          "Returning",
          "One-time",
          "One-time",
          "Returning",
          "Returning",
          "Returning",
          "One-time",
          "One-time",
          "One-time",
          "One-time",
          "One-time",
          "One-time",
          "Returning",
          "Returning",
          "Returning"
         ],
         "legendgroup": "",
         "name": "",
         "showlegend": true,
         "type": "pie"
        }
       ],
       "layout": {
        "legend": {
         "tracegroupgap": 0
        },
        "template": {
         "data": {
          "bar": [
           {
            "error_x": {
             "color": "#2a3f5f"
            },
            "error_y": {
             "color": "#2a3f5f"
            },
            "marker": {
             "line": {
              "color": "#E5ECF6",
              "width": 0.5
             },
             "pattern": {
              "fillmode": "overlay",
              "size": 10,
              "solidity": 0.2
             }
            },
            "type": "bar"
           }
          ],
          "barpolar": [
           {
            "marker": {
             "line": {
              "color": "#E5ECF6",
              "width": 0.5
             },
             "pattern": {
              "fillmode": "overlay",
              "size": 10,
              "solidity": 0.2
             }
            },
            "type": "barpolar"
           }
          ],
          "carpet": [
           {
            "aaxis": {
             "endlinecolor": "#2a3f5f",
             "gridcolor": "white",
             "linecolor": "white",
             "minorgridcolor": "white",
             "startlinecolor": "#2a3f5f"
            },
            "baxis": {
             "endlinecolor": "#2a3f5f",
             "gridcolor": "white",
             "linecolor": "white",
             "minorgridcolor": "white",
             "startlinecolor": "#2a3f5f"
            },
            "type": "carpet"
           }
          ],
          "choropleth": [
           {
            "colorbar": {
             "outlinewidth": 0,
             "ticks": ""
            },
            "type": "choropleth"
           }
          ],
          "contour": [
           {
            "colorbar": {
             "outlinewidth": 0,
             "ticks": ""
            },
            "colorscale": [
             [
              0,
              "#0d0887"
             ],
             [
              0.1111111111111111,
              "#46039f"
             ],
             [
              0.2222222222222222,
              "#7201a8"
             ],
             [
              0.3333333333333333,
              "#9c179e"
             ],
             [
              0.4444444444444444,
              "#bd3786"
             ],
             [
              0.5555555555555556,
              "#d8576b"
             ],
             [
              0.6666666666666666,
              "#ed7953"
             ],
             [
              0.7777777777777778,
              "#fb9f3a"
             ],
             [
              0.8888888888888888,
              "#fdca26"
             ],
             [
              1,
              "#f0f921"
             ]
            ],
            "type": "contour"
           }
          ],
          "contourcarpet": [
           {
            "colorbar": {
             "outlinewidth": 0,
             "ticks": ""
            },
            "type": "contourcarpet"
           }
          ],
          "heatmap": [
           {
            "colorbar": {
             "outlinewidth": 0,
             "ticks": ""
            },
            "colorscale": [
             [
              0,
              "#0d0887"
             ],
             [
              0.1111111111111111,
              "#46039f"
             ],
             [
              0.2222222222222222,
              "#7201a8"
             ],
             [
              0.3333333333333333,
              "#9c179e"
             ],
             [
              0.4444444444444444,
              "#bd3786"
             ],
             [
              0.5555555555555556,
              "#d8576b"
             ],
             [
              0.6666666666666666,
              "#ed7953"
             ],
             [
              0.7777777777777778,
              "#fb9f3a"
             ],
             [
              0.8888888888888888,
              "#fdca26"
             ],
             [
              1,
              "#f0f921"
             ]
            ],
            "type": "heatmap"
           }
          ],
          "histogram": [
           {
            "marker": {
             "pattern": {
              "fillmode": "overlay",
              "size": 10,
              "solidity": 0.2
             }
            },
            "type": "histogram"
           }
          ],
          "histogram2d": [
           {
            "colorbar": {
             "outlinewidth": 0,
             "ticks": ""
            },
            "colorscale": [
             [
              0,
              "#0d0887"
             ],
             [
              0.1111111111111111,
              "#46039f"
             ],
             [
              0.2222222222222222,
              "#7201a8"
             ],
             [
              0.3333333333333333,
              "#9c179e"
             ],
             [
              0.4444444444444444,
              "#bd3786"
             ],
             [
              0.5555555555555556,
              "#d8576b"
             ],
             [
              0.6666666666666666,
              "#ed7953"
             ],
             [
              0.7777777777777778,
              "#fb9f3a"
             ],
             [
              0.8888888888888888,
              "#fdca26"
             ],
             [
              1,
              "#f0f921"
             ]
            ],
            "type": "histogram2d"
           }
          ],
          "histogram2dcontour": [
           {
            "colorbar": {
             "outlinewidth": 0,
             "ticks": ""
            },
            "colorscale": [
             [
              0,
              "#0d0887"
             ],
             [
              0.1111111111111111,
              "#46039f"
             ],
             [
              0.2222222222222222,
              "#7201a8"
             ],
             [
              0.3333333333333333,
              "#9c179e"
             ],
             [
              0.4444444444444444,
              "#bd3786"
             ],
             [
              0.5555555555555556,
              "#d8576b"
             ],
             [
              0.6666666666666666,
              "#ed7953"
             ],
             [
              0.7777777777777778,
              "#fb9f3a"
             ],
             [
              0.8888888888888888,
              "#fdca26"
             ],
             [
              1,
              "#f0f921"
             ]
            ],
            "type": "histogram2dcontour"
           }
          ],
          "mesh3d": [
           {
            "colorbar": {
             "outlinewidth": 0,
             "ticks": ""
            },
            "type": "mesh3d"
           }
          ],
          "parcoords": [
           {
            "line": {
             "colorbar": {
              "outlinewidth": 0,
              "ticks": ""
             }
            },
            "type": "parcoords"
           }
          ],
          "pie": [
           {
            "automargin": true,
            "type": "pie"
           }
          ],
          "scatter": [
           {
            "fillpattern": {
             "fillmode": "overlay",
             "size": 10,
             "solidity": 0.2
            },
            "type": "scatter"
           }
          ],
          "scatter3d": [
           {
            "line": {
             "colorbar": {
              "outlinewidth": 0,
              "ticks": ""
             }
            },
            "marker": {
             "colorbar": {
              "outlinewidth": 0,
              "ticks": ""
             }
            },
            "type": "scatter3d"
           }
          ],
          "scattercarpet": [
           {
            "marker": {
             "colorbar": {
              "outlinewidth": 0,
              "ticks": ""
             }
            },
            "type": "scattercarpet"
           }
          ],
          "scattergeo": [
           {
            "marker": {
             "colorbar": {
              "outlinewidth": 0,
              "ticks": ""
             }
            },
            "type": "scattergeo"
           }
          ],
          "scattergl": [
           {
            "marker": {
             "colorbar": {
              "outlinewidth": 0,
              "ticks": ""
             }
            },
            "type": "scattergl"
           }
          ],
          "scattermap": [
           {
            "marker": {
             "colorbar": {
              "outlinewidth": 0,
              "ticks": ""
             }
            },
            "type": "scattermap"
           }
          ],
          "scattermapbox": [
           {
            "marker": {
             "colorbar": {
              "outlinewidth": 0,
              "ticks": ""
             }
            },
            "type": "scattermapbox"
           }
          ],
          "scatterpolar": [
           {
            "marker": {
             "colorbar": {
              "outlinewidth": 0,
              "ticks": ""
             }
            },
            "type": "scatterpolar"
           }
          ],
          "scatterpolargl": [
           {
            "marker": {
             "colorbar": {
              "outlinewidth": 0,
              "ticks": ""
             }
            },
            "type": "scatterpolargl"
           }
          ],
          "scatterternary": [
           {
            "marker": {
             "colorbar": {
              "outlinewidth": 0,
              "ticks": ""
             }
            },
            "type": "scatterternary"
           }
          ],
          "surface": [
           {
            "colorbar": {
             "outlinewidth": 0,
             "ticks": ""
            },
            "colorscale": [
             [
              0,
              "#0d0887"
             ],
             [
              0.1111111111111111,
              "#46039f"
             ],
             [
              0.2222222222222222,
              "#7201a8"
             ],
             [
              0.3333333333333333,
              "#9c179e"
             ],
             [
              0.4444444444444444,
              "#bd3786"
             ],
             [
              0.5555555555555556,
              "#d8576b"
             ],
             [
              0.6666666666666666,
              "#ed7953"
             ],
             [
              0.7777777777777778,
              "#fb9f3a"
             ],
             [
              0.8888888888888888,
              "#fdca26"
             ],
             [
              1,
              "#f0f921"
             ]
            ],
            "type": "surface"
           }
          ],
          "table": [
           {
            "cells": {
             "fill": {
              "color": "#EBF0F8"
             },
             "line": {
              "color": "white"
             }
            },
            "header": {
             "fill": {
              "color": "#C8D4E3"
             },
             "line": {
              "color": "white"
             }
            },
            "type": "table"
           }
          ]
         },
         "layout": {
          "annotationdefaults": {
           "arrowcolor": "#2a3f5f",
           "arrowhead": 0,
           "arrowwidth": 1
          },
          "autotypenumbers": "strict",
          "coloraxis": {
           "colorbar": {
            "outlinewidth": 0,
            "ticks": ""
           }
          },
          "colorscale": {
           "diverging": [
            [
             0,
             "#8e0152"
            ],
            [
             0.1,
             "#c51b7d"
            ],
            [
             0.2,
             "#de77ae"
            ],
            [
             0.3,
             "#f1b6da"
            ],
            [
             0.4,
             "#fde0ef"
            ],
            [
             0.5,
             "#f7f7f7"
            ],
            [
             0.6,
             "#e6f5d0"
            ],
            [
             0.7,
             "#b8e186"
            ],
            [
             0.8,
             "#7fbc41"
            ],
            [
             0.9,
             "#4d9221"
            ],
            [
             1,
             "#276419"
            ]
           ],
           "sequential": [
            [
             0,
             "#0d0887"
            ],
            [
             0.1111111111111111,
             "#46039f"
            ],
            [
             0.2222222222222222,
             "#7201a8"
            ],
            [
             0.3333333333333333,
             "#9c179e"
            ],
            [
             0.4444444444444444,
             "#bd3786"
            ],
            [
             0.5555555555555556,
             "#d8576b"
            ],
            [
             0.6666666666666666,
             "#ed7953"
            ],
            [
             0.7777777777777778,
             "#fb9f3a"
            ],
            [
             0.8888888888888888,
             "#fdca26"
            ],
            [
             1,
             "#f0f921"
            ]
           ],
           "sequentialminus": [
            [
             0,
             "#0d0887"
            ],
            [
             0.1111111111111111,
             "#46039f"
            ],
            [
             0.2222222222222222,
             "#7201a8"
            ],
            [
             0.3333333333333333,
             "#9c179e"
            ],
            [
             0.4444444444444444,
             "#bd3786"
            ],
            [
             0.5555555555555556,
             "#d8576b"
            ],
            [
             0.6666666666666666,
             "#ed7953"
            ],
            [
             0.7777777777777778,
             "#fb9f3a"
            ],
            [
             0.8888888888888888,
             "#fdca26"
            ],
            [
             1,
             "#f0f921"
            ]
           ]
          },
          "colorway": [
           "#636efa",
           "#EF553B",
           "#00cc96",
           "#ab63fa",
           "#FFA15A",
           "#19d3f3",
           "#FF6692",
           "#B6E880",
           "#FF97FF",
           "#FECB52"
          ],
          "font": {
           "color": "#2a3f5f"
          },
          "geo": {
           "bgcolor": "white",
           "lakecolor": "white",
           "landcolor": "#E5ECF6",
           "showlakes": true,
           "showland": true,
           "subunitcolor": "white"
          },
          "hoverlabel": {
           "align": "left"
          },
          "hovermode": "closest",
          "mapbox": {
           "style": "light"
          },
          "paper_bgcolor": "white",
          "plot_bgcolor": "#E5ECF6",
          "polar": {
           "angularaxis": {
            "gridcolor": "white",
            "linecolor": "white",
            "ticks": ""
           },
           "bgcolor": "#E5ECF6",
           "radialaxis": {
            "gridcolor": "white",
            "linecolor": "white",
            "ticks": ""
           }
          },
          "scene": {
           "xaxis": {
            "backgroundcolor": "#E5ECF6",
            "gridcolor": "white",
            "gridwidth": 2,
            "linecolor": "white",
            "showbackground": true,
            "ticks": "",
            "zerolinecolor": "white"
           },
           "yaxis": {
            "backgroundcolor": "#E5ECF6",
            "gridcolor": "white",
            "gridwidth": 2,
            "linecolor": "white",
            "showbackground": true,
            "ticks": "",
            "zerolinecolor": "white"
           },
           "zaxis": {
            "backgroundcolor": "#E5ECF6",
            "gridcolor": "white",
            "gridwidth": 2,
            "linecolor": "white",
            "showbackground": true,
            "ticks": "",
            "zerolinecolor": "white"
           }
          },
          "shapedefaults": {
           "line": {
            "color": "#2a3f5f"
           }
          },
          "ternary": {
           "aaxis": {
            "gridcolor": "white",
            "linecolor": "white",
            "ticks": ""
           },
           "baxis": {
            "gridcolor": "white",
            "linecolor": "white",
            "ticks": ""
           },
           "bgcolor": "#E5ECF6",
           "caxis": {
            "gridcolor": "white",
            "linecolor": "white",
            "ticks": ""
           }
          },
          "title": {
           "x": 0.05
          },
          "xaxis": {
           "automargin": true,
           "gridcolor": "white",
           "linecolor": "white",
           "ticks": "",
           "title": {
            "standoff": 15
           },
           "zerolinecolor": "white",
           "zerolinewidth": 2
          },
          "yaxis": {
           "automargin": true,
           "gridcolor": "white",
           "linecolor": "white",
           "ticks": "",
           "title": {
            "standoff": 15
           },
           "zerolinecolor": "white",
           "zerolinewidth": 2
          }
         }
        },
        "title": {
         "text": "Customer Loyalty Breakdown"
        }
       }
      }
     },
     "metadata": {},
     "output_type": "display_data"
    }
   ],
   "source": [
    "fig = px.pie(customer_orders, names='LoyaltyCategory', title='Customer Loyalty Breakdown')\n",
    "fig.show()"
   ]
  },
  {
   "cell_type": "markdown",
   "id": "08d58172",
   "metadata": {},
   "source": [
    "### Customer Level Analysis Summary\n",
    "- How many unique customers are in the dataset?\n",
    "Our analysis shows that for the examined period, we had 4338 unique customers.\n",
    "- How many are repeat buyers?\n",
    "Our analysis shows that ~65% or around two thirds of our customers are repeat buyers.\n",
    "- What is the average number of orders per customer?\n",
    "Our analysis shows an average of 4.6 orders per customer, with our most loyal customer placing 1431 orders over the examined period.\n",
    "- Who are the most frequent buyers?\n",
    "Our analysis shows that our most loyal customer is ID:15287"
   ]
  },
  {
   "cell_type": "markdown",
   "id": "2e813de5",
   "metadata": {},
   "source": [
    "### Sales Heatmap \n",
    "As an additional insight to our analysis, it could be helpful to our business to examine peak shopping windows.\n",
    "The heatmap below visualises total revenue by day of the week and hour of the day. This helps to identify when customers are most likely to make purchases. "
   ]
  },
  {
   "cell_type": "code",
   "execution_count": 40,
   "id": "28482370",
   "metadata": {},
   "outputs": [
    {
     "data": {
      "application/vnd.plotly.v1+json": {
       "config": {
        "plotlyServerURL": "https://plot.ly"
       },
       "data": [
        {
         "coloraxis": "coloraxis",
         "histfunc": "sum",
         "hovertemplate": "Hour=%{x}<br>DayOfWeek=%{y}<br>sum of TotalPrice=%{z}<extra></extra>",
         "name": "",
         "type": "histogram2d",
         "x": {
          "bdata": "BwAAAAgAAAAJAAAACgAAAAsAAAAMAAAADQAAAA4AAAAPAAAAEAAAABEAAAASAAAAEwAAABQAAAAHAAAACAAAAAkAAAAKAAAACwAAAAwAAAANAAAADgAAAA8AAAAQAAAAEQAAABIAAAAJAAAACgAAAAsAAAAMAAAADQAAAA4AAAAPAAAAEAAAAAYAAAAHAAAACAAAAAkAAAAKAAAACwAAAAwAAAANAAAADgAAAA8AAAAQAAAAEQAAABIAAAATAAAAFAAAAAcAAAAIAAAACQAAAAoAAAALAAAADAAAAA0AAAAOAAAADwAAABAAAAARAAAAEgAAAAcAAAAIAAAACQAAAAoAAAALAAAADAAAAA0AAAAOAAAADwAAABAAAAARAAAAEwAAABQAAAA=",
          "dtype": "i4"
         },
         "xaxis": "x",
         "xbingroup": "x",
         "y": [
          "Friday",
          "Friday",
          "Friday",
          "Friday",
          "Friday",
          "Friday",
          "Friday",
          "Friday",
          "Friday",
          "Friday",
          "Friday",
          "Friday",
          "Friday",
          "Friday",
          "Monday",
          "Monday",
          "Monday",
          "Monday",
          "Monday",
          "Monday",
          "Monday",
          "Monday",
          "Monday",
          "Monday",
          "Monday",
          "Monday",
          "Sunday",
          "Sunday",
          "Sunday",
          "Sunday",
          "Sunday",
          "Sunday",
          "Sunday",
          "Sunday",
          "Thursday",
          "Thursday",
          "Thursday",
          "Thursday",
          "Thursday",
          "Thursday",
          "Thursday",
          "Thursday",
          "Thursday",
          "Thursday",
          "Thursday",
          "Thursday",
          "Thursday",
          "Thursday",
          "Thursday",
          "Tuesday",
          "Tuesday",
          "Tuesday",
          "Tuesday",
          "Tuesday",
          "Tuesday",
          "Tuesday",
          "Tuesday",
          "Tuesday",
          "Tuesday",
          "Tuesday",
          "Tuesday",
          "Wednesday",
          "Wednesday",
          "Wednesday",
          "Wednesday",
          "Wednesday",
          "Wednesday",
          "Wednesday",
          "Wednesday",
          "Wednesday",
          "Wednesday",
          "Wednesday",
          "Wednesday",
          "Wednesday"
         ],
         "yaxis": "y",
         "ybingroup": "y",
         "z": {
          "bdata": "H4XrUTjh0ECF61G49tzpQCUGgRWGHxRBj8L1KE52DEEpXI/CqTEJQT4K16P8Yg1B7FG4Ho24B0GF61G4NBQMQcP1KFzV0wdB16NwPXby80B7FK5HeRzrQAAAAAAA4FJAcT0K16NQd0BxPQrXozAzQLgehetRWpdAexSuRxnL5UDhehSu/WUDQfYoXI9K3ApBH4XrUXayBkE+CtejNlAIQa5H4Xq4TQ1BPQrXoxxUCkGPwvUoSgYIQa5H4XqImf5ASgwCK9SZBkFI4XoULgKkQGZmZmZmVohAUrgehRvD80ApXI/CVRICQQAAAADmswJBmpmZmRfjAUHb+X5qKn/6QOF6FK4bj/9AhetRuG5H40AAAAAAAAARQClcj8K147pAMzMzM1OX8EAAAAAA9nsEQexRuB5TxhJBH4XrUUyABkFSuB6FmoQRQcP1KFzFpghBKVyPwlEtC0HhehSu6wEQQVK4HoVJpQdBpHA9CqNM/UBSuB6Fo1/+QB+F61FQ6+ZA16NwPcqVtkBcj8L1KAmgQMP1KFxrrvFAzczMzPCTB0H8qfFS/KYUQbgehetHOBFBj8L1KHIjEEH2KFyPBMQNQaRwPQqhJAhBPQrXo07CE0EpXI/Cx2UGQa5H4XrsuOtAMzMzMzMl0UBSuB6F6x6qQD0K16NIWeZAFa5H4fANAUFmZmZm2CcQQR+F61GYCwxBH4XrUdn9EUGuR+F6MqAMQc3MzMzCzwhBrkfhesirDUGF61G4pnD/QFyPwvWAPuVAzczMzMyapkAAAAAAwHPJQA==",
          "dtype": "f8"
         }
        }
       ],
       "layout": {
        "coloraxis": {
         "colorbar": {
          "title": {
           "text": "sum of TotalPrice"
          }
         },
         "colorscale": [
          [
           0,
           "#0d0887"
          ],
          [
           0.1111111111111111,
           "#46039f"
          ],
          [
           0.2222222222222222,
           "#7201a8"
          ],
          [
           0.3333333333333333,
           "#9c179e"
          ],
          [
           0.4444444444444444,
           "#bd3786"
          ],
          [
           0.5555555555555556,
           "#d8576b"
          ],
          [
           0.6666666666666666,
           "#ed7953"
          ],
          [
           0.7777777777777778,
           "#fb9f3a"
          ],
          [
           0.8888888888888888,
           "#fdca26"
          ],
          [
           1,
           "#f0f921"
          ]
         ]
        },
        "legend": {
         "tracegroupgap": 0
        },
        "template": {
         "data": {
          "bar": [
           {
            "error_x": {
             "color": "#2a3f5f"
            },
            "error_y": {
             "color": "#2a3f5f"
            },
            "marker": {
             "line": {
              "color": "#E5ECF6",
              "width": 0.5
             },
             "pattern": {
              "fillmode": "overlay",
              "size": 10,
              "solidity": 0.2
             }
            },
            "type": "bar"
           }
          ],
          "barpolar": [
           {
            "marker": {
             "line": {
              "color": "#E5ECF6",
              "width": 0.5
             },
             "pattern": {
              "fillmode": "overlay",
              "size": 10,
              "solidity": 0.2
             }
            },
            "type": "barpolar"
           }
          ],
          "carpet": [
           {
            "aaxis": {
             "endlinecolor": "#2a3f5f",
             "gridcolor": "white",
             "linecolor": "white",
             "minorgridcolor": "white",
             "startlinecolor": "#2a3f5f"
            },
            "baxis": {
             "endlinecolor": "#2a3f5f",
             "gridcolor": "white",
             "linecolor": "white",
             "minorgridcolor": "white",
             "startlinecolor": "#2a3f5f"
            },
            "type": "carpet"
           }
          ],
          "choropleth": [
           {
            "colorbar": {
             "outlinewidth": 0,
             "ticks": ""
            },
            "type": "choropleth"
           }
          ],
          "contour": [
           {
            "colorbar": {
             "outlinewidth": 0,
             "ticks": ""
            },
            "colorscale": [
             [
              0,
              "#0d0887"
             ],
             [
              0.1111111111111111,
              "#46039f"
             ],
             [
              0.2222222222222222,
              "#7201a8"
             ],
             [
              0.3333333333333333,
              "#9c179e"
             ],
             [
              0.4444444444444444,
              "#bd3786"
             ],
             [
              0.5555555555555556,
              "#d8576b"
             ],
             [
              0.6666666666666666,
              "#ed7953"
             ],
             [
              0.7777777777777778,
              "#fb9f3a"
             ],
             [
              0.8888888888888888,
              "#fdca26"
             ],
             [
              1,
              "#f0f921"
             ]
            ],
            "type": "contour"
           }
          ],
          "contourcarpet": [
           {
            "colorbar": {
             "outlinewidth": 0,
             "ticks": ""
            },
            "type": "contourcarpet"
           }
          ],
          "heatmap": [
           {
            "colorbar": {
             "outlinewidth": 0,
             "ticks": ""
            },
            "colorscale": [
             [
              0,
              "#0d0887"
             ],
             [
              0.1111111111111111,
              "#46039f"
             ],
             [
              0.2222222222222222,
              "#7201a8"
             ],
             [
              0.3333333333333333,
              "#9c179e"
             ],
             [
              0.4444444444444444,
              "#bd3786"
             ],
             [
              0.5555555555555556,
              "#d8576b"
             ],
             [
              0.6666666666666666,
              "#ed7953"
             ],
             [
              0.7777777777777778,
              "#fb9f3a"
             ],
             [
              0.8888888888888888,
              "#fdca26"
             ],
             [
              1,
              "#f0f921"
             ]
            ],
            "type": "heatmap"
           }
          ],
          "histogram": [
           {
            "marker": {
             "pattern": {
              "fillmode": "overlay",
              "size": 10,
              "solidity": 0.2
             }
            },
            "type": "histogram"
           }
          ],
          "histogram2d": [
           {
            "colorbar": {
             "outlinewidth": 0,
             "ticks": ""
            },
            "colorscale": [
             [
              0,
              "#0d0887"
             ],
             [
              0.1111111111111111,
              "#46039f"
             ],
             [
              0.2222222222222222,
              "#7201a8"
             ],
             [
              0.3333333333333333,
              "#9c179e"
             ],
             [
              0.4444444444444444,
              "#bd3786"
             ],
             [
              0.5555555555555556,
              "#d8576b"
             ],
             [
              0.6666666666666666,
              "#ed7953"
             ],
             [
              0.7777777777777778,
              "#fb9f3a"
             ],
             [
              0.8888888888888888,
              "#fdca26"
             ],
             [
              1,
              "#f0f921"
             ]
            ],
            "type": "histogram2d"
           }
          ],
          "histogram2dcontour": [
           {
            "colorbar": {
             "outlinewidth": 0,
             "ticks": ""
            },
            "colorscale": [
             [
              0,
              "#0d0887"
             ],
             [
              0.1111111111111111,
              "#46039f"
             ],
             [
              0.2222222222222222,
              "#7201a8"
             ],
             [
              0.3333333333333333,
              "#9c179e"
             ],
             [
              0.4444444444444444,
              "#bd3786"
             ],
             [
              0.5555555555555556,
              "#d8576b"
             ],
             [
              0.6666666666666666,
              "#ed7953"
             ],
             [
              0.7777777777777778,
              "#fb9f3a"
             ],
             [
              0.8888888888888888,
              "#fdca26"
             ],
             [
              1,
              "#f0f921"
             ]
            ],
            "type": "histogram2dcontour"
           }
          ],
          "mesh3d": [
           {
            "colorbar": {
             "outlinewidth": 0,
             "ticks": ""
            },
            "type": "mesh3d"
           }
          ],
          "parcoords": [
           {
            "line": {
             "colorbar": {
              "outlinewidth": 0,
              "ticks": ""
             }
            },
            "type": "parcoords"
           }
          ],
          "pie": [
           {
            "automargin": true,
            "type": "pie"
           }
          ],
          "scatter": [
           {
            "fillpattern": {
             "fillmode": "overlay",
             "size": 10,
             "solidity": 0.2
            },
            "type": "scatter"
           }
          ],
          "scatter3d": [
           {
            "line": {
             "colorbar": {
              "outlinewidth": 0,
              "ticks": ""
             }
            },
            "marker": {
             "colorbar": {
              "outlinewidth": 0,
              "ticks": ""
             }
            },
            "type": "scatter3d"
           }
          ],
          "scattercarpet": [
           {
            "marker": {
             "colorbar": {
              "outlinewidth": 0,
              "ticks": ""
             }
            },
            "type": "scattercarpet"
           }
          ],
          "scattergeo": [
           {
            "marker": {
             "colorbar": {
              "outlinewidth": 0,
              "ticks": ""
             }
            },
            "type": "scattergeo"
           }
          ],
          "scattergl": [
           {
            "marker": {
             "colorbar": {
              "outlinewidth": 0,
              "ticks": ""
             }
            },
            "type": "scattergl"
           }
          ],
          "scattermap": [
           {
            "marker": {
             "colorbar": {
              "outlinewidth": 0,
              "ticks": ""
             }
            },
            "type": "scattermap"
           }
          ],
          "scattermapbox": [
           {
            "marker": {
             "colorbar": {
              "outlinewidth": 0,
              "ticks": ""
             }
            },
            "type": "scattermapbox"
           }
          ],
          "scatterpolar": [
           {
            "marker": {
             "colorbar": {
              "outlinewidth": 0,
              "ticks": ""
             }
            },
            "type": "scatterpolar"
           }
          ],
          "scatterpolargl": [
           {
            "marker": {
             "colorbar": {
              "outlinewidth": 0,
              "ticks": ""
             }
            },
            "type": "scatterpolargl"
           }
          ],
          "scatterternary": [
           {
            "marker": {
             "colorbar": {
              "outlinewidth": 0,
              "ticks": ""
             }
            },
            "type": "scatterternary"
           }
          ],
          "surface": [
           {
            "colorbar": {
             "outlinewidth": 0,
             "ticks": ""
            },
            "colorscale": [
             [
              0,
              "#0d0887"
             ],
             [
              0.1111111111111111,
              "#46039f"
             ],
             [
              0.2222222222222222,
              "#7201a8"
             ],
             [
              0.3333333333333333,
              "#9c179e"
             ],
             [
              0.4444444444444444,
              "#bd3786"
             ],
             [
              0.5555555555555556,
              "#d8576b"
             ],
             [
              0.6666666666666666,
              "#ed7953"
             ],
             [
              0.7777777777777778,
              "#fb9f3a"
             ],
             [
              0.8888888888888888,
              "#fdca26"
             ],
             [
              1,
              "#f0f921"
             ]
            ],
            "type": "surface"
           }
          ],
          "table": [
           {
            "cells": {
             "fill": {
              "color": "#EBF0F8"
             },
             "line": {
              "color": "white"
             }
            },
            "header": {
             "fill": {
              "color": "#C8D4E3"
             },
             "line": {
              "color": "white"
             }
            },
            "type": "table"
           }
          ]
         },
         "layout": {
          "annotationdefaults": {
           "arrowcolor": "#2a3f5f",
           "arrowhead": 0,
           "arrowwidth": 1
          },
          "autotypenumbers": "strict",
          "coloraxis": {
           "colorbar": {
            "outlinewidth": 0,
            "ticks": ""
           }
          },
          "colorscale": {
           "diverging": [
            [
             0,
             "#8e0152"
            ],
            [
             0.1,
             "#c51b7d"
            ],
            [
             0.2,
             "#de77ae"
            ],
            [
             0.3,
             "#f1b6da"
            ],
            [
             0.4,
             "#fde0ef"
            ],
            [
             0.5,
             "#f7f7f7"
            ],
            [
             0.6,
             "#e6f5d0"
            ],
            [
             0.7,
             "#b8e186"
            ],
            [
             0.8,
             "#7fbc41"
            ],
            [
             0.9,
             "#4d9221"
            ],
            [
             1,
             "#276419"
            ]
           ],
           "sequential": [
            [
             0,
             "#0d0887"
            ],
            [
             0.1111111111111111,
             "#46039f"
            ],
            [
             0.2222222222222222,
             "#7201a8"
            ],
            [
             0.3333333333333333,
             "#9c179e"
            ],
            [
             0.4444444444444444,
             "#bd3786"
            ],
            [
             0.5555555555555556,
             "#d8576b"
            ],
            [
             0.6666666666666666,
             "#ed7953"
            ],
            [
             0.7777777777777778,
             "#fb9f3a"
            ],
            [
             0.8888888888888888,
             "#fdca26"
            ],
            [
             1,
             "#f0f921"
            ]
           ],
           "sequentialminus": [
            [
             0,
             "#0d0887"
            ],
            [
             0.1111111111111111,
             "#46039f"
            ],
            [
             0.2222222222222222,
             "#7201a8"
            ],
            [
             0.3333333333333333,
             "#9c179e"
            ],
            [
             0.4444444444444444,
             "#bd3786"
            ],
            [
             0.5555555555555556,
             "#d8576b"
            ],
            [
             0.6666666666666666,
             "#ed7953"
            ],
            [
             0.7777777777777778,
             "#fb9f3a"
            ],
            [
             0.8888888888888888,
             "#fdca26"
            ],
            [
             1,
             "#f0f921"
            ]
           ]
          },
          "colorway": [
           "#636efa",
           "#EF553B",
           "#00cc96",
           "#ab63fa",
           "#FFA15A",
           "#19d3f3",
           "#FF6692",
           "#B6E880",
           "#FF97FF",
           "#FECB52"
          ],
          "font": {
           "color": "#2a3f5f"
          },
          "geo": {
           "bgcolor": "white",
           "lakecolor": "white",
           "landcolor": "#E5ECF6",
           "showlakes": true,
           "showland": true,
           "subunitcolor": "white"
          },
          "hoverlabel": {
           "align": "left"
          },
          "hovermode": "closest",
          "mapbox": {
           "style": "light"
          },
          "paper_bgcolor": "white",
          "plot_bgcolor": "#E5ECF6",
          "polar": {
           "angularaxis": {
            "gridcolor": "white",
            "linecolor": "white",
            "ticks": ""
           },
           "bgcolor": "#E5ECF6",
           "radialaxis": {
            "gridcolor": "white",
            "linecolor": "white",
            "ticks": ""
           }
          },
          "scene": {
           "xaxis": {
            "backgroundcolor": "#E5ECF6",
            "gridcolor": "white",
            "gridwidth": 2,
            "linecolor": "white",
            "showbackground": true,
            "ticks": "",
            "zerolinecolor": "white"
           },
           "yaxis": {
            "backgroundcolor": "#E5ECF6",
            "gridcolor": "white",
            "gridwidth": 2,
            "linecolor": "white",
            "showbackground": true,
            "ticks": "",
            "zerolinecolor": "white"
           },
           "zaxis": {
            "backgroundcolor": "#E5ECF6",
            "gridcolor": "white",
            "gridwidth": 2,
            "linecolor": "white",
            "showbackground": true,
            "ticks": "",
            "zerolinecolor": "white"
           }
          },
          "shapedefaults": {
           "line": {
            "color": "#2a3f5f"
           }
          },
          "ternary": {
           "aaxis": {
            "gridcolor": "white",
            "linecolor": "white",
            "ticks": ""
           },
           "baxis": {
            "gridcolor": "white",
            "linecolor": "white",
            "ticks": ""
           },
           "bgcolor": "#E5ECF6",
           "caxis": {
            "gridcolor": "white",
            "linecolor": "white",
            "ticks": ""
           }
          },
          "title": {
           "x": 0.05
          },
          "xaxis": {
           "automargin": true,
           "gridcolor": "white",
           "linecolor": "white",
           "ticks": "",
           "title": {
            "standoff": 15
           },
           "zerolinecolor": "white",
           "zerolinewidth": 2
          },
          "yaxis": {
           "automargin": true,
           "gridcolor": "white",
           "linecolor": "white",
           "ticks": "",
           "title": {
            "standoff": 15
           },
           "zerolinecolor": "white",
           "zerolinewidth": 2
          }
         }
        },
        "title": {
         "text": "Sales Heatmap by Day and Hour"
        },
        "xaxis": {
         "anchor": "y",
         "domain": [
          0,
          1
         ],
         "title": {
          "text": "Hour"
         }
        },
        "yaxis": {
         "anchor": "x",
         "categoryarray": [
          "Sunday",
          "Saturday",
          "Friday",
          "Thursday",
          "Wednesday",
          "Tuesday",
          "Monday"
         ],
         "categoryorder": "array",
         "domain": [
          0,
          1
         ],
         "title": {
          "text": "DayOfWeek"
         }
        }
       }
      }
     },
     "metadata": {},
     "output_type": "display_data"
    }
   ],
   "source": [
    "df['Hour'] = pd.to_datetime(df['InvoiceDate']).dt.hour\n",
    "df['DayOfWeek'] = pd.to_datetime(df['InvoiceDate']).dt.day_name()\n",
    "\n",
    "sales_by_time = df.groupby(['DayOfWeek', 'Hour'])['TotalPrice'].sum().reset_index()\n",
    "\n",
    "import plotly.express as px\n",
    "fig = px.density_heatmap(sales_by_time, x='Hour', y='DayOfWeek', z='TotalPrice',\n",
    "                         title='Sales Heatmap by Day and Hour',\n",
    "                         category_orders={'DayOfWeek': ['Monday', 'Tuesday', 'Wednesday', 'Thursday', 'Friday', 'Saturday', 'Sunday']})\n",
    "fig.show()"
   ]
  },
  {
   "cell_type": "markdown",
   "id": "67eff128",
   "metadata": {},
   "source": [
    "### Key Observations\n",
    "- Peak activity occurs on weekdays during mid-morning to early afternoon. Approximately 10am-2pm.\n",
    "- Tuesdays, Wednesdays and Thursdays show strong performance, especially mid-morning. \n",
    "- Weekends, especially Saturdays and early mornings show lower activity, suggesting less engagement during non-working hours. \n",
    "\n",
    "These findings suggest that customer engagement is strongest during weekday business hours, particularly midweek. Promotional campaigns and email marketing may be most effective when scheduled during these peak windows."
   ]
  },
  {
   "cell_type": "markdown",
   "id": "44b30ffd",
   "metadata": {},
   "source": [
    "### Key Takeaways from Exploratory Data Analysis\n",
    "#### Customer Behaviour\n",
    "- Approximately two-thirds of customers are repeat buyers, indicating a strong base of loyal customers.\n",
    "- The top ten most loyal customers placed between 63-209 orders each over the analysis period, with the most loyal customer placing 1431 orders over the same period. \n",
    "- Customer loyalty is heavily concentrated in the UK, but international segments (especially Europe) may offer growth opportunities. \n",
    "\n",
    "#### Product Insights\n",
    "- The top selling products by revenue include core merchandise, such as the Regency 3-tier Cakestand and the Papercraft Little Birdie. \n",
    "- Several non-product items (e.g. postage, gift vouchers and Amazon fees) appeared in the top revenue rankings, and were excluded from product level analysis.\n",
    "- A subset of products were identified as low-volume, high price items. These are likely niche or luxury items, which may require pricing or marketing review. \n",
    "\n",
    "#### Geographic Trends\n",
    "- The UK dominates total revenue, accounting for over £9M in sales. \n",
    "- After excluding the UK, top international markets include Netherlands, Eire and Germany; with significantly lower sales volumes. \n",
    "\n",
    "#### Time-Based Patterns\n",
    "- Sales are heavily concentrated on Weekdays, especially Tuesdays through Thursdays.\n",
    "- The most active shopping window is between 10am and 1pm, with minimal activity during evenings and weekends. \n",
    "- These patterns suggest that the customer base is largely engaged during business hours, which could inform promotional timings. "
   ]
  },
  {
   "cell_type": "code",
   "execution_count": null,
   "id": "7ba18f81",
   "metadata": {},
   "outputs": [],
   "source": []
  }
 ],
 "metadata": {
  "kernelspec": {
   "display_name": ".venv",
   "language": "python",
   "name": "python3"
  },
  "language_info": {
   "codemirror_mode": {
    "name": "ipython",
    "version": 3
   },
   "file_extension": ".py",
   "mimetype": "text/x-python",
   "name": "python",
   "nbconvert_exporter": "python",
   "pygments_lexer": "ipython3",
   "version": "3.12.8"
  }
 },
 "nbformat": 4,
 "nbformat_minor": 5
}
